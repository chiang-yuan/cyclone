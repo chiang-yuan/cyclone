{
 "cells": [
  {
   "cell_type": "code",
   "execution_count": 6,
   "metadata": {},
   "outputs": [],
   "source": [
    "import glob\n",
    "from tqdm.auto import tqdm\n",
    "\n",
    "from pymatgen.io.vasp import Outcar, Poscar\n",
    "import numpy as np\n",
    "\n",
    "from ase import Atoms, units\n",
    "from ase.io import write, read\n",
    "from ase.calculators.singlepoint import SinglePointCalculator"
   ]
  },
  {
   "cell_type": "code",
   "execution_count": 51,
   "metadata": {},
   "outputs": [],
   "source": [
    "\n",
    "def outcar2traj(symbols: list[str] | None, outcar: Outcar, log: bool = False) -> list[Atoms]:\n",
    "\n",
    "    def str2floats(s: str):\n",
    "        return [float(x) for x in s.split()]\n",
    "    \n",
    "    # energy\n",
    "\n",
    "    row_pattern = r'energy without entropy\\s*=\\s*(-?\\d+\\.\\d+)\\s+energy\\(sigma-\\>0\\)\\s*=\\s*(-?\\d+\\.\\d+)'\n",
    "\n",
    "    data = outcar.read_table_pattern(\n",
    "        header_pattern=r'\\s*',\n",
    "        row_pattern=row_pattern,\n",
    "        footer_pattern=r'\\s*',\n",
    "        postprocess=str2floats,\n",
    "        last_one_only=False,\n",
    "        first_one_only=False,\n",
    "    )\n",
    "\n",
    "    data = np.array(data).squeeze()\n",
    "\n",
    "    outcar.data['energy'] = data[:, -1]\n",
    "\n",
    "    # positions and forces\n",
    "\n",
    "    header_pattern = r'^POSITION\\s*TOTAL-FORCE \\(eV\\/Angst\\)\\s*\\n\\s*-+\\s*'\n",
    "    row_pattern = r'\\s*(-?\\d+\\.\\d+\\s+-?\\d+\\.\\d+\\s+-?\\d+\\.\\d+\\s+-?\\d+\\.\\d+\\s+-?\\d+\\.\\d+\\s+-?\\d+\\.\\d+)\\s*'\n",
    "\n",
    "    data = outcar.read_table_pattern(\n",
    "        header_pattern=r'\\s*-+\\s*',\n",
    "        row_pattern=row_pattern,\n",
    "        footer_pattern=r'\\s*-+\\s*',\n",
    "        postprocess=str2floats,\n",
    "        last_one_only=False,\n",
    "        first_one_only=False,\n",
    "    )\n",
    "    data = np.array(data).squeeze()\n",
    "\n",
    "    outcar.data['positions'] = data[:, :, :3]\n",
    "    outcar.data['forces'] = data[:, :, 3:]\n",
    "\n",
    "    # lattice\n",
    "\n",
    "    header_pattern = r'\\s*direct lattice vectors\\s*reciprocal lattice vectors'\n",
    "    row_pattern = r'\\s*(-?\\d+\\.\\d+)\\s*(-?\\d+\\.\\d+)\\s*(-?\\d+\\.\\d+)\\s*(-?\\d+\\.\\d+)\\s*(-?\\d+\\.\\d+)\\s*(-?\\d+\\.\\d+)\\s*'\n",
    "\n",
    "    data = outcar.read_table_pattern(\n",
    "        header_pattern=header_pattern, # r'\\s*-+\\s*',\n",
    "        row_pattern=row_pattern,\n",
    "        footer_pattern=r'\\s*',\n",
    "        postprocess=str2floats,\n",
    "        last_one_only=False,\n",
    "        first_one_only=False,\n",
    "    )\n",
    "    data = np.array(data).squeeze()\n",
    "\n",
    "    outcar.data['lattice'] = data[:, :, :3]\n",
    "\n",
    "    pattern_stress = r'in kB\\s+(-?\\d+\\.\\d+)\\s+(-?\\d+\\.\\d+)\\s+(-?\\d+\\.\\d+)\\s+(-?\\d+\\.\\d+)\\s+(-?\\d+\\.\\d+)\\s+(-?\\d+\\.\\d+)'\n",
    "\n",
    "    outcar.read_pattern({\n",
    "        \"stress\": pattern_stress,\n",
    "    })\n",
    "\n",
    "    outcar.data['stress'] = np.array(outcar.data['stress'], dtype=np.float32) * -1e-1 * units.GPa\n",
    "\n",
    "    nsteps = min(outcar.data['positions'].shape[0], outcar.data['energy'].shape[0], outcar.data['forces'].shape[0], outcar.data['stress'].shape[0], outcar.data['lattice'].shape[0])\n",
    "\n",
    "    outcar.data['positions'] = outcar.data['positions'][:nsteps]\n",
    "    outcar.data['energy'] = outcar.data['energy'][:nsteps]\n",
    "    outcar.data['forces'] = outcar.data['forces'][:nsteps]\n",
    "    outcar.data['stress'] = outcar.data['stress'][:nsteps]\n",
    "    outcar.data['lattice'] = outcar.data['lattice'][:nsteps]\n",
    "\n",
    "    if log:\n",
    "        print('nsteps', nsteps)\n",
    "        print('energy', outcar.data['energy'].shape)\n",
    "        print('positions', outcar.data['positions'].shape)\n",
    "        print('forces', outcar.data['forces'].shape)\n",
    "        print('stress', outcar.data['stress'].shape)\n",
    "        print('lattice', outcar.data['lattice'].shape)\n",
    "\n",
    "    traj = []\n",
    "    \n",
    "    # for positions, forces, stress in zip(outcar.data['positions'], outcar.data['forces'], outcar.data['stress']):\n",
    "    for frame in zip(outcar.data['positions'],\n",
    "                     outcar.data['energy'],\n",
    "                     outcar.data['forces'], \n",
    "                     outcar.data['stress'],\n",
    "                     outcar.data['lattice']):\n",
    "        \n",
    "        positions, energy, forces, stress, lattice = frame\n",
    "\n",
    "        atoms = Atoms(\n",
    "            symbols=symbols,\n",
    "            positions=positions, \n",
    "            cell=lattice,\n",
    "            pbc=True,\n",
    "        )\n",
    "\n",
    "        calc = SinglePointCalculator(atoms, energy=energy, forces=forces, stress=stress)\n",
    "        atoms.calc = calc\n",
    "\n",
    "        traj.append(atoms)\n",
    "\n",
    "    return traj"
   ]
  },
  {
   "cell_type": "code",
   "execution_count": 52,
   "metadata": {},
   "outputs": [
    {
     "name": "stdout",
     "output_type": "stream",
     "text": [
      "nsteps 9\n",
      "energy (9,)\n",
      "positions (9, 72, 3)\n",
      "forces (9, 72, 3)\n",
      "stress (9, 6)\n",
      "lattice (9, 3, 3)\n"
     ]
    }
   ],
   "source": [
    "outcar = Outcar('OUTCAR.gz')\n",
    "\n",
    "traj = outcar2traj(None, outcar, log=True)"
   ]
  },
  {
   "cell_type": "code",
   "execution_count": 54,
   "metadata": {},
   "outputs": [
    {
     "data": {
      "text/plain": [
       "Atoms(symbols='X72', pbc=True, cell=[[25.427844466, -6.896715133, -4.77193617], [0.0, 13.530737977, 11.616758458], [-0.0, -0.0, 14.069482811]], calculator=SinglePointCalculator(...))"
      ]
     },
     "execution_count": 54,
     "metadata": {},
     "output_type": "execute_result"
    }
   ],
   "source": [
    "traj[0]"
   ]
  },
  {
   "cell_type": "code",
   "execution_count": null,
   "metadata": {},
   "outputs": [],
   "source": []
  }
 ],
 "metadata": {
  "kernelspec": {
   "display_name": "Python 3",
   "language": "python",
   "name": "python3"
  },
  "language_info": {
   "codemirror_mode": {
    "name": "ipython",
    "version": 3
   },
   "file_extension": ".py",
   "mimetype": "text/x-python",
   "name": "python",
   "nbconvert_exporter": "python",
   "pygments_lexer": "ipython3",
   "version": "3.11.5"
  }
 },
 "nbformat": 4,
 "nbformat_minor": 2
}
