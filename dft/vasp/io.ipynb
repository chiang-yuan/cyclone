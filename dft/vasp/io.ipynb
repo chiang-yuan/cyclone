{
 "cells": [
  {
   "cell_type": "code",
   "execution_count": 1,
   "metadata": {},
   "outputs": [],
   "source": [
    "from pymatgen.io.vasp import Outcar\n",
    "import numpy as np\n",
    "\n",
    "outcar = Outcar('OUTCAR.gz')\n",
    "\n",
    "pattern_stress = r'Total\\s+(-?\\d+\\.\\d+)\\s+(-?\\d+\\.\\d+)\\s+(-?\\d+\\.\\d+)\\s+(-?\\d+\\.\\d+)\\s+(-?\\d+\\.\\d+)\\s+(-?\\d+\\.\\d+)'\n",
    "\n",
    "outcar.read_pattern({\n",
    "    \"stress\": pattern_stress,\n",
    "})\n",
    "\n",
    "outcar.data['stress'] = np.array(outcar.data['stress'])\n",
    "\n",
    "header_pattern = r'^POSITION\\s+TOTAL-FORCE \\(eV\\/Angst\\)\\s*\\n\\s*-+\\s*\\n'\n",
    "row_pattern = r'\\s*(-?\\d+\\.\\d+\\s+-?\\d+\\.\\d+\\s+-?\\d+\\.\\d+\\s+-?\\d+\\.\\d+\\s+-?\\d+\\.\\d+\\s+-?\\d+\\.\\d+)\\s*'\n",
    "\n",
    "def str2floats(s: str):\n",
    "    return [float(x) for x in s.split()]\n",
    "\n",
    "data = outcar.read_table_pattern(\n",
    "    header_pattern=r'\\s*-+\\s*',\n",
    "    row_pattern=row_pattern,\n",
    "    footer_pattern=r'\\s*-+\\s*',\n",
    "    postprocess=str2floats,\n",
    "    last_one_only=False,\n",
    "    first_one_only=False,\n",
    ")\n",
    "data = np.array(data).squeeze()\n",
    "\n",
    "outcar.data['forces'] = data[:, :, 3:]\n",
    "outcar.data['positions'] = data[:, :, :3]"
   ]
  },
  {
   "cell_type": "code",
   "execution_count": 2,
   "metadata": {},
   "outputs": [
    {
     "name": "stdout",
     "output_type": "stream",
     "text": [
      "positions (9, 72, 3)\n",
      "forces (9, 72, 3)\n",
      "stress (9, 6)\n"
     ]
    }
   ],
   "source": [
    "print('positions', outcar.data['positions'].shape)\n",
    "print('forces', outcar.data['forces'].shape)\n",
    "print('stress', outcar.data['stress'].shape)"
   ]
  },
  {
   "cell_type": "code",
   "execution_count": null,
   "metadata": {},
   "outputs": [],
   "source": []
  }
 ],
 "metadata": {
  "kernelspec": {
   "display_name": "Python 3",
   "language": "python",
   "name": "python3"
  },
  "language_info": {
   "codemirror_mode": {
    "name": "ipython",
    "version": 3
   },
   "file_extension": ".py",
   "mimetype": "text/x-python",
   "name": "python",
   "nbconvert_exporter": "python",
   "pygments_lexer": "ipython3",
   "version": "3.11.9"
  }
 },
 "nbformat": 4,
 "nbformat_minor": 2
}
