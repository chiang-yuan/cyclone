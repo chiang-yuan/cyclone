{
 "cells": [
  {
   "cell_type": "code",
   "execution_count": 274,
   "metadata": {},
   "outputs": [
    {
     "name": "stderr",
     "output_type": "stream",
     "text": [
      "/Users/la-cyrusyc/miniconda3/envs/dev/lib/python3.12/site-packages/tqdm/auto.py:21: TqdmWarning: IProgress not found. Please update jupyter and ipywidgets. See https://ipywidgets.readthedocs.io/en/stable/user_install.html\n",
      "  from .autonotebook import tqdm as notebook_tqdm\n"
     ]
    }
   ],
   "source": [
    "from sympy.physics.quantum.state import Bra, Ket\n",
    "from sympy.physics.quantum.dagger import Dagger\n",
    "from sympy.physics.quantum import qapply, Bra, Ket\n",
    "from sympy.matrices import Matrix\n",
    "from sympy import expand, symbols, exp, I, re, cos, sin, pi\n",
    "import numpy as np\n",
    "from scipy import stats\n",
    "from scipy.interpolate import interp1d\n",
    "\n",
    "from matplotlib import pyplot as plt\n",
    "\n",
    "from tqdm.auto import tqdm"
   ]
  },
  {
   "cell_type": "markdown",
   "metadata": {},
   "source": [
    "2. (a)"
   ]
  },
  {
   "cell_type": "markdown",
   "metadata": {},
   "source": [
    "**1D nanotube/wire**"
   ]
  },
  {
   "cell_type": "code",
   "execution_count": 184,
   "metadata": {},
   "outputs": [],
   "source": [
    "sa, sb, sc, sd = Ket(\"SA\"), Ket(\"SB\"), Ket(\"SC\"), Ket(\"SD\")\n",
    "\n",
    "Phi = Matrix(\n",
    "    [\n",
    "        0.5 * (sa + sd + sc + sb),\n",
    "        0.5 * (sa - I * sd - sc + I * sb),\n",
    "        0.5 * (sa - sd + sc - sb),\n",
    "        0.5 * (sa + I * sd - sc - I * sb),\n",
    "    ]\n",
    ").T\n",
    "\n",
    "Phi = expand(Phi)\n"
   ]
  },
  {
   "cell_type": "code",
   "execution_count": 185,
   "metadata": {},
   "outputs": [],
   "source": [
    "# inner product of bras and kets\n",
    "h = Phi.applyfunc(lambda i: Dagger(i)).T * Phi\n",
    "# sympy syntax to apply quantum operation\n",
    "h = h.applyfunc(lambda i: qapply(expand(i)).doit())"
   ]
  },
  {
   "cell_type": "code",
   "execution_count": 186,
   "metadata": {},
   "outputs": [],
   "source": [
    "H = h\n",
    "Es = symbols(\"Es\", real=True)\n",
    "Ep = symbols(\"Ep\", real=True)\n",
    "sss = symbols(r\"ss\\sigma\", real=True)\n",
    "sps = symbols(r\"sp\\sigma\", real=True)\n",
    "pps = symbols(r\"ps\\sigma\", real=True)\n",
    "ppp = symbols(r\"pp\\pi\", real=True)\n",
    "\n",
    "# atomic orbital basis\n",
    "orbitals = [sa, sb, sc, sd]\n",
    "\n",
    "circle = \"ABCD\"\n",
    "\n",
    "order = len(circle)\n",
    "\n",
    "# repalce predefined inner products of bras and kets\n",
    "for oi in orbitals:\n",
    "    for oj in orbitals:\n",
    "        if oi == oj and oi in [sa, sb, sc, sd]:\n",
    "            H = H.subs(oi.dual * oj, Es)\n",
    "            continue\n",
    "\n",
    "        stri, strj = str(oi), str(oj)\n",
    "\n",
    "        i = circle.index(stri[2])\n",
    "        j = circle.index(strj[2])\n",
    "\n",
    "        dist = min((i - j) % order, (j - i) % order)\n",
    "\n",
    "        if dist == 2:\n",
    "            H = H.subs(oi.dual * oj, 0)\n",
    "            continue\n",
    "        if dist == 0 and oi != oj:\n",
    "            H = H.subs(oi.dual * oj, 0)\n",
    "            continue\n",
    "\n",
    "        if stri[1] == \"S\" and strj[1] == \"S\":\n",
    "            H = H.subs(oi.dual * oj, sss)\n",
    "            continue"
   ]
  },
  {
   "cell_type": "markdown",
   "metadata": {},
   "source": [
    "$$\\left|\\Phi^k \\right \\rangle = \\frac{1}{\\sqrt{L}} \\sum_{u=0}^{L-1} e^{-i \\frac{2\\pi}{L}j u} \\left|\\phi_{L-u}\\right\\rangle = \\frac{1}{\\sqrt{L}} \\sum_{u=0}^{L-1} e^{-i k ua}\\left|\\phi_{L-u}\\right\\rangle$$ "
   ]
  },
  {
   "cell_type": "code",
   "execution_count": 290,
   "metadata": {},
   "outputs": [],
   "source": [
    "a = symbols('a', real=True)\n",
    "k = symbols('k', real=True)\n",
    "\n",
    "Hk_wire = H.as_mutable()\n",
    "\n",
    "Hk_wire[0, 0] +=  2*sss*cos(k*a)\n",
    "Hk_wire[1, 1] +=  1/2*sss*cos(k*a)\n",
    "Hk_wire[3, 3] +=  1/2*sss*cos(k*a)\n"
   ]
  },
  {
   "cell_type": "code",
   "execution_count": 291,
   "metadata": {},
   "outputs": [
    {
     "data": {
      "text/latex": [
       "$\\displaystyle \\left[\\begin{matrix}1.0 Es + 2 ss\\sigma \\cos{\\left(a k \\right)} + 2.0 ss\\sigma & 0 & 0 & 0\\\\0 & 1.0 Es + 0.5 ss\\sigma \\cos{\\left(a k \\right)} & 0 & 0\\\\0 & 0 & 1.0 Es - 2.0 ss\\sigma & 0\\\\0 & 0 & 0 & 1.0 Es + 0.5 ss\\sigma \\cos{\\left(a k \\right)}\\end{matrix}\\right]$"
      ],
      "text/plain": [
       "Matrix([\n",
       "[1.0*Es + 2*ss\\sigma*cos(a*k) + 2.0*ss\\sigma,                              0,                     0,                              0],\n",
       "[                                          0, 1.0*Es + 0.5*ss\\sigma*cos(a*k),                     0,                              0],\n",
       "[                                          0,                              0, 1.0*Es - 2.0*ss\\sigma,                              0],\n",
       "[                                          0,                              0,                     0, 1.0*Es + 0.5*ss\\sigma*cos(a*k)]])"
      ]
     },
     "execution_count": 291,
     "metadata": {},
     "output_type": "execute_result"
    }
   ],
   "source": [
    "Hk_wire"
   ]
  },
  {
   "cell_type": "code",
   "execution_count": 292,
   "metadata": {},
   "outputs": [
    {
     "data": {
      "text/latex": [
       "$\\displaystyle \\left[\\begin{matrix}- 2.0 \\cos{\\left(1.2 k \\right)} - 2.0 & 0 & 0 & 0\\\\0 & - 0.5 \\cos{\\left(1.2 k \\right)} & 0 & 0\\\\0 & 0 & 2.0 & 0\\\\0 & 0 & 0 & - 0.5 \\cos{\\left(1.2 k \\right)}\\end{matrix}\\right]$"
      ],
      "text/plain": [
       "Matrix([\n",
       "[-2.0*cos(1.2*k) - 2.0,               0,   0,               0],\n",
       "[                    0, -0.5*cos(1.2*k),   0,               0],\n",
       "[                    0,               0, 2.0,               0],\n",
       "[                    0,               0,   0, -0.5*cos(1.2*k)]])"
      ]
     },
     "execution_count": 292,
     "metadata": {},
     "output_type": "execute_result"
    }
   ],
   "source": [
    "r = symbols(\"r\", real=True)\n",
    "n = 2.00\n",
    "nc = 6.5\n",
    "rc = 2.18\n",
    "ro = 1.536\n",
    "ao = 1.2\n",
    "betar = (ro / r) ** n * exp(n * (-((r / rc) ** nc) + (ro / rc) ** nc))\n",
    "\n",
    "betar = betar.subs(r, ao)\n",
    "\n",
    "Hk_wire = Hk_wire.subs(\n",
    "    [\n",
    "        (Es, 0),\n",
    "        # (Ep, 3.71),\n",
    "        (sss, -5.00 * betar),\n",
    "        # (sps, 4.70 * betar),\n",
    "        # (pps, 5.50 * betar),\n",
    "        # (ppp, -1.55 * betar),\n",
    "    ]\n",
    ")\n",
    "\n",
    "Hk_wire = Hk_wire.subs(\n",
    "    [\n",
    "        # (r, ao),\n",
    "        (a, ao)\n",
    "    ]\n",
    ") / abs(sss.subs(sss, -5.00 * betar))\n",
    "\n",
    "Hk_wire"
   ]
  },
  {
   "cell_type": "code",
   "execution_count": 293,
   "metadata": {},
   "outputs": [
    {
     "data": {
      "text/plain": [
       "True"
      ]
     },
     "execution_count": 293,
     "metadata": {},
     "output_type": "execute_result"
    }
   ],
   "source": [
    "G = 0\n",
    "X = pi/a.subs(a, ao)\n",
    "\n",
    "npts = int(1e3)\n",
    "\n",
    "# bandstructure\n",
    "xs = np.linspace(0, 1, npts)\n",
    "ks = np.linspace(G, float(X), npts)\n",
    "\n",
    "kes = []\n",
    "\n",
    "for ki in ks:\n",
    "    Hsub = Hk_wire.subs(k, ki)\n",
    "    kes.append([ki, float(Hsub[0, 0])])\n",
    "    kes.append([ki, float(Hsub[1, 1])])\n",
    "    kes.append([ki, float(Hsub[2, 2])])\n",
    "    kes.append([ki, float(Hsub[3, 3])])\n",
    "\n",
    "kes = np.array(kes)\n",
    "\n",
    "# dos\n",
    "\n",
    "L = int(2e3) - 1\n",
    "ks = np.linspace(-float(X), float(X), L, endpoint=False)\n",
    "\n",
    "KES = []\n",
    "\n",
    "for ki in ks:\n",
    "    Hsub = Hk_wire.subs(k, ki)\n",
    "    KES.append([ki, float(Hsub[0, 0])])\n",
    "    KES.append([ki, float(Hsub[1, 1])])\n",
    "    KES.append([ki, float(Hsub[2, 2])])\n",
    "    KES.append([ki, float(Hsub[3, 3])])\n",
    "\n",
    "\n",
    "KES = np.array(KES)\n",
    "KES[:, 1] = KES[:, 1]\n",
    "emin, emax = KES[:, 1].min(), KES[:, 1].max()\n",
    "erange = emax - emin\n",
    "bins = np.linspace(emin - erange*0.05, emax + erange*0.05, int(200))\n",
    "dos, bins = np.histogram(KES[:, 1], bins=bins)\n",
    "\n",
    "bin_centers =  (bins[1:]+bins[:-1])*0.5\n",
    "bin_widths = np.diff(bins)\n",
    "\n",
    "dos = dos * 2 / L / bin_widths / 4\n",
    "\n",
    "# sanity check\n",
    "\n",
    "np.isclose(np.trapz(dos, bin_centers), 2)"
   ]
  },
  {
   "cell_type": "code",
   "execution_count": 294,
   "metadata": {},
   "outputs": [
    {
     "data": {
      "image/png": "[encoded data removed]",
      "text/plain": [
       "<Figure size 640x480 with 2 Axes>"
      ]
     },
     "metadata": {},
     "output_type": "display_data"
    },
    {
     "name": "stdout",
     "output_type": "stream",
     "text": [
      "Normalized moment (0): 1.0\n",
      "Normalized moment (1): -0.003912689645290588\n",
      "Normalized moment (2): 2.5470100396022985\n",
      "Normalized moment (3): -3.0414295967265508\n",
      "Normalized moment (4): 21.373185197368525\n"
     ]
    }
   ],
   "source": [
    "\n",
    "\n",
    "with plt.style.context('default'):\n",
    "    \n",
    "    LINE_WIDTH = 2\n",
    "\n",
    "    fig, ax = plt.subplot_mosaic(\"\"\"\n",
    "                                 ab\n",
    "                                 \"\"\", \n",
    "                                 sharey=True,\n",
    "                                 width_ratios=[1, 0.5],\n",
    "                                 constrained_layout=True)\n",
    "    \n",
    "    i = 'a'\n",
    "\n",
    "    ax[i].scatter(kes[:, 0], kes[:, 1], s=0.25*LINE_WIDTH)\n",
    "\n",
    "    ax[i].set(\n",
    "        xlabel='k',\n",
    "        xlim=(kes[:, 0].min(), kes[:, 0].max()),\n",
    "        ylabel='E [$ss\\\\sigma$]'\n",
    "    )\n",
    "\n",
    "    i = 'b'\n",
    "\n",
    "    ax[i].plot(dos, bin_centers, lw=LINE_WIDTH)\n",
    "\n",
    "    xlo, xhi = ax[i].get_xlim()\n",
    "    ax[i].set(\n",
    "        xlabel='DOS',\n",
    "        xlim=(0, 0.5*xhi),\n",
    "    )\n",
    "    \n",
    "    plt.show()\n",
    "\n",
    "for n in range(5):\n",
    "    print(f\"Normalized moment ({n}):\", (dos * bin_centers**n).sum() / dos.sum())\n",
    "\n",
    "dos_wire = dos\n",
    "bin_wire = bin_centers"
   ]
  },
  {
   "cell_type": "markdown",
   "metadata": {},
   "source": [
    "**2D crystal**"
   ]
  },
  {
   "cell_type": "code",
   "execution_count": 283,
   "metadata": {},
   "outputs": [
    {
     "data": {
      "text/latex": [
       "$\\displaystyle - 2.0 \\cos{\\left(a k \\right)} - 2.0 \\cos{\\left(b k \\right)}$"
      ],
      "text/plain": [
       "-2.0*cos(a*k) - 2.0*cos(b*k)"
      ]
     },
     "execution_count": 283,
     "metadata": {},
     "output_type": "execute_result"
    }
   ],
   "source": [
    "\n",
    "k = symbols(\"k\")\n",
    "a, b = symbols(\"a, b\")\n",
    "\n",
    "Hk_plane = Es + 2*sss*(cos(k*a) + cos(k*b))\n",
    "\n",
    "Hk_plane = Hk_plane.subs(\n",
    "    [\n",
    "        (Es, 0),\n",
    "        (sss, -4 * betar),\n",
    "    ]\n",
    ") / abs(sss.subs(sss, -4 * betar))\n",
    "\n",
    "Hk_plane"
   ]
  },
  {
   "cell_type": "code",
   "execution_count": 284,
   "metadata": {},
   "outputs": [
    {
     "name": "stderr",
     "output_type": "stream",
     "text": [
      "100%|██████████| 40000/40000 [00:09<00:00, 4184.35it/s]\n"
     ]
    },
    {
     "data": {
      "text/plain": [
       "True"
      ]
     },
     "execution_count": 284,
     "metadata": {},
     "output_type": "execute_result"
    }
   ],
   "source": [
    "\n",
    "# bandstructure\n",
    "G = [0, 0]\n",
    "X = np.array([np.pi, 0])/ao\n",
    "M = np.array([np.pi, np.pi])/ao\n",
    "\n",
    "npts = int(1e3)\n",
    "\n",
    "ks = np.concatenate(\n",
    "    (\n",
    "        np.linspace(G, X, npts, endpoint=False), \n",
    "        np.linspace(X, M, npts, endpoint=False),\n",
    "        np.linspace(M, G, npts, endpoint=True)\n",
    "    ), \n",
    "    axis=0\n",
    ")\n",
    "\n",
    "kes = []\n",
    "path = 0\n",
    "\n",
    "kpre = ks[0][0]*R.i + ks[0][1]*R.j\n",
    "\n",
    "for ki in ks:\n",
    "\n",
    "    ksub = ki[0]*R.i + ki[1]*R.j\n",
    "    Hsub = Hk_plane.subs(\n",
    "        [\n",
    "            (k*a, ksub&-R.j),\n",
    "            (k*b, ksub&R.i)\n",
    "        ]\n",
    "    )\n",
    "\n",
    "    path += float((ksub - kpre).magnitude())\n",
    "    kpre = ksub\n",
    "\n",
    "    kes.append([path, float(Hsub)])\n",
    "    \n",
    "kes = np.array(kes)\n",
    "\n",
    "# dos\n",
    "\n",
    "L = int(2e2)\n",
    "\n",
    "kas, kbs = np.meshgrid(\n",
    "    np.linspace(-np.pi/ao, np.pi/ao, L, endpoint=False),\n",
    "    np.linspace(-np.pi/ao, np.pi/ao, L, endpoint=False)\n",
    ")\n",
    "\n",
    "ks = np.stack((kas, kbs), axis=-1).reshape(-1, 2)\n",
    "\n",
    "KES = []\n",
    "\n",
    "for ki in tqdm(ks):\n",
    "    ksub = ki[0]*R.i + ki[1]*R.j\n",
    "    Hsub = Hk_plane.subs(\n",
    "        [\n",
    "            (k*a, ksub&-R.j),\n",
    "            (k*b, ksub&R.i)\n",
    "        ]\n",
    "    )\n",
    "    KES.append(float(Hsub))\n",
    "\n",
    "KES = np.array(KES)\n",
    "emin, emax = KES.min(), KES.max()\n",
    "erange = emax - emin\n",
    "bins = np.linspace(emin - erange*0.05, emax + erange*0.05, int(200))\n",
    "dos, bins = np.histogram(KES, bins=bins)\n",
    "\n",
    "bin_centers =  (bins[1:]+bins[:-1])*0.5\n",
    "bin_widths = np.diff(bins)\n",
    "\n",
    "dos = dos * 2 / (L**2) / bin_widths / 1\n",
    "\n",
    "# sanity check\n",
    "\n",
    "np.isclose(np.trapz(dos, bin_centers), 2)"
   ]
  },
  {
   "cell_type": "code",
   "execution_count": 289,
   "metadata": {},
   "outputs": [
    {
     "data": {
      "image/png": "[encoded data removed]",
      "text/plain": [
       "<Figure size 640x480 with 2 Axes>"
      ]
     },
     "metadata": {},
     "output_type": "display_data"
    },
    {
     "name": "stdout",
     "output_type": "stream",
     "text": [
      "Normalized moment (0): 1.0\n",
      "Normalized moment (1): -0.7639548732178024\n",
      "Normalized moment (2): 3.628812499680652\n",
      "Normalized moment (3): -6.624205165857822\n",
      "Normalized moment (4): 29.998001697893876\n"
     ]
    }
   ],
   "source": [
    "with plt.style.context('default'):\n",
    "    \n",
    "    LINE_WIDTH = 2\n",
    "\n",
    "    fig, ax = plt.subplot_mosaic(\"\"\"\n",
    "                                 ab\n",
    "                                 \"\"\", \n",
    "                                 sharey=True,\n",
    "                                 width_ratios=[1, 0.5],\n",
    "                                 constrained_layout=True)\n",
    "    \n",
    "    i = 'a'\n",
    "\n",
    "    ax[i].scatter(kes[:, 0], kes[:, 1], s=0.25*LINE_WIDTH)\n",
    "\n",
    "    ax[i].set(\n",
    "        xlabel='k',\n",
    "        xlim=(kes[:, 0].min(), kes[:, 0].max()),\n",
    "        ylabel='E [$ss\\\\sigma$]'\n",
    "    )\n",
    "\n",
    "    i = 'b'\n",
    "\n",
    "    ax[i].plot(dos, bin_centers, lw=LINE_WIDTH)\n",
    "\n",
    "    xlo, xhi = ax[i].get_xlim()\n",
    "    ax[i].set(\n",
    "        xlabel='DOS',\n",
    "        xlim=(0, xhi),\n",
    "    )\n",
    "    \n",
    "    plt.show()\n",
    "\n",
    "for n in range(5):\n",
    "    print(f\"Normalized moment ({n}):\", (dos * bin_centers**n).sum() / dos.sum())\n",
    "dos_plane = dos\n",
    "bin_plane = bin_centers"
   ]
  },
  {
   "cell_type": "markdown",
   "metadata": {},
   "source": [
    "We can see that the shapes and characteristics of the density of states look different for 1D wire and 2D plane. 1D wire usually has multiple jumps followed by tails. This is observed in the DOS of wire. 2D crystal is characterized by the sudden jump in the DOS as well but followed by pleateu or satuation instead of depletion. There are called van Hove singularities and could be used to classify the dimensionality of the systems."
   ]
  },
  {
   "cell_type": "code",
   "execution_count": 315,
   "metadata": {},
   "outputs": [
    {
     "data": {
      "image/png": "[encoded data removed]",
      "text/plain": [
       "<Figure size 640x480 with 1 Axes>"
      ]
     },
     "metadata": {},
     "output_type": "display_data"
    }
   ],
   "source": [
    "\n",
    "\n",
    "\n",
    "with plt.style.context('default'):\n",
    "    \n",
    "    LINE_WIDTH = 2\n",
    "\n",
    "    fig, ax = plt.subplot_mosaic(\"\"\"\n",
    "                                 a\n",
    "                                 b\n",
    "                                 \"\"\", \n",
    "                                 sharex=True,\n",
    "                                 constrained_layout=True)\n",
    "    \n",
    "    iax = 'a'\n",
    "\n",
    "    x, y = [], []\n",
    "    for i in range(len(dos_plane)):\n",
    "        nelec = np.trapz(dos_plane[:i], bin_plane[:i])\n",
    "        energy = np.sum(dos_plane[:i] * bin_plane[:i])\n",
    "        x.append(nelec)\n",
    "        y.append(energy)\n",
    "    \n",
    "    ax[iax].plot(x, y, 'o', label='plane', lw=LINE_WIDTH, ms=0.5*LINE_WIDTH)\n",
    "\n",
    "    x, y = [], []\n",
    "    for i in range(len(dos_wire)):\n",
    "        nelec = np.trapz(dos_wire[:i], bin_wire[:i])\n",
    "        energy = np.sum(dos_wire[:i] * bin_wire[:i])\n",
    "        x.append(nelec)\n",
    "        y.append(energy)\n",
    "    \n",
    "    ax[iax].plot(x, y, 'o', label='wire', lw=LINE_WIDTH, ms=0.5*LINE_WIDTH)\n",
    "    # ax[i].plot(x, be_rot_all, '-o', label='rotated')\n",
    "\n",
    "    # ax[i].axvline(12, ls='--', c='k')\n",
    "\n",
    "    ax[iax].legend()\n",
    "    ax[iax].set(\n",
    "        xlabel='number of electrons / atom',\n",
    "        ylabel='$E_\\\\text{bond} / atom$'\n",
    "    )\n",
    "\n",
    "    # iax = 'b'\n",
    "\n",
    "    # ax[iax].plot(dos_plane, bin_plane, label='plane', lw=LINE_WIDTH)\n",
    "\n",
    "    plt.show()"
   ]
  },
  {
   "cell_type": "markdown",
   "metadata": {},
   "source": [
    "If the moments are equal up to the second moments for two systems, the band energy curves are expected to croass at least one times according to moments theorem. As the third moments are drastically different, once we apply equility of second moments, we could say that the curves are equivalent up to second moments and will cross at least one time. \n",
    "\n",
    "This is consistent with the above bond energy curves as a function of electron occupancy. "
   ]
  },
  {
   "cell_type": "markdown",
   "metadata": {},
   "source": []
  }
 ],
 "metadata": {
  "kernelspec": {
   "display_name": "dev",
   "language": "python",
   "name": "python3"
  },
  "language_info": {
   "codemirror_mode": {
    "name": "ipython",
    "version": 3
   },
   "file_extension": ".py",
   "mimetype": "text/x-python",
   "name": "python",
   "nbconvert_exporter": "python",
   "pygments_lexer": "ipython3",
   "version": "3.12.3"
  }
 },
 "nbformat": 4,
 "nbformat_minor": 2
}
