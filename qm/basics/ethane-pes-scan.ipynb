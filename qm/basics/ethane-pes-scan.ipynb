{
 "cells": [
  {
   "cell_type": "code",
   "execution_count": 41,
   "id": "ea1de4fa-b290-4ef8-b7fb-4a32b1fa812e",
   "metadata": {},
   "outputs": [],
   "source": [
    "from ase.build import molecule\n",
    "from mace.calculators import mace_mp"
   ]
  },
  {
   "cell_type": "code",
   "execution_count": 85,
   "id": "0a279e79-9e0c-4d26-8012-168fc7519ce8",
   "metadata": {},
   "outputs": [],
   "source": [
    "ethane_stagggered = molecule('C2H6')\n",
    "ethane_eclipsed = ethane_stagggered.copy()\n",
    "ethane_eclipsed.rotate_dihedral(0, 2, 1, 5, angle=60, indices=[5, 6, 7])"
   ]
  },
  {
   "cell_type": "code",
   "execution_count": 86,
   "id": "9f2914fb-d93a-4b37-982d-b855eb98f6bb",
   "metadata": {},
   "outputs": [
    {
     "data": {
      "text/html": [
       "<html>\n",
       "    <head>\n",
       "        <title>ASE atomic visualization</title>\n",
       "        <link rel=\"stylesheet\" type=\"text/css\"             href=\"https://www.x3dom.org/release/x3dom.css\"></link>\n",
       "        <script type=\"text/javascript\"             src=\"https://www.x3dom.org/release/x3dom.js\"></script>\n",
       "    </head>\n",
       "    <body>\n",
       "        <X3D width=\"400px\"; height=\"300px\";>\n",
       "\n",
       "<!--Inserting Generated X3D Scene-->\n",
       "<scene>\n",
       "  <viewpoint position=\"0 0 4.628916\">\n",
       "    <group/>\n",
       "  </viewpoint>\n",
       "  <transform translation=\"-0.0 -0.0 -0.0\">\n",
       "    <group>\n",
       "      <group>\n",
       "        <transform translation=\"0 0 0\">\n",
       "          <shape>\n",
       "            <appearance>\n",
       "              <material diffuseColor=\"0 0 0\"/>\n",
       "            </appearance>\n",
       "            <lineset vertexCount=\"5\">\n",
       "              <coordinate point=\"0 0 0 0.0 0.0 0.0 0.0 0.0 0.0 0.0 0.0 0.0 0 0 0\"/>\n",
       "            </lineset>\n",
       "          </shape>\n",
       "        </transform>\n",
       "        <transform translation=\"0.0 0.0 0.0\">\n",
       "          <shape>\n",
       "            <appearance>\n",
       "              <material diffuseColor=\"0 0 0\"/>\n",
       "            </appearance>\n",
       "            <lineset vertexCount=\"5\">\n",
       "              <coordinate point=\"0 0 0 0.0 0.0 0.0 0.0 0.0 0.0 0.0 0.0 0.0 0 0 0\"/>\n",
       "            </lineset>\n",
       "          </shape>\n",
       "        </transform>\n",
       "        <transform translation=\"0 0 0\">\n",
       "          <shape>\n",
       "            <appearance>\n",
       "              <material diffuseColor=\"0 0 0\"/>\n",
       "            </appearance>\n",
       "            <lineset vertexCount=\"5\">\n",
       "              <coordinate point=\"0 0 0 0.0 0.0 0.0 0.0 0.0 0.0 0.0 0.0 0.0 0 0 0\"/>\n",
       "            </lineset>\n",
       "          </shape>\n",
       "        </transform>\n",
       "        <transform translation=\"0.0 0.0 0.0\">\n",
       "          <shape>\n",
       "            <appearance>\n",
       "              <material diffuseColor=\"0 0 0\"/>\n",
       "            </appearance>\n",
       "            <lineset vertexCount=\"5\">\n",
       "              <coordinate point=\"0 0 0 0.0 0.0 0.0 0.0 0.0 0.0 0.0 0.0 0.0 0 0 0\"/>\n",
       "            </lineset>\n",
       "          </shape>\n",
       "        </transform>\n",
       "      </group>\n",
       "      <group>\n",
       "        <transform translation=\"0.0 0.0 0.762209\">\n",
       "          <shape>\n",
       "            <appearance>\n",
       "              <material diffuseColor=\"0.565 0.565 0.565\"/>\n",
       "            </appearance>\n",
       "            <sphere radius=\"0.76\"/>\n",
       "          </shape>\n",
       "        </transform>\n",
       "        <transform translation=\"0.0 0.0 -0.762209\">\n",
       "          <shape>\n",
       "            <appearance>\n",
       "              <material diffuseColor=\"0.565 0.565 0.565\"/>\n",
       "            </appearance>\n",
       "            <sphere radius=\"0.76\"/>\n",
       "          </shape>\n",
       "        </transform>\n",
       "        <transform translation=\"0.0 1.018957 1.157229\">\n",
       "          <shape>\n",
       "            <appearance>\n",
       "              <material diffuseColor=\"1.0 1.0 1.0\"/>\n",
       "            </appearance>\n",
       "            <sphere radius=\"0.31\"/>\n",
       "          </shape>\n",
       "        </transform>\n",
       "        <transform translation=\"-0.882443 -0.509479 1.157229\">\n",
       "          <shape>\n",
       "            <appearance>\n",
       "              <material diffuseColor=\"1.0 1.0 1.0\"/>\n",
       "            </appearance>\n",
       "            <sphere radius=\"0.31\"/>\n",
       "          </shape>\n",
       "        </transform>\n",
       "        <transform translation=\"0.882443 -0.509479 1.157229\">\n",
       "          <shape>\n",
       "            <appearance>\n",
       "              <material diffuseColor=\"1.0 1.0 1.0\"/>\n",
       "            </appearance>\n",
       "            <sphere radius=\"0.31\"/>\n",
       "          </shape>\n",
       "        </transform>\n",
       "        <transform translation=\"0.0 -1.018957 -1.157229\">\n",
       "          <shape>\n",
       "            <appearance>\n",
       "              <material diffuseColor=\"1.0 1.0 1.0\"/>\n",
       "            </appearance>\n",
       "            <sphere radius=\"0.31\"/>\n",
       "          </shape>\n",
       "        </transform>\n",
       "        <transform translation=\"-0.882443 0.509479 -1.157229\">\n",
       "          <shape>\n",
       "            <appearance>\n",
       "              <material diffuseColor=\"1.0 1.0 1.0\"/>\n",
       "            </appearance>\n",
       "            <sphere radius=\"0.31\"/>\n",
       "          </shape>\n",
       "        </transform>\n",
       "        <transform translation=\"0.882443 0.509479 -1.157229\">\n",
       "          <shape>\n",
       "            <appearance>\n",
       "              <material diffuseColor=\"1.0 1.0 1.0\"/>\n",
       "            </appearance>\n",
       "            <sphere radius=\"0.31\"/>\n",
       "          </shape>\n",
       "        </transform>\n",
       "      </group>\n",
       "    </group>\n",
       "  </transform>\n",
       "</scene>\n",
       "<!--End of Inserted Scene-->\n",
       "\n",
       "        </X3D>\n",
       "    </body>\n",
       "</html>\n",
       "\n"
      ],
      "text/plain": [
       "<IPython.core.display.HTML object>"
      ]
     },
     "execution_count": 86,
     "metadata": {},
     "output_type": "execute_result"
    }
   ],
   "source": [
    "view(ethane_stagggered, viewer='x3d')"
   ]
  },
  {
   "cell_type": "code",
   "execution_count": 87,
   "id": "24b757e7-c685-4e06-8232-744a6de72456",
   "metadata": {},
   "outputs": [
    {
     "data": {
      "text/html": [
       "<html>\n",
       "    <head>\n",
       "        <title>ASE atomic visualization</title>\n",
       "        <link rel=\"stylesheet\" type=\"text/css\"             href=\"https://www.x3dom.org/release/x3dom.css\"></link>\n",
       "        <script type=\"text/javascript\"             src=\"https://www.x3dom.org/release/x3dom.js\"></script>\n",
       "    </head>\n",
       "    <body>\n",
       "        <X3D width=\"400px\"; height=\"300px\";>\n",
       "\n",
       "<!--Inserting Generated X3D Scene-->\n",
       "<scene>\n",
       "  <viewpoint position=\"0 0 5.0477337159580715\">\n",
       "    <group/>\n",
       "  </viewpoint>\n",
       "  <transform translation=\"-0.0 -0.0 -0.0\">\n",
       "    <group>\n",
       "      <group>\n",
       "        <transform translation=\"0 0 0\">\n",
       "          <shape>\n",
       "            <appearance>\n",
       "              <material diffuseColor=\"0 0 0\"/>\n",
       "            </appearance>\n",
       "            <lineset vertexCount=\"5\">\n",
       "              <coordinate point=\"0 0 0 0.0 0.0 0.0 0.0 0.0 0.0 0.0 0.0 0.0 0 0 0\"/>\n",
       "            </lineset>\n",
       "          </shape>\n",
       "        </transform>\n",
       "        <transform translation=\"0.0 0.0 0.0\">\n",
       "          <shape>\n",
       "            <appearance>\n",
       "              <material diffuseColor=\"0 0 0\"/>\n",
       "            </appearance>\n",
       "            <lineset vertexCount=\"5\">\n",
       "              <coordinate point=\"0 0 0 0.0 0.0 0.0 0.0 0.0 0.0 0.0 0.0 0.0 0 0 0\"/>\n",
       "            </lineset>\n",
       "          </shape>\n",
       "        </transform>\n",
       "        <transform translation=\"0 0 0\">\n",
       "          <shape>\n",
       "            <appearance>\n",
       "              <material diffuseColor=\"0 0 0\"/>\n",
       "            </appearance>\n",
       "            <lineset vertexCount=\"5\">\n",
       "              <coordinate point=\"0 0 0 0.0 0.0 0.0 0.0 0.0 0.0 0.0 0.0 0.0 0 0 0\"/>\n",
       "            </lineset>\n",
       "          </shape>\n",
       "        </transform>\n",
       "        <transform translation=\"0.0 0.0 0.0\">\n",
       "          <shape>\n",
       "            <appearance>\n",
       "              <material diffuseColor=\"0 0 0\"/>\n",
       "            </appearance>\n",
       "            <lineset vertexCount=\"5\">\n",
       "              <coordinate point=\"0 0 0 0.0 0.0 0.0 0.0 0.0 0.0 0.0 0.0 0.0 0 0 0\"/>\n",
       "            </lineset>\n",
       "          </shape>\n",
       "        </transform>\n",
       "      </group>\n",
       "      <group>\n",
       "        <transform translation=\"0.0 0.0 0.762209\">\n",
       "          <shape>\n",
       "            <appearance>\n",
       "              <material diffuseColor=\"0.565 0.565 0.565\"/>\n",
       "            </appearance>\n",
       "            <sphere radius=\"0.76\"/>\n",
       "          </shape>\n",
       "        </transform>\n",
       "        <transform translation=\"0.0 0.0 -0.762209\">\n",
       "          <shape>\n",
       "            <appearance>\n",
       "              <material diffuseColor=\"0.565 0.565 0.565\"/>\n",
       "            </appearance>\n",
       "            <sphere radius=\"0.76\"/>\n",
       "          </shape>\n",
       "        </transform>\n",
       "        <transform translation=\"0.0 1.018957 1.157229\">\n",
       "          <shape>\n",
       "            <appearance>\n",
       "              <material diffuseColor=\"1.0 1.0 1.0\"/>\n",
       "            </appearance>\n",
       "            <sphere radius=\"0.31\"/>\n",
       "          </shape>\n",
       "        </transform>\n",
       "        <transform translation=\"-0.882443 -0.509479 1.157229\">\n",
       "          <shape>\n",
       "            <appearance>\n",
       "              <material diffuseColor=\"1.0 1.0 1.0\"/>\n",
       "            </appearance>\n",
       "            <sphere radius=\"0.31\"/>\n",
       "          </shape>\n",
       "        </transform>\n",
       "        <transform translation=\"0.882443 -0.509479 1.157229\">\n",
       "          <shape>\n",
       "            <appearance>\n",
       "              <material diffuseColor=\"1.0 1.0 1.0\"/>\n",
       "            </appearance>\n",
       "            <sphere radius=\"0.31\"/>\n",
       "          </shape>\n",
       "        </transform>\n",
       "        <transform translation=\"-0.6190188245763893 -0.7032889578927302 -1.3248052182375765\">\n",
       "          <shape>\n",
       "            <appearance>\n",
       "              <material diffuseColor=\"1.0 1.0 1.0\"/>\n",
       "            </appearance>\n",
       "            <sphere radius=\"0.31\"/>\n",
       "          </shape>\n",
       "        </transform>\n",
       "        <transform translation=\"0.10889633278562078 0.9039483638117844 -1.3666378579790357\">\n",
       "          <shape>\n",
       "            <appearance>\n",
       "              <material diffuseColor=\"1.0 1.0 1.0\"/>\n",
       "            </appearance>\n",
       "            <sphere radius=\"0.31\"/>\n",
       "          </shape>\n",
       "        </transform>\n",
       "        <transform translation=\"0.991339332785621 -0.4460544617334193 -0.6499724438791461\">\n",
       "          <shape>\n",
       "            <appearance>\n",
       "              <material diffuseColor=\"1.0 1.0 1.0\"/>\n",
       "            </appearance>\n",
       "            <sphere radius=\"0.31\"/>\n",
       "          </shape>\n",
       "        </transform>\n",
       "      </group>\n",
       "    </group>\n",
       "  </transform>\n",
       "</scene>\n",
       "<!--End of Inserted Scene-->\n",
       "\n",
       "        </X3D>\n",
       "    </body>\n",
       "</html>\n",
       "\n"
      ],
      "text/plain": [
       "<IPython.core.display.HTML object>"
      ]
     },
     "execution_count": 87,
     "metadata": {},
     "output_type": "execute_result"
    }
   ],
   "source": [
    "view(ethane_eclipsed, viewer='x3d')"
   ]
  },
  {
   "cell_type": "code",
   "execution_count": 102,
   "id": "9a7c0006-636b-43d7-9d6f-559bb107497f",
   "metadata": {},
   "outputs": [
    {
     "name": "stdout",
     "output_type": "stream",
     "text": [
      "Using Materials Project MACE for MACECalculator with /home/cyrus/.cache/mace/5yyxdm76\n",
      "Using float64 for MACECalculator, which is slower but more accurate. Recommended for geometry optimization.\n"
     ]
    }
   ],
   "source": [
    "from ase.optimize import FIRE, BFGS\n",
    "\n",
    "calc = mace_mp(default_dtype='float64', device='cuda')"
   ]
  },
  {
   "cell_type": "code",
   "execution_count": 89,
   "id": "eb713b79-f3fa-40c9-b13a-a4a4ff5df342",
   "metadata": {},
   "outputs": [],
   "source": [
    "from ase import units"
   ]
  },
  {
   "cell_type": "code",
   "execution_count": 90,
   "id": "04284d87-c1be-49ef-8a93-4655f5e0f592",
   "metadata": {},
   "outputs": [
    {
     "name": "stdout",
     "output_type": "stream",
     "text": [
      "      Step     Time          Energy          fmax\n",
      "BFGS:    0 17:10:02      -40.611619        0.042774\n",
      "staggered energy: -936.5262010850399\n"
     ]
    }
   ],
   "source": [
    "ethane_stagggered.calc = calc\n",
    "\n",
    "opt = BFGS(ethane_stagggered)\n",
    "\n",
    "opt.run()\n",
    "print(f'staggered energy: {ethane_stagggered.get_potential_energy() * units.eV / (units.kcal / units.mol)}')"
   ]
  },
  {
   "cell_type": "code",
   "execution_count": 91,
   "id": "9dea8d85-d475-4ff1-9333-4f36779c89a8",
   "metadata": {},
   "outputs": [
    {
     "name": "stdout",
     "output_type": "stream",
     "text": [
      "      Step     Time          Energy          fmax\n",
      "BFGS:    0 17:10:09      -40.042533        1.912078\n",
      "BFGS:    1 17:10:09      -40.136185        1.836917\n",
      "BFGS:    2 17:10:09      -40.378045        1.476458\n",
      "BFGS:    3 17:10:09      -40.508459        1.509217\n",
      "BFGS:    4 17:10:09      -40.549672        0.692085\n",
      "BFGS:    5 17:10:09      -40.561600        0.433105\n",
      "BFGS:    6 17:10:10      -40.574291        0.553921\n",
      "BFGS:    7 17:10:10      -40.589639        0.501967\n",
      "BFGS:    8 17:10:10      -40.597706        0.309820\n",
      "BFGS:    9 17:10:10      -40.600004        0.120557\n",
      "BFGS:   10 17:10:10      -40.600732        0.107069\n",
      "BFGS:   11 17:10:11      -40.601776        0.142338\n",
      "BFGS:   12 17:10:11      -40.602725        0.138597\n",
      "BFGS:   13 17:10:11      -40.603142        0.062846\n",
      "BFGS:   14 17:10:11      -40.603219        0.015885\n",
      "eclipsed energy: -936.33248081803\n"
     ]
    }
   ],
   "source": [
    "ethane_eclipsed.calc = calc\n",
    "\n",
    "opt = BFGS(ethane_eclipsed)\n",
    "opt.run()\n",
    "print(f'eclipsed energy: {ethane_eclipsed.get_potential_energy() * units.eV / (units.kcal / units.mol)}')"
   ]
  },
  {
   "cell_type": "code",
   "execution_count": 92,
   "id": "a054221b-e801-4a4a-9349-8a3c44b5bfd6",
   "metadata": {},
   "outputs": [
    {
     "data": {
      "text/html": [
       "<html>\n",
       "    <head>\n",
       "        <title>ASE atomic visualization</title>\n",
       "        <link rel=\"stylesheet\" type=\"text/css\"             href=\"https://www.x3dom.org/release/x3dom.css\"></link>\n",
       "        <script type=\"text/javascript\"             src=\"https://www.x3dom.org/release/x3dom.js\"></script>\n",
       "    </head>\n",
       "    <body>\n",
       "        <X3D width=\"400px\"; height=\"300px\";>\n",
       "\n",
       "<!--Inserting Generated X3D Scene-->\n",
       "<scene>\n",
       "  <viewpoint position=\"0 0 4.949466769549879\">\n",
       "    <group/>\n",
       "  </viewpoint>\n",
       "  <transform translation=\"-0.0 -0.0 -0.0\">\n",
       "    <group>\n",
       "      <group>\n",
       "        <transform translation=\"0 0 0\">\n",
       "          <shape>\n",
       "            <appearance>\n",
       "              <material diffuseColor=\"0 0 0\"/>\n",
       "            </appearance>\n",
       "            <lineset vertexCount=\"5\">\n",
       "              <coordinate point=\"0 0 0 0.0 0.0 0.0 0.0 0.0 0.0 0.0 0.0 0.0 0 0 0\"/>\n",
       "            </lineset>\n",
       "          </shape>\n",
       "        </transform>\n",
       "        <transform translation=\"0.0 0.0 0.0\">\n",
       "          <shape>\n",
       "            <appearance>\n",
       "              <material diffuseColor=\"0 0 0\"/>\n",
       "            </appearance>\n",
       "            <lineset vertexCount=\"5\">\n",
       "              <coordinate point=\"0 0 0 0.0 0.0 0.0 0.0 0.0 0.0 0.0 0.0 0.0 0 0 0\"/>\n",
       "            </lineset>\n",
       "          </shape>\n",
       "        </transform>\n",
       "        <transform translation=\"0 0 0\">\n",
       "          <shape>\n",
       "            <appearance>\n",
       "              <material diffuseColor=\"0 0 0\"/>\n",
       "            </appearance>\n",
       "            <lineset vertexCount=\"5\">\n",
       "              <coordinate point=\"0 0 0 0.0 0.0 0.0 0.0 0.0 0.0 0.0 0.0 0.0 0 0 0\"/>\n",
       "            </lineset>\n",
       "          </shape>\n",
       "        </transform>\n",
       "        <transform translation=\"0.0 0.0 0.0\">\n",
       "          <shape>\n",
       "            <appearance>\n",
       "              <material diffuseColor=\"0 0 0\"/>\n",
       "            </appearance>\n",
       "            <lineset vertexCount=\"5\">\n",
       "              <coordinate point=\"0 0 0 0.0 0.0 0.0 0.0 0.0 0.0 0.0 0.0 0.0 0 0 0\"/>\n",
       "            </lineset>\n",
       "          </shape>\n",
       "        </transform>\n",
       "      </group>\n",
       "      <group>\n",
       "        <transform translation=\"-0.015347081262329426 0.007817347184374667 0.7750519261188649\">\n",
       "          <shape>\n",
       "            <appearance>\n",
       "              <material diffuseColor=\"0.565 0.565 0.565\"/>\n",
       "            </appearance>\n",
       "            <sphere radius=\"0.76\"/>\n",
       "          </shape>\n",
       "        </transform>\n",
       "        <transform translation=\"0.13499144702199367 -0.06902631950323855 -0.7409938867798352\">\n",
       "          <shape>\n",
       "            <appearance>\n",
       "              <material diffuseColor=\"0.565 0.565 0.565\"/>\n",
       "            </appearance>\n",
       "            <sphere radius=\"0.76\"/>\n",
       "          </shape>\n",
       "        </transform>\n",
       "        <transform translation=\"-0.04958064048612392 1.044286166012849 1.116053606152715\">\n",
       "          <shape>\n",
       "            <appearance>\n",
       "              <material diffuseColor=\"1.0 1.0 1.0\"/>\n",
       "            </appearance>\n",
       "            <sphere radius=\"0.31\"/>\n",
       "          </shape>\n",
       "        </transform>\n",
       "        <transform translation=\"-0.9336705947977119 -0.48159324978859247 1.1047630917042899\">\n",
       "          <shape>\n",
       "            <appearance>\n",
       "              <material diffuseColor=\"1.0 1.0 1.0\"/>\n",
       "            </appearance>\n",
       "            <sphere radius=\"0.31\"/>\n",
       "          </shape>\n",
       "        </transform>\n",
       "        <transform translation=\"0.8210903587432574 -0.48040836288270683 1.2790492550846893\">\n",
       "          <shape>\n",
       "            <appearance>\n",
       "              <material diffuseColor=\"1.0 1.0 1.0\"/>\n",
       "            </appearance>\n",
       "            <sphere radius=\"0.31\"/>\n",
       "          </shape>\n",
       "        </transform>\n",
       "        <transform translation=\"-0.6452222519035408 -0.6896233079904049 -1.18589802305892\">\n",
       "          <shape>\n",
       "            <appearance>\n",
       "              <material diffuseColor=\"1.0 1.0 1.0\"/>\n",
       "            </appearance>\n",
       "            <sphere radius=\"0.31\"/>\n",
       "          </shape>\n",
       "        </transform>\n",
       "        <transform translation=\"0.07049243741480696 0.9212918187740852 -1.19568412969025\">\n",
       "          <shape>\n",
       "            <appearance>\n",
       "              <material diffuseColor=\"1.0 1.0 1.0\"/>\n",
       "            </appearance>\n",
       "            <sphere radius=\"0.31\"/>\n",
       "          </shape>\n",
       "        </transform>\n",
       "        <transform translation=\"1.0984631662644995 -0.4981401476207311 -1.0220703596273117\">\n",
       "          <shape>\n",
       "            <appearance>\n",
       "              <material diffuseColor=\"1.0 1.0 1.0\"/>\n",
       "            </appearance>\n",
       "            <sphere radius=\"0.31\"/>\n",
       "          </shape>\n",
       "        </transform>\n",
       "      </group>\n",
       "    </group>\n",
       "  </transform>\n",
       "</scene>\n",
       "<!--End of Inserted Scene-->\n",
       "\n",
       "        </X3D>\n",
       "    </body>\n",
       "</html>\n",
       "\n"
      ],
      "text/plain": [
       "<IPython.core.display.HTML object>"
      ]
     },
     "execution_count": 92,
     "metadata": {},
     "output_type": "execute_result"
    }
   ],
   "source": [
    "view(ethane_eclipsed, viewer='x3d')"
   ]
  },
  {
   "cell_type": "code",
   "execution_count": 93,
   "id": "57a409a8-333e-4202-a96d-28811e83715b",
   "metadata": {},
   "outputs": [],
   "source": [
    "from ase.geometry.analysis import Analysis\n",
    "\n"
   ]
  },
  {
   "cell_type": "code",
   "execution_count": 152,
   "id": "d0961540-d4ef-448e-b46d-ea25ad688f6a",
   "metadata": {},
   "outputs": [
    {
     "name": "stdout",
     "output_type": "stream",
     "text": [
      "1.524418\n",
      "1.092847163518123\n",
      "107.69924660701571\n",
      "111.18985659973538\n"
     ]
    }
   ],
   "source": [
    "ana = Analysis(ethane_stagggered)\n",
    "\n",
    "CCBonds = ana.get_bonds('C', 'C', unique=True)\n",
    "CHBonds = ana.get_bonds('C', 'H', unique=True)\n",
    "\n",
    "HCHAngles = ana.get_angles('H', 'C', 'H', unique=True)\n",
    "HCCAngles = ana.get_angles('H', 'C', 'C', unique=True)\n",
    "\n",
    "CCBondValues = np.array(ana.get_values(CCBonds))\n",
    "CHBondValues = np.array(ana.get_values(CHBonds))\n",
    "print(CCBondValues.mean())\n",
    "print(CHBondValues.mean())\n",
    "\n",
    "HCHAnglesValues = np.array(ana.get_values(HCHAngles))\n",
    "HCCAnglesValues = np.array(ana.get_values(HCCAngles))\n",
    "\n",
    "print(HCHAnglesValues.mean())\n",
    "print(HCCAnglesValues.mean())"
   ]
  },
  {
   "cell_type": "code",
   "execution_count": 153,
   "id": "56e1791a-5524-4ec8-a815-f94906f2eaa9",
   "metadata": {},
   "outputs": [
    {
     "name": "stdout",
     "output_type": "stream",
     "text": [
      "1.524418\n",
      "1.091645901947406\n",
      "107.67427366349791\n",
      "111.21331184070289\n"
     ]
    }
   ],
   "source": [
    "ana = Analysis(ethane_eclipsed)\n",
    "\n",
    "CCBonds = ana.get_bonds('C', 'C', unique=True)\n",
    "CHBonds = ana.get_bonds('C', 'H', unique=True)\n",
    "\n",
    "HCHAngles = ana.get_angles('H', 'C', 'H', unique=True)\n",
    "HCCAngles = ana.get_angles('H', 'C', 'C', unique=True)\n",
    "\n",
    "CHBondValues = np.array(ana.get_values(CHBonds))\n",
    "print(CCBondValues.mean())\n",
    "print(CHBondValues.mean())\n",
    "HCHAnglesValues = np.array(ana.get_values(HCHAngles))\n",
    "HCCAnglesValues = np.array(ana.get_values(HCCAngles))\n",
    "\n",
    "print(HCHAnglesValues.mean())\n",
    "print(HCCAnglesValues.mean())"
   ]
  },
  {
   "cell_type": "code",
   "execution_count": 137,
   "id": "65c98ec2-1030-471a-a348-6e2cbf18a909",
   "metadata": {},
   "outputs": [],
   "source": [
    "from ase.constraints import FixInternals\n",
    "\n",
    "ana = Analysis(ethane_stagggered)\n",
    "dihedral_indices = ana.get_dihedrals('H', 'C', 'C', 'H')\n",
    "dihedral_values = ana.get_values(dihedral_indices)\n",
    "\n",
    "dihedral_indices = [0, 2, 1, 5]\n",
    "\n",
    "# c = FixInternals(dihedrals_deg=list(zip(*dihedral_values, *dihedral_indices)))\n",
    "\n",
    "c = FixInternals(dihedrals_deg=[[ethane_stagggered.get_dihedral(*dihedral_indices), dihedral_indices]])"
   ]
  },
  {
   "cell_type": "code",
   "execution_count": 98,
   "id": "d1b39430-e319-4065-959f-71ded7d2a218",
   "metadata": {},
   "outputs": [
    {
     "name": "stderr",
     "output_type": "stream",
     "text": [
      "/home/cyrus/miniconda3/envs/dev-py311/lib/python3.11/site-packages/tqdm/auto.py:21: TqdmWarning: IProgress not found. Please update jupyter and ipywidgets. See https://ipywidgets.readthedocs.io/en/stable/user_install.html\n",
      "  from .autonotebook import tqdm as notebook_tqdm\n"
     ]
    }
   ],
   "source": [
    "from tqdm.auto import tqdm"
   ]
  },
  {
   "cell_type": "code",
   "execution_count": 108,
   "id": "a6ec9072-bcd9-4e5b-bd6d-7794bb4b4d6e",
   "metadata": {
    "scrolled": true
   },
   "outputs": [
    {
     "name": "stderr",
     "output_type": "stream",
     "text": [
      "100%|█████████████████████████████████████████████████████| 36/36 [00:05<00:00,  6.31it/s]\n"
     ]
    }
   ],
   "source": [
    "\n",
    "# Rigid scan\n",
    "\n",
    "dihedrals = np.arange(0, 360, 10)\n",
    "energies = []\n",
    "\n",
    "for diheral in tqdm(dihedrals):\n",
    "    clone = ethane_stagggered.copy()\n",
    "    clone.rotate_dihedral(0, 2, 1, 5, angle=diheral, indices=[5, 6, 7])\n",
    "\n",
    "    clone.calc = calc\n",
    "    energies.append(clone.get_potential_energy())\n",
    "\n",
    "rigid_energies = np.array(energies)"
   ]
  },
  {
   "cell_type": "code",
   "execution_count": 139,
   "id": "4bb6b0d0-eb84-4d83-9059-b72589b228ef",
   "metadata": {
    "scrolled": true
   },
   "outputs": [
    {
     "name": "stderr",
     "output_type": "stream",
     "text": [
      "  0%|                                                              | 0/36 [00:00<?, ?it/s]"
     ]
    },
    {
     "name": "stdout",
     "output_type": "stream",
     "text": [
      "      Step     Time          Energy          fmax\n",
      "BFGS:    0 17:58:15      -40.611619        0.042774\n"
     ]
    },
    {
     "name": "stderr",
     "output_type": "stream",
     "text": [
      "  3%|█▌                                                    | 1/36 [00:00<00:26,  1.33it/s]"
     ]
    },
    {
     "name": "stdout",
     "output_type": "stream",
     "text": [
      "      Step     Time          Energy          fmax\n",
      "BFGS:    0 17:58:15      -40.596544        0.286723\n",
      "BFGS:    1 17:58:15      -40.599145        0.217958\n",
      "BFGS:    2 17:58:16      -40.603382        0.214369\n",
      "BFGS:    3 17:58:16      -40.607125        0.183538\n",
      "BFGS:    4 17:58:16      -40.608385        0.101421\n",
      "BFGS:    5 17:58:16      -40.609019        0.090334\n",
      "BFGS:    6 17:58:16      -40.609562        0.092864\n",
      "BFGS:    7 17:58:16      -40.610057        0.097846\n",
      "BFGS:    8 17:58:16      -40.610460        0.068941\n",
      "BFGS:    9 17:58:17      -40.610764        0.053189\n",
      "BFGS:   10 17:58:17      -40.610966        0.047718\n"
     ]
    },
    {
     "name": "stderr",
     "output_type": "stream",
     "text": [
      "  6%|███                                                   | 2/36 [00:02<00:43,  1.28s/it]"
     ]
    },
    {
     "name": "stdout",
     "output_type": "stream",
     "text": [
      "      Step     Time          Energy          fmax\n",
      "BFGS:    0 17:58:17      -40.550314        0.557056\n",
      "BFGS:    1 17:58:17      -40.560420        0.475882\n",
      "BFGS:    2 17:58:17      -40.578215        0.450018\n",
      "BFGS:    3 17:58:18      -40.594056        0.412086\n",
      "BFGS:    4 17:58:18      -40.598708        0.221339\n",
      "BFGS:    5 17:58:18      -40.600649        0.162706\n",
      "BFGS:    6 17:58:18      -40.602709        0.188175\n",
      "BFGS:    7 17:58:18      -40.605099        0.201234\n",
      "BFGS:    8 17:58:18      -40.606766        0.133127\n",
      "BFGS:    9 17:58:18      -40.607616        0.083004\n",
      "BFGS:   10 17:58:19      -40.608141        0.086031\n",
      "BFGS:   11 17:58:19      -40.608762        0.093311\n",
      "BFGS:   12 17:58:19      -40.609477        0.100042\n",
      "BFGS:   13 17:58:19      -40.610080        0.071645\n",
      "BFGS:   14 17:58:19      -40.610419        0.044962\n"
     ]
    },
    {
     "name": "stderr",
     "output_type": "stream",
     "text": [
      "  8%|████▌                                                 | 3/36 [00:05<01:02,  1.90s/it]"
     ]
    },
    {
     "name": "stdout",
     "output_type": "stream",
     "text": [
      "      Step     Time          Energy          fmax\n",
      "BFGS:    0 17:58:20      -40.472712        0.797844\n",
      "BFGS:    1 17:58:20      -40.495212        0.765545\n",
      "BFGS:    2 17:58:20      -40.537963        0.704122\n",
      "BFGS:    3 17:58:20      -40.575056        0.639485\n",
      "BFGS:    4 17:58:20      -40.584790        0.344527\n",
      "BFGS:    5 17:58:20      -40.588863        0.225261\n",
      "BFGS:    6 17:58:21      -40.592857        0.281779\n",
      "BFGS:    7 17:58:21      -40.598052        0.276170\n",
      "BFGS:    8 17:58:21      -40.601532        0.188561\n",
      "BFGS:    9 17:58:21      -40.603085        0.104759\n",
      "BFGS:   10 17:58:21      -40.603985        0.112210\n",
      "BFGS:   11 17:58:22      -40.605253        0.159726\n",
      "BFGS:   12 17:58:22      -40.606836        0.186161\n",
      "BFGS:   13 17:58:22      -40.608016        0.111532\n",
      "BFGS:   14 17:58:22      -40.608501        0.061112\n",
      "BFGS:   15 17:58:22      -40.608729        0.059896\n",
      "BFGS:   16 17:58:22      -40.608940        0.065730\n",
      "BFGS:   17 17:58:22      -40.609161        0.056247\n",
      "BFGS:   18 17:58:23      -40.609354        0.039795\n"
     ]
    },
    {
     "name": "stderr",
     "output_type": "stream",
     "text": [
      " 11%|██████                                                | 4/36 [00:08<01:17,  2.42s/it]"
     ]
    },
    {
     "name": "stdout",
     "output_type": "stream",
     "text": [
      "      Step     Time          Energy          fmax\n",
      "BFGS:    0 17:58:23      -40.362096        1.122906\n",
      "BFGS:    1 17:58:23      -40.403439        1.105724\n",
      "BFGS:    2 17:58:23      -40.487902        0.905291\n",
      "BFGS:    3 17:58:23      -40.552131        0.791800\n",
      "BFGS:    4 17:58:23      -40.569237        0.429868\n",
      "BFGS:    5 17:58:24      -40.575308        0.265395\n",
      "BFGS:    6 17:58:24      -40.582544        0.368171\n",
      "BFGS:    7 17:58:24      -40.590099        0.339695\n",
      "BFGS:    8 17:58:24      -40.595712        0.241575\n",
      "BFGS:    9 17:58:24      -40.597891        0.119094\n",
      "BFGS:   10 17:58:24      -40.599200        0.127875\n",
      "BFGS:   11 17:58:24      -40.601081        0.199868\n",
      "BFGS:   12 17:58:25      -40.603434        0.247526\n",
      "BFGS:   13 17:58:25      -40.605101        0.161646\n",
      "BFGS:   14 17:58:25      -40.605796        0.087278\n",
      "BFGS:   15 17:58:25      -40.606168        0.088851\n",
      "BFGS:   16 17:58:25      -40.606585        0.089348\n",
      "BFGS:   17 17:58:25      -40.607026        0.097578\n",
      "BFGS:   18 17:58:26      -40.607325        0.059373\n",
      "BFGS:   19 17:58:26      -40.607488        0.033750\n"
     ]
    },
    {
     "name": "stderr",
     "output_type": "stream",
     "text": [
      " 14%|███████▌                                              | 5/36 [00:11<01:21,  2.64s/it]"
     ]
    },
    {
     "name": "stdout",
     "output_type": "stream",
     "text": [
      "      Step     Time          Energy          fmax\n",
      "BFGS:    0 17:58:26      -40.217467        1.500216\n",
      "BFGS:    1 17:58:26      -40.282083        1.479445\n",
      "BFGS:    2 17:58:26      -40.435265        1.107543\n",
      "BFGS:    3 17:58:26      -40.527125        0.994270\n",
      "BFGS:    4 17:58:27      -40.555207        0.516697\n",
      "BFGS:    5 17:58:27      -40.563533        0.309911\n",
      "BFGS:    6 17:58:27      -40.572621        0.434111\n",
      "BFGS:    7 17:58:27      -40.582424        0.429692\n",
      "BFGS:    8 17:58:27      -40.590063        0.277684\n",
      "BFGS:    9 17:58:27      -40.592969        0.127344\n",
      "BFGS:   10 17:58:27      -40.594589        0.149788\n",
      "BFGS:   11 17:58:28      -40.596792        0.199188\n",
      "BFGS:   12 17:58:28      -40.599618        0.256187\n",
      "BFGS:   13 17:58:28      -40.601775        0.178647\n",
      "BFGS:   14 17:58:28      -40.602799        0.107609\n",
      "BFGS:   15 17:58:28      -40.603344        0.107100\n",
      "BFGS:   16 17:58:28      -40.603915        0.090851\n",
      "BFGS:   17 17:58:29      -40.604517        0.100037\n",
      "BFGS:   18 17:58:29      -40.604946        0.064771\n",
      "BFGS:   19 17:58:29      -40.605214        0.046997\n"
     ]
    },
    {
     "name": "stderr",
     "output_type": "stream",
     "text": [
      " 17%|█████████                                             | 6/36 [00:14<01:25,  2.84s/it]"
     ]
    },
    {
     "name": "stdout",
     "output_type": "stream",
     "text": [
      "      Step     Time          Energy          fmax\n",
      "BFGS:    0 17:58:29      -40.042533        1.912078\n",
      "BFGS:    1 17:58:29      -40.136239        1.850848\n",
      "BFGS:    2 17:58:29      -40.383437        1.260303\n",
      "BFGS:    3 17:58:30      -40.507984        1.158839\n",
      "BFGS:    4 17:58:30      -40.544749        0.604599\n",
      "BFGS:    5 17:58:30      -40.556215        0.347036\n",
      "BFGS:    6 17:58:30      -40.564991        0.448892\n",
      "BFGS:    7 17:58:30      -40.577102        0.490551\n",
      "BFGS:    8 17:58:30      -40.585793        0.297844\n",
      "BFGS:    9 17:58:31      -40.589310        0.134350\n",
      "BFGS:   10 17:58:31      -40.591113        0.164214\n",
      "BFGS:   11 17:58:31      -40.593422        0.207556\n",
      "BFGS:   12 17:58:31      -40.596402        0.258968\n",
      "BFGS:   13 17:58:31      -40.598896        0.195994\n",
      "BFGS:   14 17:58:31      -40.600246        0.118704\n",
      "BFGS:   15 17:58:32      -40.600929        0.115975\n",
      "BFGS:   16 17:58:32      -40.601572        0.096006\n",
      "BFGS:   17 17:58:32      -40.602273        0.110337\n",
      "BFGS:   18 17:58:32      -40.602830        0.074074\n",
      "BFGS:   19 17:58:32      -40.603221        0.060497\n",
      "BFGS:   20 17:58:32      -40.603518        0.047596\n"
     ]
    },
    {
     "name": "stderr",
     "output_type": "stream",
     "text": [
      " 19%|██████████▌                                           | 7/36 [00:18<01:29,  3.08s/it]"
     ]
    },
    {
     "name": "stdout",
     "output_type": "stream",
     "text": [
      "      Step     Time          Energy          fmax\n",
      "BFGS:    0 17:58:33      -39.848546        2.219592\n",
      "BFGS:    1 17:58:33      -39.969049        2.144747\n",
      "BFGS:    2 17:58:33      -40.326097        1.394651\n",
      "BFGS:    3 17:58:33      -40.483349        1.356476\n",
      "BFGS:    4 17:58:33      -40.531421        0.742845\n",
      "BFGS:    5 17:58:34      -40.549361        0.372877\n",
      "BFGS:    6 17:58:34      -40.557759        0.449695\n",
      "BFGS:    7 17:58:34      -40.574585        0.513352\n",
      "BFGS:    8 17:58:34      -40.583328        0.317361\n",
      "BFGS:    9 17:58:34      -40.587004        0.151924\n",
      "BFGS:   10 17:58:34      -40.588869        0.168294\n",
      "BFGS:   11 17:58:34      -40.591416        0.226801\n",
      "BFGS:   12 17:58:35      -40.594506        0.271581\n",
      "BFGS:   13 17:58:35      -40.597258        0.201797\n",
      "BFGS:   14 17:58:35      -40.598799        0.121354\n",
      "BFGS:   15 17:58:35      -40.599537        0.114737\n",
      "BFGS:   16 17:58:35      -40.600210        0.091854\n",
      "BFGS:   17 17:58:36      -40.600993        0.108300\n",
      "BFGS:   18 17:58:36      -40.601657        0.075368\n",
      "BFGS:   19 17:58:36      -40.602127        0.062002\n",
      "BFGS:   20 17:58:36      -40.602457        0.050514\n",
      "BFGS:   21 17:58:36      -40.602702        0.048776\n"
     ]
    },
    {
     "name": "stderr",
     "output_type": "stream",
     "text": [
      " 22%|████████████                                          | 8/36 [00:21<01:31,  3.26s/it]"
     ]
    },
    {
     "name": "stdout",
     "output_type": "stream",
     "text": [
      "      Step     Time          Energy          fmax\n",
      "BFGS:    0 17:58:36      -39.648508        2.426491\n",
      "BFGS:    1 17:58:36      -39.791421        2.396714\n",
      "BFGS:    2 17:58:37      -40.264106        1.711415\n",
      "BFGS:    3 17:58:37      -40.444259        1.574811\n",
      "BFGS:    4 17:58:37      -40.514191        0.895455\n",
      "BFGS:    5 17:58:37      -40.542530        0.391662\n",
      "BFGS:    6 17:58:37      -40.551582        0.442195\n",
      "BFGS:    7 17:58:37      -40.574487        0.499150\n",
      "BFGS:    8 17:58:38      -40.582981        0.309486\n",
      "BFGS:    9 17:58:38      -40.586815        0.163616\n",
      "BFGS:   10 17:58:38      -40.588703        0.157218\n",
      "BFGS:   11 17:58:38      -40.591272        0.216334\n",
      "BFGS:   12 17:58:38      -40.594373        0.247588\n",
      "BFGS:   13 17:58:38      -40.597338        0.183586\n",
      "BFGS:   14 17:58:39      -40.598996        0.116095\n",
      "BFGS:   15 17:58:39      -40.599718        0.105456\n",
      "BFGS:   16 17:58:39      -40.600336        0.088439\n",
      "BFGS:   17 17:58:39      -40.601145        0.093016\n",
      "BFGS:   18 17:58:40      -40.601869        0.077393\n",
      "BFGS:   19 17:58:40      -40.602364        0.056631\n",
      "BFGS:   20 17:58:40      -40.602679        0.051407\n",
      "BFGS:   21 17:58:40      -40.602926        0.054640\n",
      "BFGS:   22 17:58:40      -40.603090        0.033885\n"
     ]
    },
    {
     "name": "stderr",
     "output_type": "stream",
     "text": [
      " 25%|█████████████▌                                        | 9/36 [00:25<01:35,  3.54s/it]"
     ]
    },
    {
     "name": "stdout",
     "output_type": "stream",
     "text": [
      "      Step     Time          Energy          fmax\n",
      "BFGS:    0 17:58:40      -39.450728        2.594666\n",
      "BFGS:    1 17:58:41      -39.614344        2.571330\n",
      "BFGS:    2 17:58:41      -40.161965        1.624557\n",
      "BFGS:    3 17:58:41      -40.404483        1.711730\n",
      "BFGS:    4 17:58:41      -40.485427        1.080272\n",
      "BFGS:    5 17:58:41      -40.535973        0.449374\n",
      "BFGS:    6 17:58:42      -40.546066        0.434474\n",
      "BFGS:    7 17:58:42      -40.580872        0.375556\n",
      "BFGS:    8 17:58:42      -40.586346        0.239921\n",
      "BFGS:    9 17:58:42      -40.589520        0.156369\n",
      "BFGS:   10 17:58:42      -40.591407        0.159902\n",
      "BFGS:   11 17:58:42      -40.594416        0.214078\n",
      "BFGS:   12 17:58:43      -40.597477        0.213913\n",
      "BFGS:   13 17:58:43      -40.599929        0.138443\n",
      "BFGS:   14 17:58:43      -40.601073        0.103175\n",
      "BFGS:   15 17:58:43      -40.601691        0.084883\n",
      "BFGS:   16 17:58:43      -40.602381        0.092780\n",
      "BFGS:   17 17:58:43      -40.603099        0.085491\n",
      "BFGS:   18 17:58:44      -40.603672        0.073142\n",
      "BFGS:   19 17:58:44      -40.604083        0.052880\n",
      "BFGS:   20 17:58:44      -40.604412        0.067531\n",
      "BFGS:   21 17:58:44      -40.604649        0.051932\n",
      "BFGS:   22 17:58:44      -40.604780        0.025242\n"
     ]
    },
    {
     "name": "stderr",
     "output_type": "stream",
     "text": [
      " 28%|██████████████▋                                      | 10/36 [00:29<01:35,  3.67s/it]"
     ]
    },
    {
     "name": "stdout",
     "output_type": "stream",
     "text": [
      "      Step     Time          Energy          fmax\n",
      "BFGS:    0 17:58:44      -39.259683        2.700221\n",
      "BFGS:    1 17:58:45      -39.440500        2.730014\n",
      "BFGS:    2 17:58:45      -40.051189        1.800600\n",
      "BFGS:    3 17:58:45      -40.339573        1.748434\n",
      "BFGS:    4 17:58:45      -40.445502        1.216121\n",
      "BFGS:    5 17:58:45      -40.522387        0.503687\n",
      "BFGS:    6 17:58:45      -40.536462        0.488666\n",
      "BFGS:    7 17:58:46      -40.575461        0.626571\n",
      "BFGS:    8 17:58:46      -40.586435        0.410485\n",
      "BFGS:    9 17:58:46      -40.591382        0.180945\n",
      "BFGS:   10 17:58:46      -40.593665        0.162288\n",
      "BFGS:   11 17:58:46      -40.596346        0.212150\n",
      "BFGS:   12 17:58:47      -40.599195        0.242906\n",
      "BFGS:   13 17:58:47      -40.601802        0.176116\n",
      "BFGS:   14 17:58:47      -40.603375        0.111349\n",
      "BFGS:   15 17:58:47      -40.604256        0.078211\n",
      "BFGS:   16 17:58:47      -40.604936        0.089076\n",
      "BFGS:   17 17:58:47      -40.605558        0.070512\n",
      "BFGS:   18 17:58:48      -40.606048        0.072414\n",
      "BFGS:   19 17:58:48      -40.606473        0.056013\n",
      "BFGS:   20 17:58:48      -40.606866        0.069613\n",
      "BFGS:   21 17:58:48      -40.607170        0.061760\n",
      "BFGS:   22 17:58:48      -40.607359        0.034868\n"
     ]
    },
    {
     "name": "stderr",
     "output_type": "stream",
     "text": [
      " 31%|████████████████▏                                    | 11/36 [00:33<01:34,  3.78s/it]"
     ]
    },
    {
     "name": "stdout",
     "output_type": "stream",
     "text": [
      "      Step     Time          Energy          fmax\n",
      "BFGS:    0 17:58:48      -39.076770        2.793868\n",
      "BFGS:    1 17:58:49      -39.277537        2.843491\n",
      "BFGS:    2 17:58:49      -39.947517        1.970024\n",
      "BFGS:    3 17:58:49      -40.270730        2.057342\n",
      "BFGS:    4 17:58:49      -40.399474        1.484736\n",
      "BFGS:    5 17:58:49      -40.502004        0.578176\n",
      "BFGS:    6 17:58:50      -40.521963        0.570256\n",
      "BFGS:    7 17:58:50      -40.568570        0.767858\n",
      "BFGS:    8 17:58:50      -40.585465        0.538404\n",
      "BFGS:    9 17:58:50      -40.592377        0.229561\n",
      "BFGS:   10 17:58:50      -40.595687        0.188866\n",
      "BFGS:   11 17:58:51      -40.598925        0.212160\n",
      "BFGS:   12 17:58:51      -40.601877        0.247871\n",
      "BFGS:   13 17:58:51      -40.604372        0.176312\n",
      "BFGS:   14 17:58:51      -40.606016        0.116014\n",
      "BFGS:   15 17:58:51      -40.607086        0.081684\n",
      "BFGS:   16 17:58:52      -40.607783        0.076794\n",
      "BFGS:   17 17:58:52      -40.608264        0.057185\n",
      "BFGS:   18 17:58:52      -40.608651        0.059810\n",
      "BFGS:   19 17:58:52      -40.609044        0.052490\n",
      "BFGS:   20 17:58:52      -40.609408        0.061244\n",
      "BFGS:   21 17:58:52      -40.609681        0.055283\n",
      "BFGS:   22 17:58:52      -40.609875        0.041288\n"
     ]
    },
    {
     "name": "stderr",
     "output_type": "stream",
     "text": [
      " 33%|█████████████████▋                                   | 12/36 [00:38<01:33,  3.90s/it]"
     ]
    },
    {
     "name": "stdout",
     "output_type": "stream",
     "text": [
      "      Step     Time          Energy          fmax\n",
      "BFGS:    0 17:58:53      -38.900458        2.856552\n",
      "BFGS:    1 17:58:53      -39.124234        2.938099\n",
      "BFGS:    2 17:58:53      -39.842788        2.168912\n",
      "BFGS:    3 17:58:53      -40.187250        2.486083\n",
      "BFGS:    4 17:58:53      -40.338670        1.717438\n",
      "BFGS:    5 17:58:53      -40.471304        0.891956\n",
      "BFGS:    6 17:58:54      -40.499528        0.670448\n",
      "BFGS:    7 17:58:54      -40.563019        0.737331\n",
      "BFGS:    8 17:58:54      -40.582820        0.509882\n",
      "BFGS:    9 17:58:54      -40.591473        0.248849\n",
      "BFGS:   10 17:58:54      -40.595968        0.218839\n",
      "BFGS:   11 17:58:54      -40.600497        0.209837\n",
      "BFGS:   12 17:58:55      -40.603783        0.217350\n",
      "BFGS:   13 17:58:55      -40.606385        0.146594\n",
      "BFGS:   14 17:58:55      -40.608179        0.112803\n",
      "BFGS:   15 17:58:55      -40.609315        0.087336\n",
      "BFGS:   16 17:58:55      -40.609876        0.076056\n",
      "BFGS:   17 17:58:55      -40.610195        0.053021\n",
      "BFGS:   18 17:58:55      -40.610486        0.050343\n",
      "BFGS:   19 17:58:56      -40.610787        0.047216\n"
     ]
    },
    {
     "name": "stderr",
     "output_type": "stream",
     "text": [
      " 36%|███████████████████▏                                 | 13/36 [00:41<01:24,  3.69s/it]"
     ]
    },
    {
     "name": "stdout",
     "output_type": "stream",
     "text": [
      "      Step     Time          Energy          fmax\n",
      "BFGS:    0 17:58:56      -38.730156        2.855302\n",
      "BFGS:    1 17:58:56      -38.981084        2.972904\n",
      "BFGS:    2 17:58:56      -39.735002        2.387314\n",
      "BFGS:    3 17:58:56      -40.090399        2.934536\n",
      "BFGS:    4 17:58:56      -40.267218        1.927917\n",
      "BFGS:    5 17:58:57      -40.423120        1.480827\n",
      "BFGS:    6 17:58:57      -40.468651        0.820624\n",
      "BFGS:    7 17:58:57      -40.532162        0.651316\n",
      "BFGS:    8 17:58:57      -40.571167        0.628363\n",
      "BFGS:    9 17:58:57      -40.585499        0.293983\n",
      "BFGS:   10 17:58:57      -40.592153        0.246257\n",
      "BFGS:   11 17:58:58      -40.597837        0.344914\n",
      "BFGS:   12 17:58:58      -40.602770        0.327523\n",
      "BFGS:   13 17:58:58      -40.606040        0.169588\n",
      "BFGS:   14 17:58:58      -40.608338        0.118391\n",
      "BFGS:   15 17:58:58      -40.609767        0.125517\n",
      "BFGS:   16 17:58:58      -40.610451        0.108820\n",
      "BFGS:   17 17:58:59      -40.610745        0.048084\n"
     ]
    },
    {
     "name": "stderr",
     "output_type": "stream",
     "text": [
      " 39%|████████████████████▌                                | 14/36 [00:44<01:15,  3.45s/it]"
     ]
    },
    {
     "name": "stdout",
     "output_type": "stream",
     "text": [
      "      Step     Time          Energy          fmax\n",
      "BFGS:    0 17:58:59      -38.568274        2.808677\n",
      "BFGS:    1 17:58:59      -38.849081        2.918495\n",
      "BFGS:    2 17:58:59      -39.630680        2.551062\n",
      "BFGS:    3 17:58:59      -39.976710        3.079274\n",
      "BFGS:    4 17:58:59      -40.206612        1.850159\n",
      "BFGS:    5 17:58:59      -40.371093        1.365087\n",
      "BFGS:    6 17:59:00      -40.429971        1.012105\n",
      "BFGS:    7 17:59:00      -40.536663        0.701569\n",
      "BFGS:    8 17:59:00      -40.565879        0.448731\n",
      "BFGS:    9 17:59:00      -40.582421        0.345436\n",
      "BFGS:   10 17:59:00      -40.589348        0.282888\n",
      "BFGS:   11 17:59:00      -40.598289        0.252763\n",
      "BFGS:   12 17:59:01      -40.602175        0.166735\n",
      "BFGS:   13 17:59:01      -40.605667        0.145390\n",
      "BFGS:   14 17:59:01      -40.608038        0.131292\n",
      "BFGS:   15 17:59:01      -40.609376        0.076185\n",
      "BFGS:   16 17:59:01      -40.609762        0.048890\n"
     ]
    },
    {
     "name": "stderr",
     "output_type": "stream",
     "text": [
      " 42%|██████████████████████                               | 15/36 [00:46<01:07,  3.23s/it]"
     ]
    },
    {
     "name": "stdout",
     "output_type": "stream",
     "text": [
      "      Step     Time          Energy          fmax\n",
      "BFGS:    0 17:59:01      -38.417923        3.061717\n",
      "BFGS:    1 17:59:02      -38.735804        2.853439\n",
      "BFGS:    2 17:59:02      -39.532824        3.286184\n",
      "BFGS:    3 17:59:02      -39.869824        2.993514\n",
      "BFGS:    4 17:59:02      -40.170922        1.533885\n",
      "BFGS:    5 17:59:02      -40.317779        1.215330\n",
      "BFGS:    6 17:59:02      -40.401750        1.271774\n",
      "BFGS:    7 17:59:03      -40.522279        0.907891\n",
      "BFGS:    8 17:59:03      -40.556694        0.536290\n",
      "BFGS:    9 17:59:03      -40.577019        0.406333\n",
      "BFGS:   10 17:59:03      -40.585626        0.344258\n",
      "BFGS:   11 17:59:03      -40.595228        0.264108\n",
      "BFGS:   12 17:59:03      -40.599564        0.232733\n",
      "BFGS:   13 17:59:03      -40.603086        0.157763\n",
      "BFGS:   14 17:59:04      -40.605728        0.151681\n",
      "BFGS:   15 17:59:04      -40.607252        0.081146\n",
      "BFGS:   16 17:59:04      -40.607698        0.048724\n"
     ]
    },
    {
     "name": "stderr",
     "output_type": "stream",
     "text": [
      " 44%|███████████████████████▌                             | 16/36 [00:49<01:00,  3.03s/it]"
     ]
    },
    {
     "name": "stdout",
     "output_type": "stream",
     "text": [
      "      Step     Time          Energy          fmax\n",
      "BFGS:    0 17:59:04      -38.288546        3.270985\n",
      "BFGS:    1 17:59:04      -38.645508        2.738101\n",
      "BFGS:    2 17:59:04      -39.430557        3.245623\n",
      "BFGS:    3 17:59:05      -39.800559        2.915181\n",
      "BFGS:    4 17:59:05      -40.104053        1.637544\n",
      "BFGS:    5 17:59:05      -40.281932        1.297235\n",
      "BFGS:    6 17:59:05      -40.378867        1.437141\n",
      "BFGS:    7 17:59:05      -40.509470        1.099478\n",
      "BFGS:    8 17:59:05      -40.551110        0.623648\n",
      "BFGS:    9 17:59:06      -40.573414        0.433075\n",
      "BFGS:   10 17:59:06      -40.582211        0.380102\n",
      "BFGS:   11 17:59:06      -40.592583        0.277932\n",
      "BFGS:   12 17:59:06      -40.597102        0.248249\n",
      "BFGS:   13 17:59:06      -40.600580        0.157341\n",
      "BFGS:   14 17:59:07      -40.603254        0.157671\n",
      "BFGS:   15 17:59:07      -40.604815        0.092360\n",
      "BFGS:   16 17:59:07      -40.605268        0.048542\n"
     ]
    },
    {
     "name": "stderr",
     "output_type": "stream",
     "text": [
      " 47%|█████████████████████████                            | 17/36 [00:52<00:57,  3.04s/it]"
     ]
    },
    {
     "name": "stdout",
     "output_type": "stream",
     "text": [
      "      Step     Time          Energy          fmax\n",
      "BFGS:    0 17:59:07      -38.196263        3.415997\n",
      "BFGS:    1 17:59:07      -38.584824        2.618496\n",
      "BFGS:    2 17:59:07      -39.363840        3.414519\n",
      "BFGS:    3 17:59:08      -39.752052        2.871437\n",
      "BFGS:    4 17:59:08      -40.067252        1.677725\n",
      "BFGS:    5 17:59:08      -40.257579        1.362619\n",
      "BFGS:    6 17:59:08      -40.365298        1.545457\n",
      "BFGS:    7 17:59:08      -40.500007        1.240194\n",
      "BFGS:    8 17:59:08      -40.547276        0.693988\n",
      "BFGS:    9 17:59:09      -40.571451        0.449534\n",
      "BFGS:   10 17:59:09      -40.580328        0.401625\n",
      "BFGS:   11 17:59:09      -40.590659        0.291733\n",
      "BFGS:   12 17:59:09      -40.595400        0.263842\n",
      "BFGS:   13 17:59:09      -40.598742        0.155742\n",
      "BFGS:   14 17:59:09      -40.601361        0.156362\n",
      "BFGS:   15 17:59:10      -40.602941        0.097458\n",
      "BFGS:   16 17:59:10      -40.603415        0.049902\n"
     ]
    },
    {
     "name": "stderr",
     "output_type": "stream",
     "text": [
      " 50%|██████████████████████████▌                          | 18/36 [00:55<00:54,  3.02s/it]"
     ]
    },
    {
     "name": "stdout",
     "output_type": "stream",
     "text": [
      "      Step     Time          Energy          fmax\n",
      "BFGS:    0 17:59:10      -38.162176        3.466768\n",
      "BFGS:    1 17:59:10      -38.564802        2.394867\n",
      "BFGS:    2 17:59:10      -39.342639        3.212806\n",
      "BFGS:    3 17:59:11      -39.747920        2.823807\n",
      "BFGS:    4 17:59:11      -40.048777        1.718963\n",
      "BFGS:    5 17:59:11      -40.251633        1.364091\n",
      "BFGS:    6 17:59:11      -40.361394        1.573069\n",
      "BFGS:    7 17:59:11      -40.497943        1.271155\n",
      "BFGS:    8 17:59:11      -40.546411        0.710304\n",
      "BFGS:    9 17:59:12      -40.570987        0.452904\n",
      "BFGS:   10 17:59:12      -40.579766        0.405443\n",
      "BFGS:   11 17:59:12      -40.590149        0.294253\n",
      "BFGS:   12 17:59:12      -40.594870        0.265851\n",
      "BFGS:   13 17:59:12      -40.598163        0.156082\n",
      "BFGS:   14 17:59:12      -40.600759        0.155659\n",
      "BFGS:   15 17:59:13      -40.602300        0.098215\n",
      "BFGS:   16 17:59:13      -40.602747        0.048453\n"
     ]
    },
    {
     "name": "stderr",
     "output_type": "stream",
     "text": [
      " 53%|███████████████████████████▉                         | 19/36 [00:58<00:50,  2.97s/it]"
     ]
    },
    {
     "name": "stdout",
     "output_type": "stream",
     "text": [
      "      Step     Time          Energy          fmax\n",
      "BFGS:    0 17:59:13      -38.196263        3.415997\n",
      "BFGS:    1 17:59:13      -38.584824        2.618496\n",
      "BFGS:    2 17:59:13      -39.363840        3.414519\n",
      "BFGS:    3 17:59:13      -39.752052        2.871437\n",
      "BFGS:    4 17:59:14      -40.067252        1.677725\n",
      "BFGS:    5 17:59:14      -40.257579        1.362619\n",
      "BFGS:    6 17:59:14      -40.365298        1.545457\n",
      "BFGS:    7 17:59:14      -40.500007        1.240194\n",
      "BFGS:    8 17:59:14      -40.547276        0.693988\n",
      "BFGS:    9 17:59:15      -40.571451        0.449534\n",
      "BFGS:   10 17:59:15      -40.580328        0.401625\n",
      "BFGS:   11 17:59:15      -40.590659        0.291733\n",
      "BFGS:   12 17:59:15      -40.595400        0.263842\n",
      "BFGS:   13 17:59:15      -40.598742        0.155742\n",
      "BFGS:   14 17:59:15      -40.601361        0.156362\n",
      "BFGS:   15 17:59:16      -40.602941        0.097458\n",
      "BFGS:   16 17:59:16      -40.603415        0.049902\n"
     ]
    },
    {
     "name": "stderr",
     "output_type": "stream",
     "text": [
      " 56%|█████████████████████████████▍                       | 20/36 [01:01<00:48,  3.01s/it]"
     ]
    },
    {
     "name": "stdout",
     "output_type": "stream",
     "text": [
      "      Step     Time          Energy          fmax\n",
      "BFGS:    0 17:59:16      -38.288546        3.270985\n",
      "BFGS:    1 17:59:16      -38.645508        2.738101\n",
      "BFGS:    2 17:59:16      -39.430557        3.245623\n",
      "BFGS:    3 17:59:17      -39.800559        2.915181\n",
      "BFGS:    4 17:59:17      -40.104053        1.637544\n",
      "BFGS:    5 17:59:17      -40.281932        1.297235\n",
      "BFGS:    6 17:59:17      -40.378867        1.437141\n",
      "BFGS:    7 17:59:17      -40.509470        1.099478\n",
      "BFGS:    8 17:59:17      -40.551110        0.623648\n",
      "BFGS:    9 17:59:18      -40.573414        0.433075\n",
      "BFGS:   10 17:59:18      -40.582211        0.380102\n",
      "BFGS:   11 17:59:18      -40.592583        0.277932\n",
      "BFGS:   12 17:59:18      -40.597102        0.248249\n",
      "BFGS:   13 17:59:18      -40.600580        0.157341\n",
      "BFGS:   14 17:59:18      -40.603254        0.157671\n",
      "BFGS:   15 17:59:19      -40.604815        0.092360\n",
      "BFGS:   16 17:59:19      -40.605268        0.048542\n"
     ]
    },
    {
     "name": "stderr",
     "output_type": "stream",
     "text": [
      " 58%|██████████████████████████████▉                      | 21/36 [01:04<00:44,  2.97s/it]"
     ]
    },
    {
     "name": "stdout",
     "output_type": "stream",
     "text": [
      "      Step     Time          Energy          fmax\n",
      "BFGS:    0 17:59:19      -38.417923        3.061717\n",
      "BFGS:    1 17:59:19      -38.735804        2.853439\n",
      "BFGS:    2 17:59:19      -39.532824        3.286184\n",
      "BFGS:    3 17:59:19      -39.869824        2.993514\n",
      "BFGS:    4 17:59:20      -40.170922        1.533885\n",
      "BFGS:    5 17:59:20      -40.317779        1.215330\n",
      "BFGS:    6 17:59:20      -40.401750        1.271774\n",
      "BFGS:    7 17:59:20      -40.522279        0.907891\n",
      "BFGS:    8 17:59:20      -40.556694        0.536290\n",
      "BFGS:    9 17:59:20      -40.577019        0.406333\n",
      "BFGS:   10 17:59:21      -40.585626        0.344258\n",
      "BFGS:   11 17:59:21      -40.595228        0.264108\n",
      "BFGS:   12 17:59:21      -40.599564        0.232733\n",
      "BFGS:   13 17:59:21      -40.603086        0.157763\n",
      "BFGS:   14 17:59:21      -40.605728        0.151681\n",
      "BFGS:   15 17:59:22      -40.607252        0.081146\n",
      "BFGS:   16 17:59:22      -40.607698        0.048724\n"
     ]
    },
    {
     "name": "stderr",
     "output_type": "stream",
     "text": [
      " 61%|████████████████████████████████▍                    | 22/36 [01:07<00:41,  2.98s/it]"
     ]
    },
    {
     "name": "stdout",
     "output_type": "stream",
     "text": [
      "      Step     Time          Energy          fmax\n",
      "BFGS:    0 17:59:22      -38.568274        2.808677\n",
      "BFGS:    1 17:59:22      -38.849081        2.918495\n",
      "BFGS:    2 17:59:22      -39.630680        2.551062\n",
      "BFGS:    3 17:59:22      -39.976710        3.079274\n",
      "BFGS:    4 17:59:23      -40.206612        1.850159\n",
      "BFGS:    5 17:59:23      -40.371093        1.365087\n",
      "BFGS:    6 17:59:23      -40.429971        1.012105\n",
      "BFGS:    7 17:59:23      -40.536663        0.701569\n",
      "BFGS:    8 17:59:23      -40.565879        0.448731\n",
      "BFGS:    9 17:59:24      -40.582421        0.345436\n",
      "BFGS:   10 17:59:24      -40.589348        0.282888\n",
      "BFGS:   11 17:59:24      -40.598289        0.252763\n",
      "BFGS:   12 17:59:24      -40.602175        0.166735\n",
      "BFGS:   13 17:59:24      -40.605667        0.145390\n",
      "BFGS:   14 17:59:25      -40.608038        0.131292\n",
      "BFGS:   15 17:59:25      -40.609376        0.076185\n",
      "BFGS:   16 17:59:25      -40.609762        0.048890\n"
     ]
    },
    {
     "name": "stderr",
     "output_type": "stream",
     "text": [
      " 64%|█████████████████████████████████▊                   | 23/36 [01:10<00:40,  3.10s/it]"
     ]
    },
    {
     "name": "stdout",
     "output_type": "stream",
     "text": [
      "      Step     Time          Energy          fmax\n",
      "BFGS:    0 17:59:25      -38.730156        2.855302\n",
      "BFGS:    1 17:59:25      -38.981084        2.972904\n",
      "BFGS:    2 17:59:26      -39.735002        2.387314\n",
      "BFGS:    3 17:59:26      -40.090399        2.934536\n",
      "BFGS:    4 17:59:26      -40.267218        1.927917\n",
      "BFGS:    5 17:59:26      -40.423120        1.480827\n",
      "BFGS:    6 17:59:26      -40.468651        0.820624\n",
      "BFGS:    7 17:59:26      -40.532162        0.651316\n",
      "BFGS:    8 17:59:27      -40.571167        0.628363\n",
      "BFGS:    9 17:59:27      -40.585499        0.293983\n",
      "BFGS:   10 17:59:27      -40.592153        0.246257\n",
      "BFGS:   11 17:59:27      -40.597837        0.344914\n",
      "BFGS:   12 17:59:27      -40.602770        0.327523\n",
      "BFGS:   13 17:59:27      -40.606040        0.169588\n",
      "BFGS:   14 17:59:28      -40.608338        0.118391\n",
      "BFGS:   15 17:59:28      -40.609767        0.125517\n",
      "BFGS:   16 17:59:28      -40.610451        0.108820\n",
      "BFGS:   17 17:59:28      -40.610745        0.048084\n"
     ]
    },
    {
     "name": "stderr",
     "output_type": "stream",
     "text": [
      " 67%|███████████████████████████████████▎                 | 24/36 [01:13<00:36,  3.06s/it]"
     ]
    },
    {
     "name": "stdout",
     "output_type": "stream",
     "text": [
      "      Step     Time          Energy          fmax\n",
      "BFGS:    0 17:59:28      -38.900458        2.856552\n",
      "BFGS:    1 17:59:28      -39.124234        2.938099\n",
      "BFGS:    2 17:59:29      -39.842788        2.168912\n",
      "BFGS:    3 17:59:29      -40.187250        2.486083\n",
      "BFGS:    4 17:59:29      -40.338670        1.717438\n",
      "BFGS:    5 17:59:29      -40.471304        0.891956\n",
      "BFGS:    6 17:59:29      -40.499528        0.670448\n",
      "BFGS:    7 17:59:29      -40.563019        0.737331\n",
      "BFGS:    8 17:59:29      -40.582820        0.509882\n",
      "BFGS:    9 17:59:30      -40.591473        0.248849\n",
      "BFGS:   10 17:59:30      -40.595968        0.218839\n",
      "BFGS:   11 17:59:30      -40.600497        0.209837\n",
      "BFGS:   12 17:59:30      -40.603783        0.217350\n",
      "BFGS:   13 17:59:30      -40.606385        0.146594\n",
      "BFGS:   14 17:59:30      -40.608179        0.112803\n",
      "BFGS:   15 17:59:31      -40.609315        0.087336\n",
      "BFGS:   16 17:59:31      -40.609876        0.076056\n",
      "BFGS:   17 17:59:31      -40.610195        0.053021\n",
      "BFGS:   18 17:59:31      -40.610486        0.050343\n",
      "BFGS:   19 17:59:31      -40.610787        0.047216\n"
     ]
    },
    {
     "name": "stderr",
     "output_type": "stream",
     "text": [
      " 69%|████████████████████████████████████▊                | 25/36 [01:16<00:33,  3.06s/it]"
     ]
    },
    {
     "name": "stdout",
     "output_type": "stream",
     "text": [
      "      Step     Time          Energy          fmax\n",
      "BFGS:    0 17:59:31      -39.076770        2.793868\n",
      "BFGS:    1 17:59:31      -39.277537        2.843491\n",
      "BFGS:    2 17:59:32      -39.947517        1.970024\n",
      "BFGS:    3 17:59:32      -40.270730        2.057342\n",
      "BFGS:    4 17:59:32      -40.399474        1.484736\n",
      "BFGS:    5 17:59:32      -40.502004        0.578176\n",
      "BFGS:    6 17:59:32      -40.521963        0.570256\n",
      "BFGS:    7 17:59:32      -40.568570        0.767858\n",
      "BFGS:    8 17:59:32      -40.585465        0.538404\n",
      "BFGS:    9 17:59:33      -40.592377        0.229561\n",
      "BFGS:   10 17:59:33      -40.595687        0.188866\n",
      "BFGS:   11 17:59:33      -40.598925        0.212160\n",
      "BFGS:   12 17:59:33      -40.601877        0.247871\n",
      "BFGS:   13 17:59:33      -40.604372        0.176312\n",
      "BFGS:   14 17:59:33      -40.606016        0.116014\n",
      "BFGS:   15 17:59:34      -40.607086        0.081684\n",
      "BFGS:   16 17:59:34      -40.607783        0.076794\n",
      "BFGS:   17 17:59:34      -40.608264        0.057185\n",
      "BFGS:   18 17:59:34      -40.608651        0.059810\n",
      "BFGS:   19 17:59:34      -40.609044        0.052490\n",
      "BFGS:   20 17:59:34      -40.609408        0.061244\n",
      "BFGS:   21 17:59:34      -40.609681        0.055283\n",
      "BFGS:   22 17:59:35      -40.609875        0.041288\n"
     ]
    },
    {
     "name": "stderr",
     "output_type": "stream",
     "text": [
      " 72%|██████████████████████████████████████▎              | 26/36 [01:20<00:31,  3.20s/it]"
     ]
    },
    {
     "name": "stdout",
     "output_type": "stream",
     "text": [
      "      Step     Time          Energy          fmax\n",
      "BFGS:    0 17:59:35      -39.259683        2.700221\n",
      "BFGS:    1 17:59:35      -39.440500        2.730014\n",
      "BFGS:    2 17:59:35      -40.051189        1.800600\n",
      "BFGS:    3 17:59:35      -40.339573        1.748434\n",
      "BFGS:    4 17:59:35      -40.445502        1.216121\n",
      "BFGS:    5 17:59:36      -40.522387        0.503687\n",
      "BFGS:    6 17:59:36      -40.536462        0.488666\n",
      "BFGS:    7 17:59:36      -40.575461        0.626571\n",
      "BFGS:    8 17:59:36      -40.586435        0.410485\n",
      "BFGS:    9 17:59:36      -40.591382        0.180945\n",
      "BFGS:   10 17:59:36      -40.593665        0.162288\n",
      "BFGS:   11 17:59:37      -40.596346        0.212150\n",
      "BFGS:   12 17:59:37      -40.599195        0.242906\n",
      "BFGS:   13 17:59:37      -40.601802        0.176116\n",
      "BFGS:   14 17:59:37      -40.603375        0.111349\n",
      "BFGS:   15 17:59:37      -40.604256        0.078211\n",
      "BFGS:   16 17:59:37      -40.604936        0.089076\n",
      "BFGS:   17 17:59:38      -40.605558        0.070512\n",
      "BFGS:   18 17:59:38      -40.606048        0.072414\n",
      "BFGS:   19 17:59:38      -40.606473        0.056013\n",
      "BFGS:   20 17:59:38      -40.606866        0.069613\n",
      "BFGS:   21 17:59:38      -40.607170        0.061760\n",
      "BFGS:   22 17:59:38      -40.607359        0.034868\n"
     ]
    },
    {
     "name": "stderr",
     "output_type": "stream",
     "text": [
      " 75%|███████████████████████████████████████▊             | 27/36 [01:23<00:30,  3.35s/it]"
     ]
    },
    {
     "name": "stdout",
     "output_type": "stream",
     "text": [
      "      Step     Time          Energy          fmax\n",
      "BFGS:    0 17:59:39      -39.450728        2.594666\n",
      "BFGS:    1 17:59:39      -39.614344        2.571330\n",
      "BFGS:    2 17:59:39      -40.161965        1.624557\n",
      "BFGS:    3 17:59:39      -40.404483        1.711730\n",
      "BFGS:    4 17:59:39      -40.485427        1.080272\n",
      "BFGS:    5 17:59:39      -40.535973        0.449374\n",
      "BFGS:    6 17:59:39      -40.546066        0.434474\n",
      "BFGS:    7 17:59:40      -40.580872        0.375556\n",
      "BFGS:    8 17:59:40      -40.586346        0.239921\n",
      "BFGS:    9 17:59:40      -40.589520        0.156369\n",
      "BFGS:   10 17:59:40      -40.591407        0.159902\n",
      "BFGS:   11 17:59:40      -40.594416        0.214078\n",
      "BFGS:   12 17:59:41      -40.597477        0.213913\n",
      "BFGS:   13 17:59:41      -40.599929        0.138443\n",
      "BFGS:   14 17:59:41      -40.601073        0.103175\n",
      "BFGS:   15 17:59:41      -40.601691        0.084883\n",
      "BFGS:   16 17:59:41      -40.602381        0.092780\n",
      "BFGS:   17 17:59:42      -40.603099        0.085491\n",
      "BFGS:   18 17:59:42      -40.603672        0.073142\n",
      "BFGS:   19 17:59:42      -40.604083        0.052880\n",
      "BFGS:   20 17:59:42      -40.604412        0.067531\n",
      "BFGS:   21 17:59:42      -40.604649        0.051932\n",
      "BFGS:   22 17:59:42      -40.604780        0.025242\n"
     ]
    },
    {
     "name": "stderr",
     "output_type": "stream",
     "text": [
      " 78%|█████████████████████████████████████████▏           | 28/36 [01:27<00:28,  3.53s/it]"
     ]
    },
    {
     "name": "stdout",
     "output_type": "stream",
     "text": [
      "      Step     Time          Energy          fmax\n",
      "BFGS:    0 17:59:42      -39.648508        2.426491\n",
      "BFGS:    1 17:59:43      -39.791421        2.396714\n",
      "BFGS:    2 17:59:43      -40.264106        1.711415\n",
      "BFGS:    3 17:59:43      -40.444259        1.574811\n",
      "BFGS:    4 17:59:43      -40.514191        0.895455\n",
      "BFGS:    5 17:59:43      -40.542530        0.391662\n",
      "BFGS:    6 17:59:43      -40.551582        0.442195\n",
      "BFGS:    7 17:59:44      -40.574487        0.499150\n",
      "BFGS:    8 17:59:44      -40.582981        0.309486\n",
      "BFGS:    9 17:59:44      -40.586815        0.163616\n",
      "BFGS:   10 17:59:44      -40.588703        0.157218\n",
      "BFGS:   11 17:59:44      -40.591272        0.216334\n",
      "BFGS:   12 17:59:44      -40.594373        0.247588\n",
      "BFGS:   13 17:59:44      -40.597338        0.183586\n",
      "BFGS:   14 17:59:45      -40.598996        0.116095\n",
      "BFGS:   15 17:59:45      -40.599718        0.105456\n",
      "BFGS:   16 17:59:45      -40.600336        0.088439\n",
      "BFGS:   17 17:59:45      -40.601145        0.093016\n",
      "BFGS:   18 17:59:45      -40.601869        0.077393\n",
      "BFGS:   19 17:59:45      -40.602364        0.056631\n",
      "BFGS:   20 17:59:46      -40.602679        0.051407\n",
      "BFGS:   21 17:59:46      -40.602926        0.054640\n",
      "BFGS:   22 17:59:46      -40.603090        0.033885\n"
     ]
    },
    {
     "name": "stderr",
     "output_type": "stream",
     "text": [
      " 81%|██████████████████████████████████████████▋          | 29/36 [01:31<00:24,  3.55s/it]"
     ]
    },
    {
     "name": "stdout",
     "output_type": "stream",
     "text": [
      "      Step     Time          Energy          fmax\n",
      "BFGS:    0 17:59:46      -39.848546        2.219592\n",
      "BFGS:    1 17:59:46      -39.969049        2.144747\n",
      "BFGS:    2 17:59:46      -40.326097        1.394651\n",
      "BFGS:    3 17:59:46      -40.483349        1.356476\n",
      "BFGS:    4 17:59:47      -40.531421        0.742845\n",
      "BFGS:    5 17:59:47      -40.549361        0.372877\n",
      "BFGS:    6 17:59:47      -40.557759        0.449695\n",
      "BFGS:    7 17:59:47      -40.574585        0.513352\n",
      "BFGS:    8 17:59:47      -40.583328        0.317361\n",
      "BFGS:    9 17:59:47      -40.587004        0.151924\n",
      "BFGS:   10 17:59:48      -40.588869        0.168294\n",
      "BFGS:   11 17:59:48      -40.591416        0.226801\n",
      "BFGS:   12 17:59:48      -40.594506        0.271581\n",
      "BFGS:   13 17:59:48      -40.597258        0.201797\n",
      "BFGS:   14 17:59:48      -40.598799        0.121354\n",
      "BFGS:   15 17:59:48      -40.599537        0.114737\n",
      "BFGS:   16 17:59:48      -40.600210        0.091854\n",
      "BFGS:   17 17:59:49      -40.600993        0.108300\n",
      "BFGS:   18 17:59:49      -40.601657        0.075368\n",
      "BFGS:   19 17:59:49      -40.602127        0.062002\n",
      "BFGS:   20 17:59:49      -40.602457        0.050514\n",
      "BFGS:   21 17:59:49      -40.602702        0.048776\n"
     ]
    },
    {
     "name": "stderr",
     "output_type": "stream",
     "text": [
      " 83%|████████████████████████████████████████████▏        | 30/36 [01:34<00:20,  3.46s/it]"
     ]
    },
    {
     "name": "stdout",
     "output_type": "stream",
     "text": [
      "      Step     Time          Energy          fmax\n",
      "BFGS:    0 17:59:49      -40.042533        1.912078\n",
      "BFGS:    1 17:59:49      -40.136239        1.850848\n",
      "BFGS:    2 17:59:50      -40.383437        1.260303\n",
      "BFGS:    3 17:59:50      -40.507984        1.158839\n",
      "BFGS:    4 17:59:50      -40.544749        0.604599\n",
      "BFGS:    5 17:59:50      -40.556215        0.347036\n",
      "BFGS:    6 17:59:50      -40.564991        0.448892\n",
      "BFGS:    7 17:59:50      -40.577102        0.490551\n",
      "BFGS:    8 17:59:51      -40.585793        0.297844\n",
      "BFGS:    9 17:59:51      -40.589310        0.134350\n",
      "BFGS:   10 17:59:51      -40.591113        0.164214\n",
      "BFGS:   11 17:59:51      -40.593422        0.207556\n",
      "BFGS:   12 17:59:51      -40.596402        0.258968\n",
      "BFGS:   13 17:59:51      -40.598896        0.195994\n",
      "BFGS:   14 17:59:51      -40.600246        0.118704\n",
      "BFGS:   15 17:59:52      -40.600929        0.115975\n",
      "BFGS:   16 17:59:52      -40.601572        0.096006\n",
      "BFGS:   17 17:59:52      -40.602273        0.110337\n",
      "BFGS:   18 17:59:52      -40.602830        0.074074\n",
      "BFGS:   19 17:59:52      -40.603221        0.060497\n",
      "BFGS:   20 17:59:52      -40.603518        0.047596\n"
     ]
    },
    {
     "name": "stderr",
     "output_type": "stream",
     "text": [
      " 86%|█████████████████████████████████████████████▋       | 31/36 [01:38<00:17,  3.41s/it]"
     ]
    },
    {
     "name": "stdout",
     "output_type": "stream",
     "text": [
      "      Step     Time          Energy          fmax\n",
      "BFGS:    0 17:59:53      -40.217467        1.500216\n",
      "BFGS:    1 17:59:53      -40.282083        1.479445\n",
      "BFGS:    2 17:59:53      -40.435265        1.107543\n",
      "BFGS:    3 17:59:53      -40.527125        0.994270\n",
      "BFGS:    4 17:59:53      -40.555207        0.516697\n",
      "BFGS:    5 17:59:54      -40.563533        0.309911\n",
      "BFGS:    6 17:59:54      -40.572621        0.434111\n",
      "BFGS:    7 17:59:54      -40.582424        0.429692\n",
      "BFGS:    8 17:59:54      -40.590063        0.277684\n",
      "BFGS:    9 17:59:54      -40.592969        0.127344\n",
      "BFGS:   10 17:59:54      -40.594589        0.149788\n",
      "BFGS:   11 17:59:55      -40.596792        0.199188\n",
      "BFGS:   12 17:59:55      -40.599618        0.256187\n",
      "BFGS:   13 17:59:55      -40.601775        0.178647\n",
      "BFGS:   14 17:59:55      -40.602799        0.107609\n",
      "BFGS:   15 17:59:55      -40.603344        0.107100\n",
      "BFGS:   16 17:59:56      -40.603915        0.090851\n",
      "BFGS:   17 17:59:56      -40.604517        0.100037\n",
      "BFGS:   18 17:59:56      -40.604946        0.064771\n",
      "BFGS:   19 17:59:56      -40.605214        0.046997\n"
     ]
    },
    {
     "name": "stderr",
     "output_type": "stream",
     "text": [
      " 89%|███████████████████████████████████████████████      | 32/36 [01:41<00:13,  3.49s/it]"
     ]
    },
    {
     "name": "stdout",
     "output_type": "stream",
     "text": [
      "      Step     Time          Energy          fmax\n",
      "BFGS:    0 17:59:56      -40.362096        1.122906\n",
      "BFGS:    1 17:59:56      -40.403439        1.105724\n",
      "BFGS:    2 17:59:57      -40.487902        0.905291\n",
      "BFGS:    3 17:59:57      -40.552131        0.791800\n",
      "BFGS:    4 17:59:57      -40.569237        0.429868\n",
      "BFGS:    5 17:59:57      -40.575308        0.265395\n",
      "BFGS:    6 17:59:57      -40.582544        0.368171\n",
      "BFGS:    7 17:59:58      -40.590099        0.339695\n",
      "BFGS:    8 17:59:58      -40.595712        0.241575\n",
      "BFGS:    9 17:59:58      -40.597891        0.119094\n",
      "BFGS:   10 17:59:58      -40.599200        0.127875\n",
      "BFGS:   11 17:59:58      -40.601081        0.199868\n",
      "BFGS:   12 17:59:58      -40.603434        0.247526\n",
      "BFGS:   13 17:59:59      -40.605101        0.161646\n",
      "BFGS:   14 17:59:59      -40.605796        0.087278\n",
      "BFGS:   15 17:59:59      -40.606168        0.088851\n",
      "BFGS:   16 17:59:59      -40.606585        0.089348\n",
      "BFGS:   17 17:59:59      -40.607026        0.097578\n",
      "BFGS:   18 18:00:00      -40.607325        0.059373\n",
      "BFGS:   19 18:00:00      -40.607488        0.033750\n"
     ]
    },
    {
     "name": "stderr",
     "output_type": "stream",
     "text": [
      " 92%|████████████████████████████████████████████████▌    | 33/36 [01:45<00:10,  3.58s/it]"
     ]
    },
    {
     "name": "stdout",
     "output_type": "stream",
     "text": [
      "      Step     Time          Energy          fmax\n",
      "BFGS:    0 18:00:00      -40.472712        0.797844\n",
      "BFGS:    1 18:00:00      -40.495212        0.765545\n",
      "BFGS:    2 18:00:00      -40.537963        0.704122\n",
      "BFGS:    3 18:00:01      -40.575056        0.639485\n",
      "BFGS:    4 18:00:01      -40.584790        0.344527\n",
      "BFGS:    5 18:00:01      -40.588863        0.225261\n",
      "BFGS:    6 18:00:01      -40.592857        0.281779\n",
      "BFGS:    7 18:00:01      -40.598052        0.276170\n",
      "BFGS:    8 18:00:02      -40.601532        0.188561\n",
      "BFGS:    9 18:00:02      -40.603085        0.104759\n",
      "BFGS:   10 18:00:02      -40.603985        0.112210\n",
      "BFGS:   11 18:00:02      -40.605253        0.159726\n",
      "BFGS:   12 18:00:02      -40.606836        0.186161\n",
      "BFGS:   13 18:00:02      -40.608016        0.111532\n",
      "BFGS:   14 18:00:02      -40.608501        0.061112\n",
      "BFGS:   15 18:00:03      -40.608729        0.059896\n",
      "BFGS:   16 18:00:03      -40.608940        0.065730\n",
      "BFGS:   17 18:00:03      -40.609161        0.056247\n",
      "BFGS:   18 18:00:03      -40.609354        0.039795\n"
     ]
    },
    {
     "name": "stderr",
     "output_type": "stream",
     "text": [
      " 94%|██████████████████████████████████████████████████   | 34/36 [01:48<00:06,  3.48s/it]"
     ]
    },
    {
     "name": "stdout",
     "output_type": "stream",
     "text": [
      "      Step     Time          Energy          fmax\n",
      "BFGS:    0 18:00:03      -40.550314        0.557056\n",
      "BFGS:    1 18:00:03      -40.560420        0.475882\n",
      "BFGS:    2 18:00:04      -40.578215        0.450018\n",
      "BFGS:    3 18:00:04      -40.594056        0.412086\n",
      "BFGS:    4 18:00:04      -40.598708        0.221339\n",
      "BFGS:    5 18:00:04      -40.600649        0.162706\n",
      "BFGS:    6 18:00:04      -40.602709        0.188175\n",
      "BFGS:    7 18:00:04      -40.605099        0.201234\n",
      "BFGS:    8 18:00:05      -40.606766        0.133127\n",
      "BFGS:    9 18:00:05      -40.607616        0.083004\n",
      "BFGS:   10 18:00:05      -40.608141        0.086031\n",
      "BFGS:   11 18:00:05      -40.608762        0.093311\n",
      "BFGS:   12 18:00:05      -40.609477        0.100042\n",
      "BFGS:   13 18:00:05      -40.610080        0.071645\n",
      "BFGS:   14 18:00:05      -40.610419        0.044962\n"
     ]
    },
    {
     "name": "stderr",
     "output_type": "stream",
     "text": [
      " 97%|███████████████████████████████████████████████████▌ | 35/36 [01:51<00:03,  3.13s/it]"
     ]
    },
    {
     "name": "stdout",
     "output_type": "stream",
     "text": [
      "      Step     Time          Energy          fmax\n",
      "BFGS:    0 18:00:06      -40.596544        0.286723\n",
      "BFGS:    1 18:00:06      -40.599145        0.217958\n",
      "BFGS:    2 18:00:06      -40.603382        0.214369\n",
      "BFGS:    3 18:00:06      -40.607125        0.183538\n",
      "BFGS:    4 18:00:06      -40.608385        0.101421\n",
      "BFGS:    5 18:00:06      -40.609019        0.090334\n",
      "BFGS:    6 18:00:07      -40.609562        0.092864\n",
      "BFGS:    7 18:00:07      -40.610057        0.097846\n",
      "BFGS:    8 18:00:07      -40.610460        0.068941\n",
      "BFGS:    9 18:00:07      -40.610764        0.053189\n",
      "BFGS:   10 18:00:07      -40.610966        0.047718\n"
     ]
    },
    {
     "name": "stderr",
     "output_type": "stream",
     "text": [
      "100%|█████████████████████████████████████████████████████| 36/36 [01:52<00:00,  3.13s/it]\n"
     ]
    }
   ],
   "source": [
    "\n",
    "# Relaxed scan\n",
    "\n",
    "dihedral_indices = [0, 2, 1, 5]\n",
    "dihedrals = np.arange(0, 360, 10)\n",
    "energies = []\n",
    "\n",
    "for diheral in tqdm(dihedrals):\n",
    "    clone = ethane_stagggered.copy()\n",
    "    clone.rotate_dihedral(0, 2, 1, 5, angle=diheral, indices=[5, 6, 7])\n",
    "\n",
    "    c = FixInternals(dihedrals_deg=[[clone.get_dihedral(*dihedral_indices), dihedral_indices]])\n",
    "    clone.set_constraint(c)\n",
    "    \n",
    "    clone.calc = calc\n",
    "    opt = BFGS(clone)\n",
    "    opt.run()\n",
    "    energies.append(clone.get_potential_energy())\n",
    "\n",
    "relaxed_energies = np.array(energies)"
   ]
  },
  {
   "cell_type": "code",
   "execution_count": 146,
   "id": "1a4415a2-9b0e-4a0c-aecc-55bc930a9f54",
   "metadata": {},
   "outputs": [
    {
     "data": {
      "text/plain": [
       "0.04336410390059322"
      ]
     },
     "execution_count": 146,
     "metadata": {},
     "output_type": "execute_result"
    }
   ],
   "source": [
    "units.kcal / units.mol"
   ]
  },
  {
   "cell_type": "code",
   "execution_count": 154,
   "id": "997e350f-d197-40b7-9fd8-5ba1bd768323",
   "metadata": {},
   "outputs": [
    {
     "data": {
      "image/png": "[encoded data removed]",
      "text/plain": [
       "<Figure size 640x480 with 2 Axes>"
      ]
     },
     "metadata": {},
     "output_type": "display_data"
    }
   ],
   "source": [
    "\n",
    "from matplotlib import pyplot as plt\n",
    "\n",
    "factor = units.eV / (units.kcal / units.mol)\n",
    "with plt.style.context('default'):\n",
    "\n",
    "    fig, axes = plt.subplot_mosaic(\n",
    "        \"\"\"\n",
    "        a\n",
    "        b\n",
    "        \"\"\",\n",
    "        sharex=True,\n",
    "        constrained_layout=True\n",
    "    )\n",
    "    i = 'a'\n",
    "    axes[i].plot(dihedrals + 60, rigid_energies*factor)#, label='rigid')\n",
    "    # axes[i].legend()\n",
    "    axes[i].set(\n",
    "        title='rigid',\n",
    "        ylabel='energy [kcal/mol]'\n",
    "    )\n",
    "    i = 'b'\n",
    "    axes[i].plot(dihedrals + 60, relaxed_energies*factor)#, label='relaxed')\n",
    "    axes[i].set(\n",
    "        title='relaxed',\n",
    "        xlabel='dihedral [deg]', ylabel='energy [kcal/mol]'\n",
    "    )\n",
    "    # axes[i].legend()\n",
    "\n",
    "    plt.savefig('ethane-pes-dihedral.png')\n",
    "    plt.show()    "
   ]
  },
  {
   "cell_type": "code",
   "execution_count": null,
   "id": "07bba6e7-4dd4-4ef1-bf71-161f514144a3",
   "metadata": {},
   "outputs": [],
   "source": []
  }
 ],
 "metadata": {
  "kernelspec": {
   "display_name": "dev-py311",
   "language": "python",
   "name": "dev-py311"
  },
  "language_info": {
   "codemirror_mode": {
    "name": "ipython",
    "version": 3
   },
   "file_extension": ".py",
   "mimetype": "text/x-python",
   "name": "python",
   "nbconvert_exporter": "python",
   "pygments_lexer": "ipython3",
   "version": "3.11.5"
  }
 },
 "nbformat": 4,
 "nbformat_minor": 5
}
