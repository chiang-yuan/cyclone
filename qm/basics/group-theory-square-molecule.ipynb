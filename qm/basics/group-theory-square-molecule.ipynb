{
 "cells": [
  {
   "cell_type": "code",
   "execution_count": 119,
   "metadata": {},
   "outputs": [],
   "source": [
    "from sympy.physics.quantum.state import Bra, Ket\n",
    "from sympy.physics.quantum.dagger import Dagger\n",
    "from sympy.physics.quantum import qapply, Bra, Ket\n",
    "from sympy.matrices import Matrix\n",
    "from sympy import expand, symbols, exp, I, pi\n",
    "from matplotlib import pyplot as plt"
   ]
  },
  {
   "cell_type": "markdown",
   "metadata": {},
   "source": [
    "## (1) Definition of states"
   ]
  },
  {
   "cell_type": "code",
   "execution_count": 4,
   "metadata": {},
   "outputs": [],
   "source": [
    "sa, sb, sc, sd = Ket(\"SA\"), Ket(\"SB\"), Ket(\"SC\"), Ket(\"SD\")\n",
    "pax, pbx, pcx, pdx = Ket(\"PAx\"), Ket(\"PBx\"), Ket(\"PCx\"), Ket(\"PDx\")\n",
    "pay, pby, pcy, pdy = Ket(\"PAy\"), Ket(\"PBy\"), Ket(\"PCy\"), Ket(\"PDy\")\n",
    "paz, pbz, pcz, pdz = Ket(\"PAz\"), Ket(\"PBz\"), Ket(\"PCz\"), Ket(\"PDz\")"
   ]
  },
  {
   "cell_type": "code",
   "execution_count": 85,
   "metadata": {},
   "outputs": [],
   "source": [
    "Phi = Matrix(\n",
    "    [\n",
    "        # Gamma(0)\n",
    "        0.5 * (sa + sd + sc + sb),\n",
    "        0.5 * (pax + pdy + pcx + pby),\n",
    "        0.5 * (pay + pdx + pcy + pbx),\n",
    "        0.5 * (paz + pdz + pcz + pbz),\n",
    "        # Gamma(1)\n",
    "        0.5 * (sa - I * sd - sc + I * sb),\n",
    "        0.5 * (pax - I * pdy - pcx + I * pby),\n",
    "        0.5 * (pay - I * pdx - pcy + I * pbx),\n",
    "        0.5 * (paz - I * pdz - pcz + I * pbz),\n",
    "        # Gamma(2)\n",
    "        0.5 * (sa - sd + sc - sb),\n",
    "        0.5 * (pax - pdy + pcx - pby),\n",
    "        0.5 * (pay - pdx + pcy - pbx),\n",
    "        0.5 * (paz - pdz + pcz - pbz),\n",
    "        # Gamma(3)\n",
    "        0.5 * (sa + I * sd - sc - I * sb),\n",
    "        0.5 * (pax + I * pdy - pcx - I * pby),\n",
    "        0.5 * (pay + I * pdx - pcy - I * pbx),\n",
    "        0.5 * (paz + I * pdz - pcz - I * pbz),\n",
    "    ]\n",
    ").T\n",
    "\n",
    "Phi = expand(Phi)"
   ]
  },
  {
   "cell_type": "markdown",
   "metadata": {},
   "source": [
    "## (2) Hamiltonian"
   ]
  },
  {
   "cell_type": "code",
   "execution_count": 86,
   "metadata": {},
   "outputs": [],
   "source": [
    "h = Phi.applyfunc(lambda i: Dagger(i)).T * Phi\n",
    "\n",
    "h = h.applyfunc(lambda i: qapply(expand(i)).doit())"
   ]
  },
  {
   "cell_type": "code",
   "execution_count": 92,
   "metadata": {},
   "outputs": [],
   "source": [
    "H = h\n",
    "Es = symbols(\"Es\", real=True)\n",
    "Ep = symbols(\"Ep\", real=True)\n",
    "sss = symbols(r\"ss\\sigma\", real=True)\n",
    "sps = symbols(r\"sp\\sigma\", real=True)\n",
    "pps = symbols(r\"ps\\sigma\", real=True)\n",
    "ppp = symbols(r\"pp\\pi\", real=True)\n",
    "\n",
    "orbitals = [sa, sb, sc, sd, pax, pay, paz, pbx, pby, pbz, pcx, pcy, pcz, pdx, pdy, pdz]\n",
    "\n",
    "circle = \"ABCD\"\n",
    "\n",
    "order = len(circle)\n",
    "\n",
    "for oi in orbitals:\n",
    "    for oj in orbitals:\n",
    "        if oi == oj and oi in [sa, sb, sc, sd]:\n",
    "            H = H.subs(oi.dual * oj, Es)\n",
    "            continue\n",
    "        elif oi == oj and oi in [\n",
    "            pax,\n",
    "            pay,\n",
    "            paz,\n",
    "            pbx,\n",
    "            pby,\n",
    "            pbz,\n",
    "            pcx,\n",
    "            pcy,\n",
    "            pcz,\n",
    "            pdx,\n",
    "            pdy,\n",
    "            pdz,\n",
    "        ]:\n",
    "            H = H.subs(oi.dual * oj, Ep)\n",
    "            continue\n",
    "\n",
    "        stri, strj = str(oi), str(oj)\n",
    "\n",
    "        i = circle.index(stri[2])\n",
    "        j = circle.index(strj[2])\n",
    "\n",
    "        dist = min((i - j) % order, (j - i) % order)\n",
    "\n",
    "        if dist == 2:\n",
    "            H = H.subs(oi.dual * oj, 0)\n",
    "            continue\n",
    "        if dist == 0 and oi != oj:\n",
    "            H = H.subs(oi.dual * oj, 0)\n",
    "            continue\n",
    "\n",
    "        if stri[1] == \"S\" and strj[1] == \"S\":\n",
    "            H = H.subs(oi.dual * oj, sss)\n",
    "            continue\n",
    "        orbset = set([oi, oj])\n",
    "        if (\n",
    "            orbset == set([sa, pbx])\n",
    "            or orbset == set([sb, pax])\n",
    "            or orbset == set([sc, pdx])\n",
    "            or orbset == set([sd, pcx])\n",
    "            or orbset == set([sa, pdy])\n",
    "            or orbset == set([sb, pcy])\n",
    "            or orbset == set([sc, pby])\n",
    "            or orbset == set([sd, pay])\n",
    "        ):\n",
    "            H = H.subs(oi.dual * oj, sps)\n",
    "        elif (\n",
    "            orbset == set([pax, pbx])\n",
    "            or orbset == set([pby, pcy])\n",
    "            or orbset == set([pcx, pdx])\n",
    "            or orbset == set([pdy, pay])\n",
    "        ):\n",
    "            H = H.subs(oi.dual * oj, pps)\n",
    "        elif (\n",
    "            orbset == set([pax, pdx])\n",
    "            or orbset == set([pbx, pcx])\n",
    "            or orbset == set([pcy, pdy])\n",
    "            or orbset == set([pay, pby])\n",
    "        ):\n",
    "            H = H.subs(oi.dual * oj, ppp)\n",
    "        else:\n",
    "            H = H.subs(oi.dual * oj, 0)"
   ]
  },
  {
   "cell_type": "code",
   "execution_count": 106,
   "metadata": {},
   "outputs": [
    {
     "data": {
      "text/latex": [
       "$\\displaystyle \\left[\\begin{array}{cccccccccccccccc}1.0 Es + 2.0 ss\\sigma & 1.0 sp\\sigma & 1.0 sp\\sigma & 0 & 0 & 0 & 0 & 0 & 0 & 0 & 0 & 0 & 0 & 0 & 0 & 0\\\\1.0 sp\\sigma & 1.0 Ep & 1.0 pp\\pi + 1.0 ps\\sigma & 0 & 0 & 0 & 0 & 0 & 0 & 0 & 0 & 0 & 0 & 0 & 0 & 0\\\\1.0 sp\\sigma & 1.0 pp\\pi + 1.0 ps\\sigma & 1.0 Ep & 0 & 0 & 0 & 0 & 0 & 0 & 0 & 0 & 0 & 0 & 0 & 0 & 0\\\\0 & 0 & 0 & 1.0 Ep & 0 & 0 & 0 & 0 & 0 & 0 & 0 & 0 & 0 & 0 & 0 & 0\\\\0 & 0 & 0 & 0 & 1.0 Es & - 1.0 i sp\\sigma & 1.0 i sp\\sigma & 0 & 0 & 0 & 0 & 0 & 0 & 0 & 0 & 0\\\\0 & 0 & 0 & 0 & 1.0 i sp\\sigma & 1.0 Ep & - 1.0 i pp\\pi + 1.0 i ps\\sigma & 0 & 0 & 0 & 0 & 0 & 0 & 0 & 0 & 0\\\\0 & 0 & 0 & 0 & - 1.0 i sp\\sigma & 1.0 i pp\\pi - 1.0 i ps\\sigma & 1.0 Ep & 0 & 0 & 0 & 0 & 0 & 0 & 0 & 0 & 0\\\\0 & 0 & 0 & 0 & 0 & 0 & 0 & 1.0 Ep & 0 & 0 & 0 & 0 & 0 & 0 & 0 & 0\\\\0 & 0 & 0 & 0 & 0 & 0 & 0 & 0 & 1.0 Es - 2.0 ss\\sigma & - 1.0 sp\\sigma & - 1.0 sp\\sigma & 0 & 0 & 0 & 0 & 0\\\\0 & 0 & 0 & 0 & 0 & 0 & 0 & 0 & - 1.0 sp\\sigma & 1.0 Ep & - 1.0 pp\\pi - 1.0 ps\\sigma & 0 & 0 & 0 & 0 & 0\\\\0 & 0 & 0 & 0 & 0 & 0 & 0 & 0 & - 1.0 sp\\sigma & - 1.0 pp\\pi - 1.0 ps\\sigma & 1.0 Ep & 0 & 0 & 0 & 0 & 0\\\\0 & 0 & 0 & 0 & 0 & 0 & 0 & 0 & 0 & 0 & 0 & 1.0 Ep & 0 & 0 & 0 & 0\\\\0 & 0 & 0 & 0 & 0 & 0 & 0 & 0 & 0 & 0 & 0 & 0 & 1.0 Es & 1.0 i sp\\sigma & - 1.0 i sp\\sigma & 0\\\\0 & 0 & 0 & 0 & 0 & 0 & 0 & 0 & 0 & 0 & 0 & 0 & - 1.0 i sp\\sigma & 1.0 Ep & 1.0 i pp\\pi - 1.0 i ps\\sigma & 0\\\\0 & 0 & 0 & 0 & 0 & 0 & 0 & 0 & 0 & 0 & 0 & 0 & 1.0 i sp\\sigma & - 1.0 i pp\\pi + 1.0 i ps\\sigma & 1.0 Ep & 0\\\\0 & 0 & 0 & 0 & 0 & 0 & 0 & 0 & 0 & 0 & 0 & 0 & 0 & 0 & 0 & 1.0 Ep\\end{array}\\right]$"
      ],
      "text/plain": [
       "Matrix([\n",
       "[1.0*Es + 2.0*ss\\sigma,             1.0*sp\\sigma,             1.0*sp\\sigma,      0,               0,                            0,                             0,      0,                     0,                         0,                         0,      0,               0,                             0,                            0,      0],\n",
       "[         1.0*sp\\sigma,                   1.0*Ep, 1.0*pp\\pi + 1.0*ps\\sigma,      0,               0,                            0,                             0,      0,                     0,                         0,                         0,      0,               0,                             0,                            0,      0],\n",
       "[         1.0*sp\\sigma, 1.0*pp\\pi + 1.0*ps\\sigma,                   1.0*Ep,      0,               0,                            0,                             0,      0,                     0,                         0,                         0,      0,               0,                             0,                            0,      0],\n",
       "[                    0,                        0,                        0, 1.0*Ep,               0,                            0,                             0,      0,                     0,                         0,                         0,      0,               0,                             0,                            0,      0],\n",
       "[                    0,                        0,                        0,      0,          1.0*Es,              -1.0*I*sp\\sigma,                1.0*I*sp\\sigma,      0,                     0,                         0,                         0,      0,               0,                             0,                            0,      0],\n",
       "[                    0,                        0,                        0,      0,  1.0*I*sp\\sigma,                       1.0*Ep, -1.0*I*pp\\pi + 1.0*I*ps\\sigma,      0,                     0,                         0,                         0,      0,               0,                             0,                            0,      0],\n",
       "[                    0,                        0,                        0,      0, -1.0*I*sp\\sigma, 1.0*I*pp\\pi - 1.0*I*ps\\sigma,                        1.0*Ep,      0,                     0,                         0,                         0,      0,               0,                             0,                            0,      0],\n",
       "[                    0,                        0,                        0,      0,               0,                            0,                             0, 1.0*Ep,                     0,                         0,                         0,      0,               0,                             0,                            0,      0],\n",
       "[                    0,                        0,                        0,      0,               0,                            0,                             0,      0, 1.0*Es - 2.0*ss\\sigma,             -1.0*sp\\sigma,             -1.0*sp\\sigma,      0,               0,                             0,                            0,      0],\n",
       "[                    0,                        0,                        0,      0,               0,                            0,                             0,      0,         -1.0*sp\\sigma,                    1.0*Ep, -1.0*pp\\pi - 1.0*ps\\sigma,      0,               0,                             0,                            0,      0],\n",
       "[                    0,                        0,                        0,      0,               0,                            0,                             0,      0,         -1.0*sp\\sigma, -1.0*pp\\pi - 1.0*ps\\sigma,                    1.0*Ep,      0,               0,                             0,                            0,      0],\n",
       "[                    0,                        0,                        0,      0,               0,                            0,                             0,      0,                     0,                         0,                         0, 1.0*Ep,               0,                             0,                            0,      0],\n",
       "[                    0,                        0,                        0,      0,               0,                            0,                             0,      0,                     0,                         0,                         0,      0,          1.0*Es,                1.0*I*sp\\sigma,              -1.0*I*sp\\sigma,      0],\n",
       "[                    0,                        0,                        0,      0,               0,                            0,                             0,      0,                     0,                         0,                         0,      0, -1.0*I*sp\\sigma,                        1.0*Ep, 1.0*I*pp\\pi - 1.0*I*ps\\sigma,      0],\n",
       "[                    0,                        0,                        0,      0,               0,                            0,                             0,      0,                     0,                         0,                         0,      0,  1.0*I*sp\\sigma, -1.0*I*pp\\pi + 1.0*I*ps\\sigma,                       1.0*Ep,      0],\n",
       "[                    0,                        0,                        0,      0,               0,                            0,                             0,      0,                     0,                         0,                         0,      0,               0,                             0,                            0, 1.0*Ep]])"
      ]
     },
     "execution_count": 106,
     "metadata": {},
     "output_type": "execute_result"
    }
   ],
   "source": [
    "H"
   ]
  },
  {
   "cell_type": "markdown",
   "metadata": {},
   "source": [
    "## (3) Eigenvalues and eigenfunction"
   ]
  },
  {
   "cell_type": "code",
   "execution_count": 104,
   "metadata": {},
   "outputs": [
    {
     "data": {
      "text/plain": [
       "{0.5*Ep + 0.5*Es + 0.5*pp\\pi + 0.5*ps\\sigma + 1.0*ss\\sigma - 1.4142135623731*sqrt(0.125*Ep**2 - 0.25*Ep*Es + 0.25*Ep*pp\\pi + 0.25*Ep*ps\\sigma - 0.5*Ep*ss\\sigma + 0.125*Es**2 - 0.25*Es*pp\\pi - 0.25*Es*ps\\sigma + 0.5*Es*ss\\sigma + 0.125*pp\\pi**2 + 0.25*pp\\pi*ps\\sigma - 0.5*pp\\pi*ss\\sigma + 0.125*ps\\sigma**2 - 0.5*ps\\sigma*ss\\sigma + 1.0*sp\\sigma**2 + 0.5*ss\\sigma**2): 1,\n",
       " 0.5*Ep + 0.5*Es + 0.5*pp\\pi + 0.5*ps\\sigma + 1.0*ss\\sigma + 1.4142135623731*sqrt(0.125*Ep**2 - 0.25*Ep*Es + 0.25*Ep*pp\\pi + 0.25*Ep*ps\\sigma - 0.5*Ep*ss\\sigma + 0.125*Es**2 - 0.25*Es*pp\\pi - 0.25*Es*ps\\sigma + 0.5*Es*ss\\sigma + 0.125*pp\\pi**2 + 0.25*pp\\pi*ps\\sigma - 0.5*pp\\pi*ss\\sigma + 0.125*ps\\sigma**2 - 0.5*ps\\sigma*ss\\sigma + 1.0*sp\\sigma**2 + 0.5*ss\\sigma**2): 1,\n",
       " 1.0*Ep - 1.0*pp\\pi - 1.0*ps\\sigma: 1,\n",
       " 1.0*Ep: 4,\n",
       " 0.666666666666667*Ep + 0.333333333333333*Es - 0.111111111111111*(-3.0*Ep**2 - 6.0*Ep*Es + 3.0*pp\\pi**2 - 6.0*pp\\pi*ps\\sigma + 3.0*ps\\sigma**2 + 6.0*sp\\sigma**2 + 4.0*(-Ep - 0.5*Es)**2)/(-0.5*Ep**2*Es + Ep*sp\\sigma**2 + 0.5*Es*pp\\pi**2 - Es*pp\\pi*ps\\sigma + 0.5*Es*ps\\sigma**2 - 0.0185185185185185*(-18.0*Ep - 9.0*Es)*(1.0*Ep**2 + 2.0*Ep*Es - 1.0*pp\\pi**2 + 2.0*pp\\pi*ps\\sigma - 1.0*ps\\sigma**2 - 2.0*sp\\sigma**2) + 0.296296296296296*(-Ep - 0.5*Es)**3 + sqrt(-0.296296296296296*(-0.5*Ep**2 - Ep*Es + 0.5*pp\\pi**2 - pp\\pi*ps\\sigma + 0.5*ps\\sigma**2 + sp\\sigma**2 + 0.666666666666667*(-Ep - 0.5*Es)**2)**3 + (-0.5*Ep**2*Es + Ep*sp\\sigma**2 + 0.5*Es*pp\\pi**2 - Es*pp\\pi*ps\\sigma + 0.5*Es*ps\\sigma**2 - 0.0185185185185185*(-18.0*Ep - 9.0*Es)*(1.0*Ep**2 + 2.0*Ep*Es - 1.0*pp\\pi**2 + 2.0*pp\\pi*ps\\sigma - 1.0*ps\\sigma**2 - 2.0*sp\\sigma**2) + 0.296296296296296*(-Ep - 0.5*Es)**3)**2))**(1/3) - 1.0*(-0.5*Ep**2*Es + Ep*sp\\sigma**2 + 0.5*Es*pp\\pi**2 - Es*pp\\pi*ps\\sigma + 0.5*Es*ps\\sigma**2 - 0.0185185185185185*(-18.0*Ep - 9.0*Es)*(1.0*Ep**2 + 2.0*Ep*Es - 1.0*pp\\pi**2 + 2.0*pp\\pi*ps\\sigma - 1.0*ps\\sigma**2 - 2.0*sp\\sigma**2) + 0.296296296296296*(-Ep - 0.5*Es)**3 + sqrt(-0.296296296296296*(-0.5*Ep**2 - Ep*Es + 0.5*pp\\pi**2 - pp\\pi*ps\\sigma + 0.5*ps\\sigma**2 + sp\\sigma**2 + 0.666666666666667*(-Ep - 0.5*Es)**2)**3 + (-0.5*Ep**2*Es + Ep*sp\\sigma**2 + 0.5*Es*pp\\pi**2 - Es*pp\\pi*ps\\sigma + 0.5*Es*ps\\sigma**2 - 0.0185185185185185*(-18.0*Ep - 9.0*Es)*(1.0*Ep**2 + 2.0*Ep*Es - 1.0*pp\\pi**2 + 2.0*pp\\pi*ps\\sigma - 1.0*ps\\sigma**2 - 2.0*sp\\sigma**2) + 0.296296296296296*(-Ep - 0.5*Es)**3)**2))**(1/3): 2,\n",
       " 0.666666666666667*Ep + 0.333333333333333*Es - 0.111111111111111*(-3.0*Ep**2 - 6.0*Ep*Es + 3.0*pp\\pi**2 - 6.0*pp\\pi*ps\\sigma + 3.0*ps\\sigma**2 + 6.0*sp\\sigma**2 + 4.0*(-Ep - 0.5*Es)**2)/((-1/2 + sqrt(3)*I/2)*(-0.5*Ep**2*Es + Ep*sp\\sigma**2 + 0.5*Es*pp\\pi**2 - Es*pp\\pi*ps\\sigma + 0.5*Es*ps\\sigma**2 - 0.0185185185185185*(-18.0*Ep - 9.0*Es)*(1.0*Ep**2 + 2.0*Ep*Es - 1.0*pp\\pi**2 + 2.0*pp\\pi*ps\\sigma - 1.0*ps\\sigma**2 - 2.0*sp\\sigma**2) + 0.296296296296296*(-Ep - 0.5*Es)**3 + sqrt(-0.296296296296296*(-0.5*Ep**2 - Ep*Es + 0.5*pp\\pi**2 - pp\\pi*ps\\sigma + 0.5*ps\\sigma**2 + sp\\sigma**2 + 0.666666666666667*(-Ep - 0.5*Es)**2)**3 + (-0.5*Ep**2*Es + Ep*sp\\sigma**2 + 0.5*Es*pp\\pi**2 - Es*pp\\pi*ps\\sigma + 0.5*Es*ps\\sigma**2 - 0.0185185185185185*(-18.0*Ep - 9.0*Es)*(1.0*Ep**2 + 2.0*Ep*Es - 1.0*pp\\pi**2 + 2.0*pp\\pi*ps\\sigma - 1.0*ps\\sigma**2 - 2.0*sp\\sigma**2) + 0.296296296296296*(-Ep - 0.5*Es)**3)**2))**(1/3)) - 1.0*(-1/2 + sqrt(3)*I/2)*(-0.5*Ep**2*Es + Ep*sp\\sigma**2 + 0.5*Es*pp\\pi**2 - Es*pp\\pi*ps\\sigma + 0.5*Es*ps\\sigma**2 - 0.0185185185185185*(-18.0*Ep - 9.0*Es)*(1.0*Ep**2 + 2.0*Ep*Es - 1.0*pp\\pi**2 + 2.0*pp\\pi*ps\\sigma - 1.0*ps\\sigma**2 - 2.0*sp\\sigma**2) + 0.296296296296296*(-Ep - 0.5*Es)**3 + sqrt(-0.296296296296296*(-0.5*Ep**2 - Ep*Es + 0.5*pp\\pi**2 - pp\\pi*ps\\sigma + 0.5*ps\\sigma**2 + sp\\sigma**2 + 0.666666666666667*(-Ep - 0.5*Es)**2)**3 + (-0.5*Ep**2*Es + Ep*sp\\sigma**2 + 0.5*Es*pp\\pi**2 - Es*pp\\pi*ps\\sigma + 0.5*Es*ps\\sigma**2 - 0.0185185185185185*(-18.0*Ep - 9.0*Es)*(1.0*Ep**2 + 2.0*Ep*Es - 1.0*pp\\pi**2 + 2.0*pp\\pi*ps\\sigma - 1.0*ps\\sigma**2 - 2.0*sp\\sigma**2) + 0.296296296296296*(-Ep - 0.5*Es)**3)**2))**(1/3): 2,\n",
       " 0.666666666666667*Ep + 0.333333333333333*Es - 0.111111111111111*(-3.0*Ep**2 - 6.0*Ep*Es + 3.0*pp\\pi**2 - 6.0*pp\\pi*ps\\sigma + 3.0*ps\\sigma**2 + 6.0*sp\\sigma**2 + 4.0*(-Ep - 0.5*Es)**2)/((-1/2 - sqrt(3)*I/2)*(-0.5*Ep**2*Es + Ep*sp\\sigma**2 + 0.5*Es*pp\\pi**2 - Es*pp\\pi*ps\\sigma + 0.5*Es*ps\\sigma**2 - 0.0185185185185185*(-18.0*Ep - 9.0*Es)*(1.0*Ep**2 + 2.0*Ep*Es - 1.0*pp\\pi**2 + 2.0*pp\\pi*ps\\sigma - 1.0*ps\\sigma**2 - 2.0*sp\\sigma**2) + 0.296296296296296*(-Ep - 0.5*Es)**3 + sqrt(-0.296296296296296*(-0.5*Ep**2 - Ep*Es + 0.5*pp\\pi**2 - pp\\pi*ps\\sigma + 0.5*ps\\sigma**2 + sp\\sigma**2 + 0.666666666666667*(-Ep - 0.5*Es)**2)**3 + (-0.5*Ep**2*Es + Ep*sp\\sigma**2 + 0.5*Es*pp\\pi**2 - Es*pp\\pi*ps\\sigma + 0.5*Es*ps\\sigma**2 - 0.0185185185185185*(-18.0*Ep - 9.0*Es)*(1.0*Ep**2 + 2.0*Ep*Es - 1.0*pp\\pi**2 + 2.0*pp\\pi*ps\\sigma - 1.0*ps\\sigma**2 - 2.0*sp\\sigma**2) + 0.296296296296296*(-Ep - 0.5*Es)**3)**2))**(1/3)) - 1.0*(-1/2 - sqrt(3)*I/2)*(-0.5*Ep**2*Es + Ep*sp\\sigma**2 + 0.5*Es*pp\\pi**2 - Es*pp\\pi*ps\\sigma + 0.5*Es*ps\\sigma**2 - 0.0185185185185185*(-18.0*Ep - 9.0*Es)*(1.0*Ep**2 + 2.0*Ep*Es - 1.0*pp\\pi**2 + 2.0*pp\\pi*ps\\sigma - 1.0*ps\\sigma**2 - 2.0*sp\\sigma**2) + 0.296296296296296*(-Ep - 0.5*Es)**3 + sqrt(-0.296296296296296*(-0.5*Ep**2 - Ep*Es + 0.5*pp\\pi**2 - pp\\pi*ps\\sigma + 0.5*ps\\sigma**2 + sp\\sigma**2 + 0.666666666666667*(-Ep - 0.5*Es)**2)**3 + (-0.5*Ep**2*Es + Ep*sp\\sigma**2 + 0.5*Es*pp\\pi**2 - Es*pp\\pi*ps\\sigma + 0.5*Es*ps\\sigma**2 - 0.0185185185185185*(-18.0*Ep - 9.0*Es)*(1.0*Ep**2 + 2.0*Ep*Es - 1.0*pp\\pi**2 + 2.0*pp\\pi*ps\\sigma - 1.0*ps\\sigma**2 - 2.0*sp\\sigma**2) + 0.296296296296296*(-Ep - 0.5*Es)**3)**2))**(1/3): 2,\n",
       " 0.5*Ep + 0.5*Es - 0.5*pp\\pi - 0.5*ps\\sigma - 1.0*ss\\sigma - 1.4142135623731*sqrt(0.125*Ep**2 - 0.25*Ep*Es - 0.25*Ep*pp\\pi - 0.25*Ep*ps\\sigma + 0.5*Ep*ss\\sigma + 0.125*Es**2 + 0.25*Es*pp\\pi + 0.25*Es*ps\\sigma - 0.5*Es*ss\\sigma + 0.125*pp\\pi**2 + 0.25*pp\\pi*ps\\sigma - 0.5*pp\\pi*ss\\sigma + 0.125*ps\\sigma**2 - 0.5*ps\\sigma*ss\\sigma + 1.0*sp\\sigma**2 + 0.5*ss\\sigma**2): 1,\n",
       " 0.5*Ep + 0.5*Es - 0.5*pp\\pi - 0.5*ps\\sigma - 1.0*ss\\sigma + 1.4142135623731*sqrt(0.125*Ep**2 - 0.25*Ep*Es - 0.25*Ep*pp\\pi - 0.25*Ep*ps\\sigma + 0.5*Ep*ss\\sigma + 0.125*Es**2 + 0.25*Es*pp\\pi + 0.25*Es*ps\\sigma - 0.5*Es*ss\\sigma + 0.125*pp\\pi**2 + 0.25*pp\\pi*ps\\sigma - 0.5*pp\\pi*ss\\sigma + 0.125*ps\\sigma**2 - 0.5*ps\\sigma*ss\\sigma + 1.0*sp\\sigma**2 + 0.5*ss\\sigma**2): 1,\n",
       " 1.0*Ep + 1.0*pp\\pi + 1.0*ps\\sigma: 1}"
      ]
     },
     "execution_count": 104,
     "metadata": {},
     "output_type": "execute_result"
    }
   ],
   "source": [
    "H.eigenvals()"
   ]
  },
  {
   "cell_type": "code",
   "execution_count": 107,
   "metadata": {},
   "outputs": [],
   "source": [
    "# We disable solving analytical form of eigenvectors as it requires a lot of time\n",
    "# H.eigenvects()"
   ]
  },
  {
   "cell_type": "code",
   "execution_count": 94,
   "metadata": {},
   "outputs": [
    {
     "data": {
      "text/latex": [
       "$\\displaystyle 2.89726083927909 \\left(\\frac{1}{r}\\right)^{2.0} e^{- 0.0126200997390625 r^{6.5}}$"
      ],
      "text/plain": [
       "2.89726083927909*(1/r)**2.0*exp(-0.0126200997390625*r**6.5)"
      ]
     },
     "execution_count": 94,
     "metadata": {},
     "output_type": "execute_result"
    }
   ],
   "source": [
    "r = symbols(\"r\", real=True)\n",
    "n = 2.00\n",
    "nc = 6.5\n",
    "rc = 2.18\n",
    "ro = 1.536\n",
    "betar = (ro / r) ** n * exp(n * (-((r / rc) ** nc) + (ro / rc) ** nc))\n",
    "betar"
   ]
  },
  {
   "cell_type": "code",
   "execution_count": 111,
   "metadata": {},
   "outputs": [],
   "source": [
    "Hr = H\n",
    "Hr = Hr.subs(\n",
    "    [\n",
    "        (Es, -2.99),\n",
    "        (Ep, 3.71),\n",
    "        (sss, -5.00 * betar),\n",
    "        (sps, 4.70 * betar),\n",
    "        (pps, 5.50 * betar),\n",
    "        (ppp, -1.55 * betar),\n",
    "    ]\n",
    ")"
   ]
  },
  {
   "cell_type": "code",
   "execution_count": 112,
   "metadata": {},
   "outputs": [
    {
     "data": {
      "text/latex": [
       "$\\displaystyle \\left[\\begin{array}{cccccccccccccccc}-22.2962256801866 & 9.07392606968772 & 9.07392606968772 & 0 & 0 & 0 & 0 & 0 & 0 & 0 & 0 & 0 & 0 & 0 & 0 & 0\\\\9.07392606968772 & 3.71 & 7.62595914367372 & 0 & 0 & 0 & 0 & 0 & 0 & 0 & 0 & 0 & 0 & 0 & 0 & 0\\\\9.07392606968772 & 7.62595914367372 & 3.71 & 0 & 0 & 0 & 0 & 0 & 0 & 0 & 0 & 0 & 0 & 0 & 0 & 0\\\\0 & 0 & 0 & 3.71 & 0 & 0 & 0 & 0 & 0 & 0 & 0 & 0 & 0 & 0 & 0 & 0\\\\0 & 0 & 0 & 0 & -2.99 & - 9.07392606968772 i & 9.07392606968772 i & 0 & 0 & 0 & 0 & 0 & 0 & 0 & 0 & 0\\\\0 & 0 & 0 & 0 & 9.07392606968772 i & 3.71 & 13.6108891045316 i & 0 & 0 & 0 & 0 & 0 & 0 & 0 & 0 & 0\\\\0 & 0 & 0 & 0 & - 9.07392606968772 i & - 13.6108891045316 i & 3.71 & 0 & 0 & 0 & 0 & 0 & 0 & 0 & 0 & 0\\\\0 & 0 & 0 & 0 & 0 & 0 & 0 & 3.71 & 0 & 0 & 0 & 0 & 0 & 0 & 0 & 0\\\\0 & 0 & 0 & 0 & 0 & 0 & 0 & 0 & 16.3162256801866 & -9.07392606968772 & -9.07392606968772 & 0 & 0 & 0 & 0 & 0\\\\0 & 0 & 0 & 0 & 0 & 0 & 0 & 0 & -9.07392606968772 & 3.71 & -7.62595914367372 & 0 & 0 & 0 & 0 & 0\\\\0 & 0 & 0 & 0 & 0 & 0 & 0 & 0 & -9.07392606968772 & -7.62595914367372 & 3.71 & 0 & 0 & 0 & 0 & 0\\\\0 & 0 & 0 & 0 & 0 & 0 & 0 & 0 & 0 & 0 & 0 & 3.71 & 0 & 0 & 0 & 0\\\\0 & 0 & 0 & 0 & 0 & 0 & 0 & 0 & 0 & 0 & 0 & 0 & -2.99 & 9.07392606968772 i & - 9.07392606968772 i & 0\\\\0 & 0 & 0 & 0 & 0 & 0 & 0 & 0 & 0 & 0 & 0 & 0 & - 9.07392606968772 i & 3.71 & - 13.6108891045316 i & 0\\\\0 & 0 & 0 & 0 & 0 & 0 & 0 & 0 & 0 & 0 & 0 & 0 & 9.07392606968772 i & 13.6108891045316 i & 3.71 & 0\\\\0 & 0 & 0 & 0 & 0 & 0 & 0 & 0 & 0 & 0 & 0 & 0 & 0 & 0 & 0 & 3.71\\end{array}\\right]$"
      ],
      "text/plain": [
       "Matrix([\n",
       "[-22.2962256801866, 9.07392606968772, 9.07392606968772,    0,                   0,                   0,                  0,    0,                 0,                 0,                 0,    0,                   0,                  0,                   0,    0],\n",
       "[ 9.07392606968772,             3.71, 7.62595914367372,    0,                   0,                   0,                  0,    0,                 0,                 0,                 0,    0,                   0,                  0,                   0,    0],\n",
       "[ 9.07392606968772, 7.62595914367372,             3.71,    0,                   0,                   0,                  0,    0,                 0,                 0,                 0,    0,                   0,                  0,                   0,    0],\n",
       "[                0,                0,                0, 3.71,                   0,                   0,                  0,    0,                 0,                 0,                 0,    0,                   0,                  0,                   0,    0],\n",
       "[                0,                0,                0,    0,               -2.99, -9.07392606968772*I, 9.07392606968772*I,    0,                 0,                 0,                 0,    0,                   0,                  0,                   0,    0],\n",
       "[                0,                0,                0,    0,  9.07392606968772*I,                3.71, 13.6108891045316*I,    0,                 0,                 0,                 0,    0,                   0,                  0,                   0,    0],\n",
       "[                0,                0,                0,    0, -9.07392606968772*I, -13.6108891045316*I,               3.71,    0,                 0,                 0,                 0,    0,                   0,                  0,                   0,    0],\n",
       "[                0,                0,                0,    0,                   0,                   0,                  0, 3.71,                 0,                 0,                 0,    0,                   0,                  0,                   0,    0],\n",
       "[                0,                0,                0,    0,                   0,                   0,                  0,    0,  16.3162256801866, -9.07392606968772, -9.07392606968772,    0,                   0,                  0,                   0,    0],\n",
       "[                0,                0,                0,    0,                   0,                   0,                  0,    0, -9.07392606968772,              3.71, -7.62595914367372,    0,                   0,                  0,                   0,    0],\n",
       "[                0,                0,                0,    0,                   0,                   0,                  0,    0, -9.07392606968772, -7.62595914367372,              3.71,    0,                   0,                  0,                   0,    0],\n",
       "[                0,                0,                0,    0,                   0,                   0,                  0,    0,                 0,                 0,                 0, 3.71,                   0,                  0,                   0,    0],\n",
       "[                0,                0,                0,    0,                   0,                   0,                  0,    0,                 0,                 0,                 0,    0,               -2.99, 9.07392606968772*I, -9.07392606968772*I,    0],\n",
       "[                0,                0,                0,    0,                   0,                   0,                  0,    0,                 0,                 0,                 0,    0, -9.07392606968772*I,               3.71, -13.6108891045316*I,    0],\n",
       "[                0,                0,                0,    0,                   0,                   0,                  0,    0,                 0,                 0,                 0,    0,  9.07392606968772*I, 13.6108891045316*I,                3.71,    0],\n",
       "[                0,                0,                0,    0,                   0,                   0,                  0,    0,                 0,                 0,                 0,    0,                   0,                  0,                   0, 3.71]])"
      ]
     },
     "execution_count": 112,
     "metadata": {},
     "output_type": "execute_result"
    }
   ],
   "source": [
    "Hsub = Hr\n",
    "Hsub = Hr.subs(r, 1.2)\n",
    "Hsub"
   ]
  },
  {
   "cell_type": "code",
   "execution_count": 115,
   "metadata": {},
   "outputs": [
    {
     "data": {
      "text/plain": [
       "{-26.6332236486924: 1,\n",
       " -3.91595914367372: 1,\n",
       " 15.6729571121795: 1,\n",
       " 3.71000000000000: 4,\n",
       " -16.9952307469181 - 6.63604414520936e-64*I: 1,\n",
       " 0.273091502994089 - 1.34014039875119e-64*I: 1,\n",
       " 21.152139243924 - 2.36068562130255e-63*I: 1,\n",
       " -10.1402337509701: 1,\n",
       " 22.5405002874830: 1,\n",
       " 11.3359591436737: 1,\n",
       " -16.9952307469181 + 6.63604414520936e-64*I: 1,\n",
       " 0.273091502994089 + 1.34014039875119e-64*I: 1,\n",
       " 21.152139243924 + 2.36068562130255e-63*I: 1}"
      ]
     },
     "execution_count": 115,
     "metadata": {},
     "output_type": "execute_result"
    }
   ],
   "source": [
    "eigvals = Hsub.eigenvals()\n",
    "eigvals"
   ]
  },
  {
   "cell_type": "code",
   "execution_count": 117,
   "metadata": {},
   "outputs": [
    {
     "data": {
      "text/plain": [
       "[-26.6332236486924,\n",
       " -3.91595914367372,\n",
       " 15.6729571121795,\n",
       " 3.71000000000000,\n",
       " -16.9952307469181 - 6.63604414520936e-64*I,\n",
       " 0.273091502994089 - 1.34014039875119e-64*I,\n",
       " 21.152139243924 - 2.36068562130255e-63*I,\n",
       " 3.71000000000000,\n",
       " -10.1402337509701,\n",
       " 22.5405002874830,\n",
       " 11.3359591436737,\n",
       " 3.71000000000000,\n",
       " -16.9952307469181 + 6.63604414520936e-64*I,\n",
       " 0.273091502994089 + 1.34014039875119e-64*I,\n",
       " 21.152139243924 + 2.36068562130255e-63*I,\n",
       " 3.71000000000000]"
      ]
     },
     "execution_count": 117,
     "metadata": {},
     "output_type": "execute_result"
    }
   ],
   "source": [
    "eigs = Hsub.eigenvects()\n",
    "energies = [e[0] for e in eigs]\n",
    "energies"
   ]
  },
  {
   "cell_type": "code",
   "execution_count": null,
   "metadata": {},
   "outputs": [],
   "source": []
  }
 ],
 "metadata": {
  "kernelspec": {
   "display_name": "dev-py311",
   "language": "python",
   "name": "python3"
  },
  "language_info": {
   "codemirror_mode": {
    "name": "ipython",
    "version": 3
   },
   "file_extension": ".py",
   "mimetype": "text/x-python",
   "name": "python",
   "nbconvert_exporter": "python",
   "pygments_lexer": "ipython3",
   "version": "3.11.5"
  }
 },
 "nbformat": 4,
 "nbformat_minor": 2
}
