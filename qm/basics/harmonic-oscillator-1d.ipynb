{
 "cells": [
  {
   "cell_type": "code",
   "execution_count": 119,
   "id": "ce47489f-501a-464b-8823-f97d48395eb7",
   "metadata": {
    "tags": []
   },
   "outputs": [],
   "source": [
    "\n",
    "\n",
    "import scipy\n",
    "from sympy import Function, Symbol, Derivative, diff, integrate, Piecewise\n",
    "from sympy import sin, pi, sqrt, oo\n",
    "from sympy.physics.quantum.constants import hbar\n",
    "from sympy.physics.quantum.operator import DifferentialOperator, Operator\n",
    "from sympy.physics.quantum.state import Wavefunction\n",
    "from sympy.physics.quantum.qapply import qapply\n",
    "\n",
    "import numpy as np\n",
    "from matplotlib import pyplot as plt\n"
   ]
  },
  {
   "cell_type": "code",
   "execution_count": 120,
   "id": "7b3d5989-1aa7-4bbc-8b66-1701d9358534",
   "metadata": {},
   "outputs": [],
   "source": [
    "\n",
    "# Define number of basis\n",
    "nbasis = 10\n",
    "\n",
    "# Construct the basis (eigenfuncitons)\n",
    "x = Symbol('x')\n",
    "n = Symbol('n')\n",
    "m = Symbol('m')\n",
    "ma = hbar/2.0\n",
    "L = 20.0\n",
    "\n",
    "g = Piecewise((0, x < 0), (0, x > L), (sqrt(2./L)*sin(n*pi*x/L), True))\n",
    "phin = Wavefunction(g, x)\n",
    "phim = phi.subs(n, m)\n",
    "\n",
    "f = Function('f')\n",
    "# T = -hbar/(2*ma) * DifferentialOperator(diff(f(x), x, x), f(x))\n",
    "T = DifferentialOperator(-hbar/(2*ma) * Derivative(f(x), x, x), f(x))\n",
    "V = 1./4. * (x - L/2.)**2"
   ]
  },
  {
   "cell_type": "code",
   "execution_count": 129,
   "id": "17a17ad5-3b48-44e5-8078-3c5d4db41c70",
   "metadata": {
    "tags": []
   },
   "outputs": [
    {
     "data": {
      "text/latex": [
       "$\\displaystyle 25.0 \\left(0.1 x - 1\\right)^{2} + DifferentialOperator\\left(- 1.0 \\frac{d^{2}}{d x^{2}} f{\\left(x \\right)},f{\\left(x \\right)}\\right)$"
      ],
      "text/plain": [
       "25.0*(0.1*x - 1)**2 + DifferentialOperator(-1.0*Derivative(f(x), (x, 2)),f(x))"
      ]
     },
     "execution_count": 129,
     "metadata": {},
     "output_type": "execute_result"
    }
   ],
   "source": [
    "H = T + V"
   ]
  },
  {
   "cell_type": "code",
   "execution_count": 133,
   "id": "f8b6de6a-ed6f-493a-9be2-0869c683d0a0",
   "metadata": {},
   "outputs": [
    {
     "data": {
      "text/plain": [
       "(25.0*(0.1*x - 1)**2 + DifferentialOperator(-1.0*Derivative(f(x), (x, 2)),f(x)),\n",
       " 1)"
      ]
     },
     "execution_count": 133,
     "metadata": {},
     "output_type": "execute_result"
    }
   ],
   "source": [
    "H."
   ]
  },
  {
   "cell_type": "code",
   "execution_count": 106,
   "id": "49aaa597-d2ca-4175-9802-83a235699f47",
   "metadata": {},
   "outputs": [
    {
     "data": {
      "text/latex": [
       "$\\displaystyle \\left(0.00025 \\pi^{2} n^{2} + 2.5 \\left(0.1 x - 1\\right)^{2}\\right) \\sin{\\left(0.05 \\pi m x \\right)} \\sin{\\left(0.05 \\pi n x \\right)}$"
      ],
      "text/plain": [
       "(0.00025*pi**2*n**2 + 2.5*(0.1*x - 1)**2)*sin(0.05*pi*m*x)*sin(0.05*pi*n*x)"
      ]
     },
     "execution_count": 106,
     "metadata": {},
     "output_type": "execute_result"
    }
   ],
   "source": [
    "hmn = (phim.expr*(V * phin.expr + qapply(T * phin).expr)).simplify()\n",
    "hmn"
   ]
  },
  {
   "cell_type": "code",
   "execution_count": 102,
   "id": "2c37abb3-e073-468c-a818-f38ba78823bb",
   "metadata": {},
   "outputs": [],
   "source": [
    "# Define symbols\n",
    "from sympy import symbols\n",
    "y, a, b = symbols('y a b')\n",
    "\n",
    "# Define the function to integrate\n",
    "g = y**2 * sin(a*y)"
   ]
  },
  {
   "cell_type": "code",
   "execution_count": 104,
   "id": "8a4f65b1-8f5b-4de5-9265-f0ff799025d5",
   "metadata": {},
   "outputs": [
    {
     "name": "stdout",
     "output_type": "stream",
     "text": [
      "<class 'sympy.core.mul.Mul'>\n"
     ]
    },
    {
     "data": {
      "text/latex": [
       "$\\displaystyle \\begin{cases} - \\frac{y^{2} \\cos{\\left(a y \\right)}}{a} + \\frac{2 y \\sin{\\left(a y \\right)}}{a^{2}} + \\frac{2 \\cos{\\left(a y \\right)}}{a^{3}} & \\text{for}\\: a \\neq 0 \\\\0 & \\text{otherwise} \\end{cases}$"
      ],
      "text/plain": [
       "Piecewise((-y**2*cos(a*y)/a + 2*y*sin(a*y)/a**2 + 2*cos(a*y)/a**3, Ne(a, 0)), (0, True))"
      ]
     },
     "execution_count": 104,
     "metadata": {},
     "output_type": "execute_result"
    }
   ],
   "source": [
    "print(type(g))\n",
    "integrate(g, y)"
   ]
  },
  {
   "cell_type": "code",
   "execution_count": 107,
   "id": "1cf785db-5d85-40f0-aa21-9df233bb1564",
   "metadata": {},
   "outputs": [
    {
     "data": {
      "text/latex": [
       "$\\displaystyle 0.0222066099024511$"
      ],
      "text/plain": [
       "0.0222066099024511"
      ]
     },
     "execution_count": 107,
     "metadata": {},
     "output_type": "execute_result"
    }
   ],
   "source": [
    "hmn.evalf(subs={m: 3, n: 3, x: L/2.0})"
   ]
  },
  {
   "cell_type": "code",
   "execution_count": 101,
   "id": "d4b0e64f-8e44-4446-81ef-56d27f1290c3",
   "metadata": {},
   "outputs": [
    {
     "data": {
      "text/plain": [
       "sympy.core.mul.Mul"
      ]
     },
     "execution_count": 101,
     "metadata": {},
     "output_type": "execute_result"
    }
   ],
   "source": [
    "type(hmn)"
   ]
  },
  {
   "cell_type": "code",
   "execution_count": 88,
   "id": "b4f01ac9-6f8c-4444-a3e8-48e62c12a13a",
   "metadata": {
    "scrolled": true
   },
   "outputs": [
    {
     "ename": "KeyboardInterrupt",
     "evalue": "",
     "output_type": "error",
     "traceback": [
      "\u001b[0;31m---------------------------------------------------------------------------\u001b[0m",
      "\u001b[0;31mKeyboardInterrupt\u001b[0m                         Traceback (most recent call last)",
      "Cell \u001b[0;32mIn[88], line 1\u001b[0m\n\u001b[0;32m----> 1\u001b[0m \u001b[43mintegrate\u001b[49m\u001b[43m(\u001b[49m\u001b[43mhmn\u001b[49m\u001b[38;5;241;43m.\u001b[39;49m\u001b[43mexpand\u001b[49m\u001b[43m(\u001b[49m\u001b[43m)\u001b[49m\u001b[43m,\u001b[49m\u001b[43m \u001b[49m\u001b[43mx\u001b[49m\u001b[43m)\u001b[49m\n",
      "File \u001b[0;32m~/miniconda3/envs/dev-py311/lib/python3.11/site-packages/sympy/integrals/integrals.py:1567\u001b[0m, in \u001b[0;36mintegrate\u001b[0;34m(meijerg, conds, risch, heurisch, manual, *args, **kwargs)\u001b[0m\n\u001b[1;32m   1564\u001b[0m integral \u001b[38;5;241m=\u001b[39m Integral(\u001b[38;5;241m*\u001b[39margs, \u001b[38;5;241m*\u001b[39m\u001b[38;5;241m*\u001b[39mkwargs)\n\u001b[1;32m   1566\u001b[0m \u001b[38;5;28;01mif\u001b[39;00m \u001b[38;5;28misinstance\u001b[39m(integral, Integral):\n\u001b[0;32m-> 1567\u001b[0m     \u001b[38;5;28;01mreturn\u001b[39;00m \u001b[43mintegral\u001b[49m\u001b[38;5;241;43m.\u001b[39;49m\u001b[43mdoit\u001b[49m\u001b[43m(\u001b[49m\u001b[38;5;241;43m*\u001b[39;49m\u001b[38;5;241;43m*\u001b[39;49m\u001b[43mdoit_flags\u001b[49m\u001b[43m)\u001b[49m\n\u001b[1;32m   1568\u001b[0m \u001b[38;5;28;01melse\u001b[39;00m:\n\u001b[1;32m   1569\u001b[0m     new_args \u001b[38;5;241m=\u001b[39m [a\u001b[38;5;241m.\u001b[39mdoit(\u001b[38;5;241m*\u001b[39m\u001b[38;5;241m*\u001b[39mdoit_flags) \u001b[38;5;28;01mif\u001b[39;00m \u001b[38;5;28misinstance\u001b[39m(a, Integral) \u001b[38;5;28;01melse\u001b[39;00m a\n\u001b[1;32m   1570\u001b[0m         \u001b[38;5;28;01mfor\u001b[39;00m a \u001b[38;5;129;01min\u001b[39;00m integral\u001b[38;5;241m.\u001b[39margs]\n",
      "File \u001b[0;32m~/miniconda3/envs/dev-py311/lib/python3.11/site-packages/sympy/integrals/integrals.py:612\u001b[0m, in \u001b[0;36mIntegral.doit\u001b[0;34m(self, **hints)\u001b[0m\n\u001b[1;32m    610\u001b[0m     antideriv \u001b[38;5;241m=\u001b[39m \u001b[38;5;28;01mNone\u001b[39;00m\n\u001b[1;32m    611\u001b[0m \u001b[38;5;28;01melse\u001b[39;00m:\n\u001b[0;32m--> 612\u001b[0m     antideriv \u001b[38;5;241m=\u001b[39m \u001b[38;5;28;43mself\u001b[39;49m\u001b[38;5;241;43m.\u001b[39;49m\u001b[43m_eval_integral\u001b[49m\u001b[43m(\u001b[49m\n\u001b[1;32m    613\u001b[0m \u001b[43m        \u001b[49m\u001b[43mfunction\u001b[49m\u001b[43m,\u001b[49m\u001b[43m \u001b[49m\u001b[43mxab\u001b[49m\u001b[43m[\u001b[49m\u001b[38;5;241;43m0\u001b[39;49m\u001b[43m]\u001b[49m\u001b[43m,\u001b[49m\u001b[43m \u001b[49m\u001b[38;5;241;43m*\u001b[39;49m\u001b[38;5;241;43m*\u001b[39;49m\u001b[43meval_kwargs\u001b[49m\u001b[43m)\u001b[49m\n\u001b[1;32m    614\u001b[0m     \u001b[38;5;28;01mif\u001b[39;00m antideriv \u001b[38;5;129;01mis\u001b[39;00m \u001b[38;5;28;01mNone\u001b[39;00m \u001b[38;5;129;01mand\u001b[39;00m meijerg \u001b[38;5;129;01mis\u001b[39;00m \u001b[38;5;28;01mTrue\u001b[39;00m:\n\u001b[1;32m    615\u001b[0m         ret \u001b[38;5;241m=\u001b[39m try_meijerg(function, xab)\n",
      "File \u001b[0;32m~/miniconda3/envs/dev-py311/lib/python3.11/site-packages/sympy/integrals/integrals.py:1084\u001b[0m, in \u001b[0;36mIntegral._eval_integral\u001b[0;34m(self, f, x, meijerg, risch, manual, heurisch, conds, final)\u001b[0m\n\u001b[1;32m   1082\u001b[0m \u001b[38;5;28;01mtry\u001b[39;00m:\n\u001b[1;32m   1083\u001b[0m     \u001b[38;5;28;01mif\u001b[39;00m conds \u001b[38;5;241m==\u001b[39m \u001b[38;5;124m'\u001b[39m\u001b[38;5;124mpiecewise\u001b[39m\u001b[38;5;124m'\u001b[39m:\n\u001b[0;32m-> 1084\u001b[0m         h \u001b[38;5;241m=\u001b[39m \u001b[43mheurisch_wrapper\u001b[49m\u001b[43m(\u001b[49m\u001b[43mg\u001b[49m\u001b[43m,\u001b[49m\u001b[43m \u001b[49m\u001b[43mx\u001b[49m\u001b[43m,\u001b[49m\u001b[43m \u001b[49m\u001b[43mhints\u001b[49m\u001b[38;5;241;43m=\u001b[39;49m\u001b[43m[\u001b[49m\u001b[43m]\u001b[49m\u001b[43m)\u001b[49m\n\u001b[1;32m   1085\u001b[0m     \u001b[38;5;28;01melse\u001b[39;00m:\n\u001b[1;32m   1086\u001b[0m         h \u001b[38;5;241m=\u001b[39m heurisch_(g, x, hints\u001b[38;5;241m=\u001b[39m[])\n",
      "File \u001b[0;32m~/miniconda3/envs/dev-py311/lib/python3.11/site-packages/sympy/integrals/heurisch.py:143\u001b[0m, in \u001b[0;36mheurisch_wrapper\u001b[0;34m(f, x, rewrite, hints, mappings, retries, degree_offset, unnecessary_permutations, _try_heurisch)\u001b[0m\n\u001b[1;32m    140\u001b[0m \u001b[38;5;28;01mif\u001b[39;00m \u001b[38;5;129;01mnot\u001b[39;00m f\u001b[38;5;241m.\u001b[39mhas_free(x):\n\u001b[1;32m    141\u001b[0m     \u001b[38;5;28;01mreturn\u001b[39;00m f\u001b[38;5;241m*\u001b[39mx\n\u001b[0;32m--> 143\u001b[0m res \u001b[38;5;241m=\u001b[39m \u001b[43mheurisch\u001b[49m\u001b[43m(\u001b[49m\u001b[43mf\u001b[49m\u001b[43m,\u001b[49m\u001b[43m \u001b[49m\u001b[43mx\u001b[49m\u001b[43m,\u001b[49m\u001b[43m \u001b[49m\u001b[43mrewrite\u001b[49m\u001b[43m,\u001b[49m\u001b[43m \u001b[49m\u001b[43mhints\u001b[49m\u001b[43m,\u001b[49m\u001b[43m \u001b[49m\u001b[43mmappings\u001b[49m\u001b[43m,\u001b[49m\u001b[43m \u001b[49m\u001b[43mretries\u001b[49m\u001b[43m,\u001b[49m\u001b[43m \u001b[49m\u001b[43mdegree_offset\u001b[49m\u001b[43m,\u001b[49m\n\u001b[1;32m    144\u001b[0m \u001b[43m               \u001b[49m\u001b[43munnecessary_permutations\u001b[49m\u001b[43m,\u001b[49m\u001b[43m \u001b[49m\u001b[43m_try_heurisch\u001b[49m\u001b[43m)\u001b[49m\n\u001b[1;32m    145\u001b[0m \u001b[38;5;28;01mif\u001b[39;00m \u001b[38;5;129;01mnot\u001b[39;00m \u001b[38;5;28misinstance\u001b[39m(res, Basic):\n\u001b[1;32m    146\u001b[0m     \u001b[38;5;28;01mreturn\u001b[39;00m res\n",
      "File \u001b[0;32m~/miniconda3/envs/dev-py311/lib/python3.11/site-packages/sympy/integrals/heurisch.py:749\u001b[0m, in \u001b[0;36mheurisch\u001b[0;34m(f, x, rewrite, hints, mappings, retries, degree_offset, unnecessary_permutations, _try_heurisch)\u001b[0m\n\u001b[1;32m    745\u001b[0m     more_free \u001b[38;5;241m=\u001b[39m Fd\u001b[38;5;241m.\u001b[39mxreplace(\u001b[38;5;28mdict\u001b[39m(\u001b[38;5;28mzip\u001b[39m(V, (Dummy() \u001b[38;5;28;01mfor\u001b[39;00m _ \u001b[38;5;129;01min\u001b[39;00m V)))\n\u001b[1;32m    746\u001b[0m         )\u001b[38;5;241m.\u001b[39mfree_symbols \u001b[38;5;241m&\u001b[39m Fd\u001b[38;5;241m.\u001b[39mfree_symbols\n\u001b[1;32m    747\u001b[0m \u001b[38;5;28;01mif\u001b[39;00m \u001b[38;5;129;01mnot\u001b[39;00m more_free:\n\u001b[1;32m    748\u001b[0m     \u001b[38;5;66;03m# all free generators are identified in V\u001b[39;00m\n\u001b[0;32m--> 749\u001b[0m     solution \u001b[38;5;241m=\u001b[39m \u001b[43m_integrate\u001b[49m\u001b[43m(\u001b[49m\u001b[38;5;124;43m'\u001b[39;49m\u001b[38;5;124;43mQ\u001b[39;49m\u001b[38;5;124;43m'\u001b[39;49m\u001b[43m)\u001b[49m\n\u001b[1;32m    751\u001b[0m     \u001b[38;5;28;01mif\u001b[39;00m solution \u001b[38;5;129;01mis\u001b[39;00m \u001b[38;5;28;01mNone\u001b[39;00m:\n\u001b[1;32m    752\u001b[0m         solution \u001b[38;5;241m=\u001b[39m _integrate()\n",
      "File \u001b[0;32m~/miniconda3/envs/dev-py311/lib/python3.11/site-packages/sympy/integrals/heurisch.py:733\u001b[0m, in \u001b[0;36mheurisch.<locals>._integrate\u001b[0;34m(field)\u001b[0m\n\u001b[1;32m    731\u001b[0m \u001b[38;5;28;01mexcept\u001b[39;00m \u001b[38;5;167;01mValueError\u001b[39;00m:\n\u001b[1;32m    732\u001b[0m     \u001b[38;5;28;01mraise\u001b[39;00m PolynomialError\n\u001b[0;32m--> 733\u001b[0m solution \u001b[38;5;241m=\u001b[39m \u001b[43msolve_lin_sys\u001b[49m\u001b[43m(\u001b[49m\u001b[43mnumer\u001b[49m\u001b[38;5;241;43m.\u001b[39;49m\u001b[43mcoeffs\u001b[49m\u001b[43m(\u001b[49m\u001b[43m)\u001b[49m\u001b[43m,\u001b[49m\u001b[43m \u001b[49m\u001b[43mcoeff_ring\u001b[49m\u001b[43m,\u001b[49m\u001b[43m \u001b[49m\u001b[43m_raw\u001b[49m\u001b[38;5;241;43m=\u001b[39;49m\u001b[38;5;28;43;01mFalse\u001b[39;49;00m\u001b[43m)\u001b[49m\n\u001b[1;32m    735\u001b[0m \u001b[38;5;28;01mif\u001b[39;00m solution \u001b[38;5;129;01mis\u001b[39;00m \u001b[38;5;28;01mNone\u001b[39;00m:\n\u001b[1;32m    736\u001b[0m     \u001b[38;5;28;01mreturn\u001b[39;00m \u001b[38;5;28;01mNone\u001b[39;00m\n",
      "File \u001b[0;32m~/miniconda3/envs/dev-py311/lib/python3.11/site-packages/sympy/polys/solvers.py:279\u001b[0m, in \u001b[0;36msolve_lin_sys\u001b[0;34m(eqs, ring, _raw)\u001b[0m\n\u001b[1;32m    276\u001b[0m     eqs_rhs\u001b[38;5;241m.\u001b[39mappend(eq_rhs)\n\u001b[1;32m    277\u001b[0m     eqs_coeffs\u001b[38;5;241m.\u001b[39mappend(eq_coeffs)\n\u001b[0;32m--> 279\u001b[0m result \u001b[38;5;241m=\u001b[39m \u001b[43m_solve_lin_sys\u001b[49m\u001b[43m(\u001b[49m\u001b[43meqs_coeffs\u001b[49m\u001b[43m,\u001b[49m\u001b[43m \u001b[49m\u001b[43meqs_rhs\u001b[49m\u001b[43m,\u001b[49m\u001b[43m \u001b[49m\u001b[43mring\u001b[49m\u001b[43m)\u001b[49m\n\u001b[1;32m    281\u001b[0m \u001b[38;5;28;01mif\u001b[39;00m result \u001b[38;5;129;01mis\u001b[39;00m \u001b[38;5;129;01mnot\u001b[39;00m \u001b[38;5;28;01mNone\u001b[39;00m \u001b[38;5;129;01mand\u001b[39;00m as_expr:\n\u001b[1;32m    283\u001b[0m     \u001b[38;5;28;01mdef\u001b[39;00m \u001b[38;5;21mto_sympy\u001b[39m(x):\n",
      "File \u001b[0;32m~/miniconda3/envs/dev-py311/lib/python3.11/site-packages/sympy/polys/solvers.py:357\u001b[0m, in \u001b[0;36m_solve_lin_sys\u001b[0;34m(eqs_coeffs, eqs_rhs, ring)\u001b[0m\n\u001b[1;32m    355\u001b[0m sol \u001b[38;5;241m=\u001b[39m {}\n\u001b[1;32m    356\u001b[0m \u001b[38;5;28;01mfor\u001b[39;00m subsystem \u001b[38;5;129;01min\u001b[39;00m subsystems:\n\u001b[0;32m--> 357\u001b[0m     subsol \u001b[38;5;241m=\u001b[39m \u001b[43m_solve_lin_sys_component\u001b[49m\u001b[43m(\u001b[49m\u001b[43msubsystem\u001b[49m\u001b[43m[\u001b[49m\u001b[38;5;241;43m0\u001b[39;49m\u001b[43m]\u001b[49m\u001b[43m,\u001b[49m\u001b[43m \u001b[49m\u001b[43msubsystem\u001b[49m\u001b[43m[\u001b[49m\u001b[38;5;241;43m1\u001b[39;49m\u001b[43m]\u001b[49m\u001b[43m,\u001b[49m\u001b[43m \u001b[49m\u001b[43mring\u001b[49m\u001b[43m)\u001b[49m\n\u001b[1;32m    358\u001b[0m     \u001b[38;5;28;01mif\u001b[39;00m subsol \u001b[38;5;129;01mis\u001b[39;00m \u001b[38;5;28;01mNone\u001b[39;00m:\n\u001b[1;32m    359\u001b[0m         \u001b[38;5;28;01mreturn\u001b[39;00m \u001b[38;5;28;01mNone\u001b[39;00m\n",
      "File \u001b[0;32m~/miniconda3/envs/dev-py311/lib/python3.11/site-packages/sympy/polys/solvers.py:405\u001b[0m, in \u001b[0;36m_solve_lin_sys_component\u001b[0;34m(eqs_coeffs, eqs_rhs, ring)\u001b[0m\n\u001b[1;32m    402\u001b[0m     matrix \u001b[38;5;241m=\u001b[39m matrix\u001b[38;5;241m.\u001b[39mto_field()\n\u001b[1;32m    404\u001b[0m \u001b[38;5;66;03m# solve by row-reduction\u001b[39;00m\n\u001b[0;32m--> 405\u001b[0m echelon, pivots \u001b[38;5;241m=\u001b[39m \u001b[43mmatrix\u001b[49m\u001b[38;5;241;43m.\u001b[39;49m\u001b[43mrref\u001b[49m\u001b[43m(\u001b[49m\u001b[43m)\u001b[49m\n\u001b[1;32m    407\u001b[0m \u001b[38;5;66;03m# construct the returnable form of the solutions\u001b[39;00m\n\u001b[1;32m    408\u001b[0m keys \u001b[38;5;241m=\u001b[39m ring\u001b[38;5;241m.\u001b[39mgens\n",
      "File \u001b[0;32m~/miniconda3/envs/dev-py311/lib/python3.11/site-packages/sympy/polys/matrices/domainmatrix.py:1272\u001b[0m, in \u001b[0;36mDomainMatrix.rref\u001b[0;34m(self)\u001b[0m\n\u001b[1;32m   1270\u001b[0m \u001b[38;5;28;01mif\u001b[39;00m \u001b[38;5;129;01mnot\u001b[39;00m \u001b[38;5;28mself\u001b[39m\u001b[38;5;241m.\u001b[39mdomain\u001b[38;5;241m.\u001b[39mis_Field:\n\u001b[1;32m   1271\u001b[0m     \u001b[38;5;28;01mraise\u001b[39;00m DMNotAField(\u001b[38;5;124m'\u001b[39m\u001b[38;5;124mNot a field\u001b[39m\u001b[38;5;124m'\u001b[39m)\n\u001b[0;32m-> 1272\u001b[0m rref_ddm, pivots \u001b[38;5;241m=\u001b[39m \u001b[38;5;28;43mself\u001b[39;49m\u001b[38;5;241;43m.\u001b[39;49m\u001b[43mrep\u001b[49m\u001b[38;5;241;43m.\u001b[39;49m\u001b[43mrref\u001b[49m\u001b[43m(\u001b[49m\u001b[43m)\u001b[49m\n\u001b[1;32m   1273\u001b[0m \u001b[38;5;28;01mreturn\u001b[39;00m \u001b[38;5;28mself\u001b[39m\u001b[38;5;241m.\u001b[39mfrom_rep(rref_ddm), \u001b[38;5;28mtuple\u001b[39m(pivots)\n",
      "File \u001b[0;32m~/miniconda3/envs/dev-py311/lib/python3.11/site-packages/sympy/polys/matrices/ddm.py:390\u001b[0m, in \u001b[0;36mDDM.rref\u001b[0;34m(a)\u001b[0m\n\u001b[1;32m    388\u001b[0m K \u001b[38;5;241m=\u001b[39m a\u001b[38;5;241m.\u001b[39mdomain\n\u001b[1;32m    389\u001b[0m partial_pivot \u001b[38;5;241m=\u001b[39m K\u001b[38;5;241m.\u001b[39mis_RealField \u001b[38;5;129;01mor\u001b[39;00m K\u001b[38;5;241m.\u001b[39mis_ComplexField\n\u001b[0;32m--> 390\u001b[0m pivots \u001b[38;5;241m=\u001b[39m \u001b[43mddm_irref\u001b[49m\u001b[43m(\u001b[49m\u001b[43mb\u001b[49m\u001b[43m,\u001b[49m\u001b[43m \u001b[49m\u001b[43m_partial_pivot\u001b[49m\u001b[38;5;241;43m=\u001b[39;49m\u001b[43mpartial_pivot\u001b[49m\u001b[43m)\u001b[49m\n\u001b[1;32m    391\u001b[0m \u001b[38;5;28;01mreturn\u001b[39;00m b, pivots\n",
      "File \u001b[0;32m~/miniconda3/envs/dev-py311/lib/python3.11/site-packages/sympy/polys/matrices/dense.py:150\u001b[0m, in \u001b[0;36mddm_irref\u001b[0;34m(a, _partial_pivot)\u001b[0m\n\u001b[1;32m    148\u001b[0m     ak[j] \u001b[38;5;241m-\u001b[39m\u001b[38;5;241m=\u001b[39m akj \u001b[38;5;66;03m# ak[j] = zero\u001b[39;00m\n\u001b[1;32m    149\u001b[0m     \u001b[38;5;28;01mfor\u001b[39;00m l \u001b[38;5;129;01min\u001b[39;00m \u001b[38;5;28mrange\u001b[39m(j\u001b[38;5;241m+\u001b[39m\u001b[38;5;241m1\u001b[39m, n):\n\u001b[0;32m--> 150\u001b[0m         \u001b[43mak\u001b[49m\u001b[43m[\u001b[49m\u001b[43ml\u001b[49m\u001b[43m]\u001b[49m\u001b[43m \u001b[49m\u001b[38;5;241;43m-\u001b[39;49m\u001b[38;5;241;43m=\u001b[39;49m\u001b[43m \u001b[49m\u001b[43makj\u001b[49m\u001b[43m \u001b[49m\u001b[38;5;241;43m*\u001b[39;49m\u001b[43m \u001b[49m\u001b[43mai\u001b[49m\u001b[43m[\u001b[49m\u001b[43ml\u001b[49m\u001b[43m]\u001b[49m\n\u001b[1;32m    152\u001b[0m \u001b[38;5;66;03m# next row\u001b[39;00m\n\u001b[1;32m    153\u001b[0m pivots\u001b[38;5;241m.\u001b[39mappend(j)\n",
      "File \u001b[0;32m~/miniconda3/envs/dev-py311/lib/python3.11/site-packages/sympy/polys/fields.py:451\u001b[0m, in \u001b[0;36mFracElement.__sub__\u001b[0;34m(f, g)\u001b[0m\n\u001b[1;32m    449\u001b[0m         \u001b[38;5;28;01mreturn\u001b[39;00m f\u001b[38;5;241m.\u001b[39mnew(f\u001b[38;5;241m.\u001b[39mnumer \u001b[38;5;241m-\u001b[39m g\u001b[38;5;241m.\u001b[39mnumer, f\u001b[38;5;241m.\u001b[39mdenom)\n\u001b[1;32m    450\u001b[0m     \u001b[38;5;28;01melse\u001b[39;00m:\n\u001b[0;32m--> 451\u001b[0m         \u001b[38;5;28;01mreturn\u001b[39;00m \u001b[43mf\u001b[49m\u001b[38;5;241;43m.\u001b[39;49m\u001b[43mnew\u001b[49m\u001b[43m(\u001b[49m\u001b[43mf\u001b[49m\u001b[38;5;241;43m.\u001b[39;49m\u001b[43mnumer\u001b[49m\u001b[38;5;241;43m*\u001b[39;49m\u001b[43mg\u001b[49m\u001b[38;5;241;43m.\u001b[39;49m\u001b[43mdenom\u001b[49m\u001b[43m \u001b[49m\u001b[38;5;241;43m-\u001b[39;49m\u001b[43m \u001b[49m\u001b[43mf\u001b[49m\u001b[38;5;241;43m.\u001b[39;49m\u001b[43mdenom\u001b[49m\u001b[38;5;241;43m*\u001b[39;49m\u001b[43mg\u001b[49m\u001b[38;5;241;43m.\u001b[39;49m\u001b[43mnumer\u001b[49m\u001b[43m,\u001b[49m\u001b[43m \u001b[49m\u001b[43mf\u001b[49m\u001b[38;5;241;43m.\u001b[39;49m\u001b[43mdenom\u001b[49m\u001b[38;5;241;43m*\u001b[39;49m\u001b[43mg\u001b[49m\u001b[38;5;241;43m.\u001b[39;49m\u001b[43mdenom\u001b[49m\u001b[43m)\u001b[49m\n\u001b[1;32m    452\u001b[0m \u001b[38;5;28;01melif\u001b[39;00m \u001b[38;5;28misinstance\u001b[39m(g, field\u001b[38;5;241m.\u001b[39mring\u001b[38;5;241m.\u001b[39mdtype):\n\u001b[1;32m    453\u001b[0m     \u001b[38;5;28;01mreturn\u001b[39;00m f\u001b[38;5;241m.\u001b[39mnew(f\u001b[38;5;241m.\u001b[39mnumer \u001b[38;5;241m-\u001b[39m f\u001b[38;5;241m.\u001b[39mdenom\u001b[38;5;241m*\u001b[39mg, f\u001b[38;5;241m.\u001b[39mdenom)\n",
      "File \u001b[0;32m~/miniconda3/envs/dev-py311/lib/python3.11/site-packages/sympy/polys/fields.py:301\u001b[0m, in \u001b[0;36mFracElement.new\u001b[0;34m(f, numer, denom)\u001b[0m\n\u001b[1;32m    300\u001b[0m \u001b[38;5;28;01mdef\u001b[39;00m \u001b[38;5;21mnew\u001b[39m(f, numer, denom):\n\u001b[0;32m--> 301\u001b[0m     \u001b[38;5;28;01mreturn\u001b[39;00m f\u001b[38;5;241m.\u001b[39mraw_new(\u001b[38;5;241m*\u001b[39m\u001b[43mnumer\u001b[49m\u001b[38;5;241;43m.\u001b[39;49m\u001b[43mcancel\u001b[49m\u001b[43m(\u001b[49m\u001b[43mdenom\u001b[49m\u001b[43m)\u001b[49m)\n",
      "File \u001b[0;32m~/miniconda3/envs/dev-py311/lib/python3.11/site-packages/sympy/polys/rings.py:2242\u001b[0m, in \u001b[0;36mPolyElement.cancel\u001b[0;34m(self, g)\u001b[0m\n\u001b[1;32m   2239\u001b[0m domain \u001b[38;5;241m=\u001b[39m ring\u001b[38;5;241m.\u001b[39mdomain\n\u001b[1;32m   2241\u001b[0m \u001b[38;5;28;01mif\u001b[39;00m \u001b[38;5;129;01mnot\u001b[39;00m (domain\u001b[38;5;241m.\u001b[39mis_Field \u001b[38;5;129;01mand\u001b[39;00m domain\u001b[38;5;241m.\u001b[39mhas_assoc_Ring):\n\u001b[0;32m-> 2242\u001b[0m     _, p, q \u001b[38;5;241m=\u001b[39m \u001b[43mf\u001b[49m\u001b[38;5;241;43m.\u001b[39;49m\u001b[43mcofactors\u001b[49m\u001b[43m(\u001b[49m\u001b[43mg\u001b[49m\u001b[43m)\u001b[49m\n\u001b[1;32m   2243\u001b[0m \u001b[38;5;28;01melse\u001b[39;00m:\n\u001b[1;32m   2244\u001b[0m     new_ring \u001b[38;5;241m=\u001b[39m ring\u001b[38;5;241m.\u001b[39mclone(domain\u001b[38;5;241m=\u001b[39mdomain\u001b[38;5;241m.\u001b[39mget_ring())\n",
      "File \u001b[0;32m~/miniconda3/envs/dev-py311/lib/python3.11/site-packages/sympy/polys/rings.py:2158\u001b[0m, in \u001b[0;36mPolyElement.cofactors\u001b[0;34m(f, g)\u001b[0m\n\u001b[1;32m   2155\u001b[0m     \u001b[38;5;28;01mreturn\u001b[39;00m h, cff, cfg\n\u001b[1;32m   2157\u001b[0m J, (f, g) \u001b[38;5;241m=\u001b[39m f\u001b[38;5;241m.\u001b[39mdeflate(g)\n\u001b[0;32m-> 2158\u001b[0m h, cff, cfg \u001b[38;5;241m=\u001b[39m \u001b[43mf\u001b[49m\u001b[38;5;241;43m.\u001b[39;49m\u001b[43m_gcd\u001b[49m\u001b[43m(\u001b[49m\u001b[43mg\u001b[49m\u001b[43m)\u001b[49m\n\u001b[1;32m   2160\u001b[0m \u001b[38;5;28;01mreturn\u001b[39;00m (h\u001b[38;5;241m.\u001b[39minflate(J), cff\u001b[38;5;241m.\u001b[39minflate(J), cfg\u001b[38;5;241m.\u001b[39minflate(J))\n",
      "File \u001b[0;32m~/miniconda3/envs/dev-py311/lib/python3.11/site-packages/sympy/polys/rings.py:2193\u001b[0m, in \u001b[0;36mPolyElement._gcd\u001b[0;34m(f, g)\u001b[0m\n\u001b[1;32m   2191\u001b[0m     \u001b[38;5;28;01mreturn\u001b[39;00m f\u001b[38;5;241m.\u001b[39m_gcd_ZZ(g)\n\u001b[1;32m   2192\u001b[0m \u001b[38;5;28;01melse\u001b[39;00m: \u001b[38;5;66;03m# TODO: don't use dense representation (port PRS algorithms)\u001b[39;00m\n\u001b[0;32m-> 2193\u001b[0m     \u001b[38;5;28;01mreturn\u001b[39;00m \u001b[43mring\u001b[49m\u001b[38;5;241;43m.\u001b[39;49m\u001b[43mdmp_inner_gcd\u001b[49m\u001b[43m(\u001b[49m\u001b[43mf\u001b[49m\u001b[43m,\u001b[49m\u001b[43m \u001b[49m\u001b[43mg\u001b[49m\u001b[43m)\u001b[49m\n",
      "File \u001b[0;32m~/miniconda3/envs/dev-py311/lib/python3.11/site-packages/sympy/polys/compatibility.py:663\u001b[0m, in \u001b[0;36mIPolys.dmp_inner_gcd\u001b[0;34m(self, f, g)\u001b[0m\n\u001b[1;32m    662\u001b[0m \u001b[38;5;28;01mdef\u001b[39;00m \u001b[38;5;21mdmp_inner_gcd\u001b[39m(\u001b[38;5;28mself\u001b[39m, f, g):\n\u001b[0;32m--> 663\u001b[0m     H, F, G \u001b[38;5;241m=\u001b[39m \u001b[43mdmp_inner_gcd\u001b[49m\u001b[43m(\u001b[49m\u001b[38;5;28;43mself\u001b[39;49m\u001b[38;5;241;43m.\u001b[39;49m\u001b[43mto_dense\u001b[49m\u001b[43m(\u001b[49m\u001b[43mf\u001b[49m\u001b[43m)\u001b[49m\u001b[43m,\u001b[49m\u001b[43m \u001b[49m\u001b[38;5;28;43mself\u001b[39;49m\u001b[38;5;241;43m.\u001b[39;49m\u001b[43mto_dense\u001b[49m\u001b[43m(\u001b[49m\u001b[43mg\u001b[49m\u001b[43m)\u001b[49m\u001b[43m,\u001b[49m\u001b[43m \u001b[49m\u001b[38;5;28;43mself\u001b[39;49m\u001b[38;5;241;43m.\u001b[39;49m\u001b[43mngens\u001b[49m\u001b[38;5;241;43m-\u001b[39;49m\u001b[38;5;241;43m1\u001b[39;49m\u001b[43m,\u001b[49m\u001b[43m \u001b[49m\u001b[38;5;28;43mself\u001b[39;49m\u001b[38;5;241;43m.\u001b[39;49m\u001b[43mdomain\u001b[49m\u001b[43m)\u001b[49m\n\u001b[1;32m    664\u001b[0m     \u001b[38;5;28;01mreturn\u001b[39;00m (\u001b[38;5;28mself\u001b[39m\u001b[38;5;241m.\u001b[39mfrom_dense(H), \u001b[38;5;28mself\u001b[39m\u001b[38;5;241m.\u001b[39mfrom_dense(F), \u001b[38;5;28mself\u001b[39m\u001b[38;5;241m.\u001b[39mfrom_dense(G))\n",
      "File \u001b[0;32m~/miniconda3/envs/dev-py311/lib/python3.11/site-packages/sympy/polys/euclidtools.py:1584\u001b[0m, in \u001b[0;36mdmp_inner_gcd\u001b[0;34m(f, g, u, K)\u001b[0m\n\u001b[1;32m   1581\u001b[0m     \u001b[38;5;28;01mreturn\u001b[39;00m dup_inner_gcd(f, g, K)\n\u001b[1;32m   1583\u001b[0m J, (f, g) \u001b[38;5;241m=\u001b[39m dmp_multi_deflate((f, g), u, K)\n\u001b[0;32m-> 1584\u001b[0m h, cff, cfg \u001b[38;5;241m=\u001b[39m \u001b[43m_dmp_inner_gcd\u001b[49m\u001b[43m(\u001b[49m\u001b[43mf\u001b[49m\u001b[43m,\u001b[49m\u001b[43m \u001b[49m\u001b[43mg\u001b[49m\u001b[43m,\u001b[49m\u001b[43m \u001b[49m\u001b[43mu\u001b[49m\u001b[43m,\u001b[49m\u001b[43m \u001b[49m\u001b[43mK\u001b[49m\u001b[43m)\u001b[49m\n\u001b[1;32m   1586\u001b[0m \u001b[38;5;28;01mreturn\u001b[39;00m (dmp_inflate(h, J, u, K),\n\u001b[1;32m   1587\u001b[0m         dmp_inflate(cff, J, u, K),\n\u001b[1;32m   1588\u001b[0m         dmp_inflate(cfg, J, u, K))\n",
      "File \u001b[0;32m~/miniconda3/envs/dev-py311/lib/python3.11/site-packages/sympy/polys/euclidtools.py:1535\u001b[0m, in \u001b[0;36m_dmp_inner_gcd\u001b[0;34m(f, g, u, K)\u001b[0m\n\u001b[1;32m   1532\u001b[0m f \u001b[38;5;241m=\u001b[39m dmp_convert(f, u, K, exact)\n\u001b[1;32m   1533\u001b[0m g \u001b[38;5;241m=\u001b[39m dmp_convert(g, u, K, exact)\n\u001b[0;32m-> 1535\u001b[0m h, cff, cfg \u001b[38;5;241m=\u001b[39m \u001b[43m_dmp_inner_gcd\u001b[49m\u001b[43m(\u001b[49m\u001b[43mf\u001b[49m\u001b[43m,\u001b[49m\u001b[43m \u001b[49m\u001b[43mg\u001b[49m\u001b[43m,\u001b[49m\u001b[43m \u001b[49m\u001b[43mu\u001b[49m\u001b[43m,\u001b[49m\u001b[43m \u001b[49m\u001b[43mexact\u001b[49m\u001b[43m)\u001b[49m\n\u001b[1;32m   1537\u001b[0m h \u001b[38;5;241m=\u001b[39m dmp_convert(h, u, exact, K)\n\u001b[1;32m   1538\u001b[0m cff \u001b[38;5;241m=\u001b[39m dmp_convert(cff, u, exact, K)\n",
      "File \u001b[0;32m~/miniconda3/envs/dev-py311/lib/python3.11/site-packages/sympy/polys/euclidtools.py:1545\u001b[0m, in \u001b[0;36m_dmp_inner_gcd\u001b[0;34m(f, g, u, K)\u001b[0m\n\u001b[1;32m   1543\u001b[0m \u001b[38;5;28;01mif\u001b[39;00m K\u001b[38;5;241m.\u001b[39mis_QQ \u001b[38;5;129;01mand\u001b[39;00m query(\u001b[38;5;124m'\u001b[39m\u001b[38;5;124mUSE_HEU_GCD\u001b[39m\u001b[38;5;124m'\u001b[39m):\n\u001b[1;32m   1544\u001b[0m     \u001b[38;5;28;01mtry\u001b[39;00m:\n\u001b[0;32m-> 1545\u001b[0m         \u001b[38;5;28;01mreturn\u001b[39;00m \u001b[43mdmp_qq_heu_gcd\u001b[49m\u001b[43m(\u001b[49m\u001b[43mf\u001b[49m\u001b[43m,\u001b[49m\u001b[43m \u001b[49m\u001b[43mg\u001b[49m\u001b[43m,\u001b[49m\u001b[43m \u001b[49m\u001b[43mu\u001b[49m\u001b[43m,\u001b[49m\u001b[43m \u001b[49m\u001b[43mK\u001b[49m\u001b[43m)\u001b[49m\n\u001b[1;32m   1546\u001b[0m     \u001b[38;5;28;01mexcept\u001b[39;00m HeuristicGCDFailed:\n\u001b[1;32m   1547\u001b[0m         \u001b[38;5;28;01mpass\u001b[39;00m\n",
      "File \u001b[0;32m~/miniconda3/envs/dev-py311/lib/python3.11/site-packages/sympy/polys/euclidtools.py:1457\u001b[0m, in \u001b[0;36mdmp_qq_heu_gcd\u001b[0;34m(f, g, u, K0)\u001b[0m\n\u001b[1;32m   1454\u001b[0m f \u001b[38;5;241m=\u001b[39m dmp_convert(f, u, K0, K1)\n\u001b[1;32m   1455\u001b[0m g \u001b[38;5;241m=\u001b[39m dmp_convert(g, u, K0, K1)\n\u001b[0;32m-> 1457\u001b[0m h, cff, cfg \u001b[38;5;241m=\u001b[39m \u001b[43mdmp_zz_heu_gcd\u001b[49m\u001b[43m(\u001b[49m\u001b[43mf\u001b[49m\u001b[43m,\u001b[49m\u001b[43m \u001b[49m\u001b[43mg\u001b[49m\u001b[43m,\u001b[49m\u001b[43m \u001b[49m\u001b[43mu\u001b[49m\u001b[43m,\u001b[49m\u001b[43m \u001b[49m\u001b[43mK1\u001b[49m\u001b[43m)\u001b[49m\n\u001b[1;32m   1459\u001b[0m h \u001b[38;5;241m=\u001b[39m dmp_convert(h, u, K1, K0)\n\u001b[1;32m   1461\u001b[0m c \u001b[38;5;241m=\u001b[39m dmp_ground_LC(h, u, K0)\n",
      "File \u001b[0;32m~/miniconda3/envs/dev-py311/lib/python3.11/site-packages/sympy/polys/euclidtools.py:1334\u001b[0m, in \u001b[0;36mdmp_zz_heu_gcd\u001b[0;34m(f, g, u, K)\u001b[0m\n\u001b[1;32m   1331\u001b[0m v \u001b[38;5;241m=\u001b[39m u \u001b[38;5;241m-\u001b[39m \u001b[38;5;241m1\u001b[39m\n\u001b[1;32m   1333\u001b[0m \u001b[38;5;28;01mif\u001b[39;00m \u001b[38;5;129;01mnot\u001b[39;00m (dmp_zero_p(ff, v) \u001b[38;5;129;01mor\u001b[39;00m dmp_zero_p(gg, v)):\n\u001b[0;32m-> 1334\u001b[0m     h, cff, cfg \u001b[38;5;241m=\u001b[39m \u001b[43mdmp_zz_heu_gcd\u001b[49m\u001b[43m(\u001b[49m\u001b[43mff\u001b[49m\u001b[43m,\u001b[49m\u001b[43m \u001b[49m\u001b[43mgg\u001b[49m\u001b[43m,\u001b[49m\u001b[43m \u001b[49m\u001b[43mv\u001b[49m\u001b[43m,\u001b[49m\u001b[43m \u001b[49m\u001b[43mK\u001b[49m\u001b[43m)\u001b[49m\n\u001b[1;32m   1336\u001b[0m     h \u001b[38;5;241m=\u001b[39m _dmp_zz_gcd_interpolate(h, x, v, K)\n\u001b[1;32m   1337\u001b[0m     h \u001b[38;5;241m=\u001b[39m dmp_ground_primitive(h, u, K)[\u001b[38;5;241m1\u001b[39m]\n",
      "File \u001b[0;32m~/miniconda3/envs/dev-py311/lib/python3.11/site-packages/sympy/polys/euclidtools.py:1334\u001b[0m, in \u001b[0;36mdmp_zz_heu_gcd\u001b[0;34m(f, g, u, K)\u001b[0m\n\u001b[1;32m   1331\u001b[0m v \u001b[38;5;241m=\u001b[39m u \u001b[38;5;241m-\u001b[39m \u001b[38;5;241m1\u001b[39m\n\u001b[1;32m   1333\u001b[0m \u001b[38;5;28;01mif\u001b[39;00m \u001b[38;5;129;01mnot\u001b[39;00m (dmp_zero_p(ff, v) \u001b[38;5;129;01mor\u001b[39;00m dmp_zero_p(gg, v)):\n\u001b[0;32m-> 1334\u001b[0m     h, cff, cfg \u001b[38;5;241m=\u001b[39m \u001b[43mdmp_zz_heu_gcd\u001b[49m\u001b[43m(\u001b[49m\u001b[43mff\u001b[49m\u001b[43m,\u001b[49m\u001b[43m \u001b[49m\u001b[43mgg\u001b[49m\u001b[43m,\u001b[49m\u001b[43m \u001b[49m\u001b[43mv\u001b[49m\u001b[43m,\u001b[49m\u001b[43m \u001b[49m\u001b[43mK\u001b[49m\u001b[43m)\u001b[49m\n\u001b[1;32m   1336\u001b[0m     h \u001b[38;5;241m=\u001b[39m _dmp_zz_gcd_interpolate(h, x, v, K)\n\u001b[1;32m   1337\u001b[0m     h \u001b[38;5;241m=\u001b[39m dmp_ground_primitive(h, u, K)[\u001b[38;5;241m1\u001b[39m]\n",
      "File \u001b[0;32m~/miniconda3/envs/dev-py311/lib/python3.11/site-packages/sympy/polys/euclidtools.py:1309\u001b[0m, in \u001b[0;36mdmp_zz_heu_gcd\u001b[0;34m(f, g, u, K)\u001b[0m\n\u001b[1;32m   1269\u001b[0m \u001b[38;5;250m\u001b[39m\u001b[38;5;124;03m\"\"\"\u001b[39;00m\n\u001b[1;32m   1270\u001b[0m \u001b[38;5;124;03mHeuristic polynomial GCD in `Z[X]`.\u001b[39;00m\n\u001b[1;32m   1271\u001b[0m \n\u001b[0;32m   (...)\u001b[0m\n\u001b[1;32m   1306\u001b[0m \n\u001b[1;32m   1307\u001b[0m \u001b[38;5;124;03m\"\"\"\u001b[39;00m\n\u001b[1;32m   1308\u001b[0m \u001b[38;5;28;01mif\u001b[39;00m \u001b[38;5;129;01mnot\u001b[39;00m u:\n\u001b[0;32m-> 1309\u001b[0m     \u001b[38;5;28;01mreturn\u001b[39;00m \u001b[43mdup_zz_heu_gcd\u001b[49m\u001b[43m(\u001b[49m\u001b[43mf\u001b[49m\u001b[43m,\u001b[49m\u001b[43m \u001b[49m\u001b[43mg\u001b[49m\u001b[43m,\u001b[49m\u001b[43m \u001b[49m\u001b[43mK\u001b[49m\u001b[43m)\u001b[49m\n\u001b[1;32m   1311\u001b[0m result \u001b[38;5;241m=\u001b[39m _dmp_rr_trivial_gcd(f, g, u, K)\n\u001b[1;32m   1313\u001b[0m \u001b[38;5;28;01mif\u001b[39;00m result \u001b[38;5;129;01mis\u001b[39;00m \u001b[38;5;129;01mnot\u001b[39;00m \u001b[38;5;28;01mNone\u001b[39;00m:\n",
      "File \u001b[0;32m~/miniconda3/envs/dev-py311/lib/python3.11/site-packages/sympy/polys/euclidtools.py:1209\u001b[0m, in \u001b[0;36mdup_zz_heu_gcd\u001b[0;34m(f, g, K)\u001b[0m\n\u001b[1;32m   1206\u001b[0m \u001b[38;5;28;01mif\u001b[39;00m ff \u001b[38;5;129;01mand\u001b[39;00m gg:\n\u001b[1;32m   1207\u001b[0m     h \u001b[38;5;241m=\u001b[39m K\u001b[38;5;241m.\u001b[39mgcd(ff, gg)\n\u001b[0;32m-> 1209\u001b[0m     cff \u001b[38;5;241m=\u001b[39m \u001b[43mff\u001b[49m\u001b[43m \u001b[49m\u001b[38;5;241;43m/\u001b[39;49m\u001b[38;5;241;43m/\u001b[39;49m\u001b[43m \u001b[49m\u001b[43mh\u001b[49m\n\u001b[1;32m   1210\u001b[0m     cfg \u001b[38;5;241m=\u001b[39m gg \u001b[38;5;241m/\u001b[39m\u001b[38;5;241m/\u001b[39m h\n\u001b[1;32m   1212\u001b[0m     h \u001b[38;5;241m=\u001b[39m _dup_zz_gcd_interpolate(h, x, K)\n",
      "\u001b[0;31mKeyboardInterrupt\u001b[0m: "
     ]
    }
   ],
   "source": [
    "integrate(hmn.expand(), (x, -oo, oo))"
   ]
  },
  {
   "cell_type": "code",
   "execution_count": 105,
   "id": "4afac818-9ae9-4eee-889f-9061afd3e7d4",
   "metadata": {
    "scrolled": true,
    "tags": []
   },
   "outputs": [
    {
     "name": "stderr",
     "output_type": "stream",
     "text": [
      "Exception ignored in: <bound method IPythonKernel._clean_thread_parent_frames of <ipykernel.ipkernel.IPythonKernel object at 0x7fdaf73ea890>>\n",
      "Traceback (most recent call last):\n",
      "  File \"/home/cyrus/miniconda3/envs/dev-py311/lib/python3.11/site-packages/ipykernel/ipkernel.py\", line 770, in _clean_thread_parent_frames\n",
      "    def _clean_thread_parent_frames(\n",
      "\n",
      "KeyboardInterrupt: \n"
     ]
    },
    {
     "ename": "KeyboardInterrupt",
     "evalue": "",
     "output_type": "error",
     "traceback": [
      "\u001b[0;31m---------------------------------------------------------------------------\u001b[0m",
      "\u001b[0;31mKeyboardInterrupt\u001b[0m                         Traceback (most recent call last)",
      "Cell \u001b[0;32mIn[105], line 1\u001b[0m\n\u001b[0;32m----> 1\u001b[0m Hmn \u001b[38;5;241m=\u001b[39m \u001b[43mintegrate\u001b[49m\u001b[43m(\u001b[49m\u001b[43mhmn\u001b[49m\u001b[43m,\u001b[49m\u001b[43m \u001b[49m\u001b[43m(\u001b[49m\u001b[43mx\u001b[49m\u001b[43m,\u001b[49m\u001b[43m \u001b[49m\u001b[38;5;241;43m-\u001b[39;49m\u001b[43moo\u001b[49m\u001b[43m,\u001b[49m\u001b[43m \u001b[49m\u001b[43moo\u001b[49m\u001b[43m)\u001b[49m\u001b[43m)\u001b[49m\n",
      "File \u001b[0;32m~/miniconda3/envs/dev-py311/lib/python3.11/site-packages/sympy/integrals/integrals.py:1567\u001b[0m, in \u001b[0;36mintegrate\u001b[0;34m(meijerg, conds, risch, heurisch, manual, *args, **kwargs)\u001b[0m\n\u001b[1;32m   1564\u001b[0m integral \u001b[38;5;241m=\u001b[39m Integral(\u001b[38;5;241m*\u001b[39margs, \u001b[38;5;241m*\u001b[39m\u001b[38;5;241m*\u001b[39mkwargs)\n\u001b[1;32m   1566\u001b[0m \u001b[38;5;28;01mif\u001b[39;00m \u001b[38;5;28misinstance\u001b[39m(integral, Integral):\n\u001b[0;32m-> 1567\u001b[0m     \u001b[38;5;28;01mreturn\u001b[39;00m \u001b[43mintegral\u001b[49m\u001b[38;5;241;43m.\u001b[39;49m\u001b[43mdoit\u001b[49m\u001b[43m(\u001b[49m\u001b[38;5;241;43m*\u001b[39;49m\u001b[38;5;241;43m*\u001b[39;49m\u001b[43mdoit_flags\u001b[49m\u001b[43m)\u001b[49m\n\u001b[1;32m   1568\u001b[0m \u001b[38;5;28;01melse\u001b[39;00m:\n\u001b[1;32m   1569\u001b[0m     new_args \u001b[38;5;241m=\u001b[39m [a\u001b[38;5;241m.\u001b[39mdoit(\u001b[38;5;241m*\u001b[39m\u001b[38;5;241m*\u001b[39mdoit_flags) \u001b[38;5;28;01mif\u001b[39;00m \u001b[38;5;28misinstance\u001b[39m(a, Integral) \u001b[38;5;28;01melse\u001b[39;00m a\n\u001b[1;32m   1570\u001b[0m         \u001b[38;5;28;01mfor\u001b[39;00m a \u001b[38;5;129;01min\u001b[39;00m integral\u001b[38;5;241m.\u001b[39margs]\n",
      "File \u001b[0;32m~/miniconda3/envs/dev-py311/lib/python3.11/site-packages/sympy/integrals/integrals.py:612\u001b[0m, in \u001b[0;36mIntegral.doit\u001b[0;34m(self, **hints)\u001b[0m\n\u001b[1;32m    610\u001b[0m     antideriv \u001b[38;5;241m=\u001b[39m \u001b[38;5;28;01mNone\u001b[39;00m\n\u001b[1;32m    611\u001b[0m \u001b[38;5;28;01melse\u001b[39;00m:\n\u001b[0;32m--> 612\u001b[0m     antideriv \u001b[38;5;241m=\u001b[39m \u001b[38;5;28;43mself\u001b[39;49m\u001b[38;5;241;43m.\u001b[39;49m\u001b[43m_eval_integral\u001b[49m\u001b[43m(\u001b[49m\n\u001b[1;32m    613\u001b[0m \u001b[43m        \u001b[49m\u001b[43mfunction\u001b[49m\u001b[43m,\u001b[49m\u001b[43m \u001b[49m\u001b[43mxab\u001b[49m\u001b[43m[\u001b[49m\u001b[38;5;241;43m0\u001b[39;49m\u001b[43m]\u001b[49m\u001b[43m,\u001b[49m\u001b[43m \u001b[49m\u001b[38;5;241;43m*\u001b[39;49m\u001b[38;5;241;43m*\u001b[39;49m\u001b[43meval_kwargs\u001b[49m\u001b[43m)\u001b[49m\n\u001b[1;32m    614\u001b[0m     \u001b[38;5;28;01mif\u001b[39;00m antideriv \u001b[38;5;129;01mis\u001b[39;00m \u001b[38;5;28;01mNone\u001b[39;00m \u001b[38;5;129;01mand\u001b[39;00m meijerg \u001b[38;5;129;01mis\u001b[39;00m \u001b[38;5;28;01mTrue\u001b[39;00m:\n\u001b[1;32m    615\u001b[0m         ret \u001b[38;5;241m=\u001b[39m try_meijerg(function, xab)\n",
      "File \u001b[0;32m~/miniconda3/envs/dev-py311/lib/python3.11/site-packages/sympy/integrals/integrals.py:1084\u001b[0m, in \u001b[0;36mIntegral._eval_integral\u001b[0;34m(self, f, x, meijerg, risch, manual, heurisch, conds, final)\u001b[0m\n\u001b[1;32m   1082\u001b[0m \u001b[38;5;28;01mtry\u001b[39;00m:\n\u001b[1;32m   1083\u001b[0m     \u001b[38;5;28;01mif\u001b[39;00m conds \u001b[38;5;241m==\u001b[39m \u001b[38;5;124m'\u001b[39m\u001b[38;5;124mpiecewise\u001b[39m\u001b[38;5;124m'\u001b[39m:\n\u001b[0;32m-> 1084\u001b[0m         h \u001b[38;5;241m=\u001b[39m \u001b[43mheurisch_wrapper\u001b[49m\u001b[43m(\u001b[49m\u001b[43mg\u001b[49m\u001b[43m,\u001b[49m\u001b[43m \u001b[49m\u001b[43mx\u001b[49m\u001b[43m,\u001b[49m\u001b[43m \u001b[49m\u001b[43mhints\u001b[49m\u001b[38;5;241;43m=\u001b[39;49m\u001b[43m[\u001b[49m\u001b[43m]\u001b[49m\u001b[43m)\u001b[49m\n\u001b[1;32m   1085\u001b[0m     \u001b[38;5;28;01melse\u001b[39;00m:\n\u001b[1;32m   1086\u001b[0m         h \u001b[38;5;241m=\u001b[39m heurisch_(g, x, hints\u001b[38;5;241m=\u001b[39m[])\n",
      "File \u001b[0;32m~/miniconda3/envs/dev-py311/lib/python3.11/site-packages/sympy/integrals/heurisch.py:143\u001b[0m, in \u001b[0;36mheurisch_wrapper\u001b[0;34m(f, x, rewrite, hints, mappings, retries, degree_offset, unnecessary_permutations, _try_heurisch)\u001b[0m\n\u001b[1;32m    140\u001b[0m \u001b[38;5;28;01mif\u001b[39;00m \u001b[38;5;129;01mnot\u001b[39;00m f\u001b[38;5;241m.\u001b[39mhas_free(x):\n\u001b[1;32m    141\u001b[0m     \u001b[38;5;28;01mreturn\u001b[39;00m f\u001b[38;5;241m*\u001b[39mx\n\u001b[0;32m--> 143\u001b[0m res \u001b[38;5;241m=\u001b[39m \u001b[43mheurisch\u001b[49m\u001b[43m(\u001b[49m\u001b[43mf\u001b[49m\u001b[43m,\u001b[49m\u001b[43m \u001b[49m\u001b[43mx\u001b[49m\u001b[43m,\u001b[49m\u001b[43m \u001b[49m\u001b[43mrewrite\u001b[49m\u001b[43m,\u001b[49m\u001b[43m \u001b[49m\u001b[43mhints\u001b[49m\u001b[43m,\u001b[49m\u001b[43m \u001b[49m\u001b[43mmappings\u001b[49m\u001b[43m,\u001b[49m\u001b[43m \u001b[49m\u001b[43mretries\u001b[49m\u001b[43m,\u001b[49m\u001b[43m \u001b[49m\u001b[43mdegree_offset\u001b[49m\u001b[43m,\u001b[49m\n\u001b[1;32m    144\u001b[0m \u001b[43m               \u001b[49m\u001b[43munnecessary_permutations\u001b[49m\u001b[43m,\u001b[49m\u001b[43m \u001b[49m\u001b[43m_try_heurisch\u001b[49m\u001b[43m)\u001b[49m\n\u001b[1;32m    145\u001b[0m \u001b[38;5;28;01mif\u001b[39;00m \u001b[38;5;129;01mnot\u001b[39;00m \u001b[38;5;28misinstance\u001b[39m(res, Basic):\n\u001b[1;32m    146\u001b[0m     \u001b[38;5;28;01mreturn\u001b[39;00m res\n",
      "File \u001b[0;32m~/miniconda3/envs/dev-py311/lib/python3.11/site-packages/sympy/integrals/heurisch.py:754\u001b[0m, in \u001b[0;36mheurisch\u001b[0;34m(f, x, rewrite, hints, mappings, retries, degree_offset, unnecessary_permutations, _try_heurisch)\u001b[0m\n\u001b[1;32m    752\u001b[0m         solution \u001b[38;5;241m=\u001b[39m _integrate()\n\u001b[1;32m    753\u001b[0m \u001b[38;5;28;01melse\u001b[39;00m:\n\u001b[0;32m--> 754\u001b[0m     solution \u001b[38;5;241m=\u001b[39m \u001b[43m_integrate\u001b[49m\u001b[43m(\u001b[49m\u001b[43m)\u001b[49m\n\u001b[1;32m    756\u001b[0m \u001b[38;5;28;01mif\u001b[39;00m solution \u001b[38;5;129;01mis\u001b[39;00m \u001b[38;5;129;01mnot\u001b[39;00m \u001b[38;5;28;01mNone\u001b[39;00m:\n\u001b[1;32m    757\u001b[0m     antideriv \u001b[38;5;241m=\u001b[39m solution\u001b[38;5;241m.\u001b[39msubs(rev_mapping)\n",
      "File \u001b[0;32m~/miniconda3/envs/dev-py311/lib/python3.11/site-packages/sympy/integrals/heurisch.py:733\u001b[0m, in \u001b[0;36mheurisch.<locals>._integrate\u001b[0;34m(field)\u001b[0m\n\u001b[1;32m    731\u001b[0m \u001b[38;5;28;01mexcept\u001b[39;00m \u001b[38;5;167;01mValueError\u001b[39;00m:\n\u001b[1;32m    732\u001b[0m     \u001b[38;5;28;01mraise\u001b[39;00m PolynomialError\n\u001b[0;32m--> 733\u001b[0m solution \u001b[38;5;241m=\u001b[39m \u001b[43msolve_lin_sys\u001b[49m\u001b[43m(\u001b[49m\u001b[43mnumer\u001b[49m\u001b[38;5;241;43m.\u001b[39;49m\u001b[43mcoeffs\u001b[49m\u001b[43m(\u001b[49m\u001b[43m)\u001b[49m\u001b[43m,\u001b[49m\u001b[43m \u001b[49m\u001b[43mcoeff_ring\u001b[49m\u001b[43m,\u001b[49m\u001b[43m \u001b[49m\u001b[43m_raw\u001b[49m\u001b[38;5;241;43m=\u001b[39;49m\u001b[38;5;28;43;01mFalse\u001b[39;49;00m\u001b[43m)\u001b[49m\n\u001b[1;32m    735\u001b[0m \u001b[38;5;28;01mif\u001b[39;00m solution \u001b[38;5;129;01mis\u001b[39;00m \u001b[38;5;28;01mNone\u001b[39;00m:\n\u001b[1;32m    736\u001b[0m     \u001b[38;5;28;01mreturn\u001b[39;00m \u001b[38;5;28;01mNone\u001b[39;00m\n",
      "File \u001b[0;32m~/miniconda3/envs/dev-py311/lib/python3.11/site-packages/sympy/polys/solvers.py:279\u001b[0m, in \u001b[0;36msolve_lin_sys\u001b[0;34m(eqs, ring, _raw)\u001b[0m\n\u001b[1;32m    276\u001b[0m     eqs_rhs\u001b[38;5;241m.\u001b[39mappend(eq_rhs)\n\u001b[1;32m    277\u001b[0m     eqs_coeffs\u001b[38;5;241m.\u001b[39mappend(eq_coeffs)\n\u001b[0;32m--> 279\u001b[0m result \u001b[38;5;241m=\u001b[39m \u001b[43m_solve_lin_sys\u001b[49m\u001b[43m(\u001b[49m\u001b[43meqs_coeffs\u001b[49m\u001b[43m,\u001b[49m\u001b[43m \u001b[49m\u001b[43meqs_rhs\u001b[49m\u001b[43m,\u001b[49m\u001b[43m \u001b[49m\u001b[43mring\u001b[49m\u001b[43m)\u001b[49m\n\u001b[1;32m    281\u001b[0m \u001b[38;5;28;01mif\u001b[39;00m result \u001b[38;5;129;01mis\u001b[39;00m \u001b[38;5;129;01mnot\u001b[39;00m \u001b[38;5;28;01mNone\u001b[39;00m \u001b[38;5;129;01mand\u001b[39;00m as_expr:\n\u001b[1;32m    283\u001b[0m     \u001b[38;5;28;01mdef\u001b[39;00m \u001b[38;5;21mto_sympy\u001b[39m(x):\n",
      "File \u001b[0;32m~/miniconda3/envs/dev-py311/lib/python3.11/site-packages/sympy/polys/solvers.py:357\u001b[0m, in \u001b[0;36m_solve_lin_sys\u001b[0;34m(eqs_coeffs, eqs_rhs, ring)\u001b[0m\n\u001b[1;32m    355\u001b[0m sol \u001b[38;5;241m=\u001b[39m {}\n\u001b[1;32m    356\u001b[0m \u001b[38;5;28;01mfor\u001b[39;00m subsystem \u001b[38;5;129;01min\u001b[39;00m subsystems:\n\u001b[0;32m--> 357\u001b[0m     subsol \u001b[38;5;241m=\u001b[39m \u001b[43m_solve_lin_sys_component\u001b[49m\u001b[43m(\u001b[49m\u001b[43msubsystem\u001b[49m\u001b[43m[\u001b[49m\u001b[38;5;241;43m0\u001b[39;49m\u001b[43m]\u001b[49m\u001b[43m,\u001b[49m\u001b[43m \u001b[49m\u001b[43msubsystem\u001b[49m\u001b[43m[\u001b[49m\u001b[38;5;241;43m1\u001b[39;49m\u001b[43m]\u001b[49m\u001b[43m,\u001b[49m\u001b[43m \u001b[49m\u001b[43mring\u001b[49m\u001b[43m)\u001b[49m\n\u001b[1;32m    358\u001b[0m     \u001b[38;5;28;01mif\u001b[39;00m subsol \u001b[38;5;129;01mis\u001b[39;00m \u001b[38;5;28;01mNone\u001b[39;00m:\n\u001b[1;32m    359\u001b[0m         \u001b[38;5;28;01mreturn\u001b[39;00m \u001b[38;5;28;01mNone\u001b[39;00m\n",
      "File \u001b[0;32m~/miniconda3/envs/dev-py311/lib/python3.11/site-packages/sympy/polys/solvers.py:405\u001b[0m, in \u001b[0;36m_solve_lin_sys_component\u001b[0;34m(eqs_coeffs, eqs_rhs, ring)\u001b[0m\n\u001b[1;32m    402\u001b[0m     matrix \u001b[38;5;241m=\u001b[39m matrix\u001b[38;5;241m.\u001b[39mto_field()\n\u001b[1;32m    404\u001b[0m \u001b[38;5;66;03m# solve by row-reduction\u001b[39;00m\n\u001b[0;32m--> 405\u001b[0m echelon, pivots \u001b[38;5;241m=\u001b[39m \u001b[43mmatrix\u001b[49m\u001b[38;5;241;43m.\u001b[39;49m\u001b[43mrref\u001b[49m\u001b[43m(\u001b[49m\u001b[43m)\u001b[49m\n\u001b[1;32m    407\u001b[0m \u001b[38;5;66;03m# construct the returnable form of the solutions\u001b[39;00m\n\u001b[1;32m    408\u001b[0m keys \u001b[38;5;241m=\u001b[39m ring\u001b[38;5;241m.\u001b[39mgens\n",
      "File \u001b[0;32m~/miniconda3/envs/dev-py311/lib/python3.11/site-packages/sympy/polys/matrices/domainmatrix.py:1272\u001b[0m, in \u001b[0;36mDomainMatrix.rref\u001b[0;34m(self)\u001b[0m\n\u001b[1;32m   1270\u001b[0m \u001b[38;5;28;01mif\u001b[39;00m \u001b[38;5;129;01mnot\u001b[39;00m \u001b[38;5;28mself\u001b[39m\u001b[38;5;241m.\u001b[39mdomain\u001b[38;5;241m.\u001b[39mis_Field:\n\u001b[1;32m   1271\u001b[0m     \u001b[38;5;28;01mraise\u001b[39;00m DMNotAField(\u001b[38;5;124m'\u001b[39m\u001b[38;5;124mNot a field\u001b[39m\u001b[38;5;124m'\u001b[39m)\n\u001b[0;32m-> 1272\u001b[0m rref_ddm, pivots \u001b[38;5;241m=\u001b[39m \u001b[38;5;28;43mself\u001b[39;49m\u001b[38;5;241;43m.\u001b[39;49m\u001b[43mrep\u001b[49m\u001b[38;5;241;43m.\u001b[39;49m\u001b[43mrref\u001b[49m\u001b[43m(\u001b[49m\u001b[43m)\u001b[49m\n\u001b[1;32m   1273\u001b[0m \u001b[38;5;28;01mreturn\u001b[39;00m \u001b[38;5;28mself\u001b[39m\u001b[38;5;241m.\u001b[39mfrom_rep(rref_ddm), \u001b[38;5;28mtuple\u001b[39m(pivots)\n",
      "File \u001b[0;32m~/miniconda3/envs/dev-py311/lib/python3.11/site-packages/sympy/polys/matrices/ddm.py:390\u001b[0m, in \u001b[0;36mDDM.rref\u001b[0;34m(a)\u001b[0m\n\u001b[1;32m    388\u001b[0m K \u001b[38;5;241m=\u001b[39m a\u001b[38;5;241m.\u001b[39mdomain\n\u001b[1;32m    389\u001b[0m partial_pivot \u001b[38;5;241m=\u001b[39m K\u001b[38;5;241m.\u001b[39mis_RealField \u001b[38;5;129;01mor\u001b[39;00m K\u001b[38;5;241m.\u001b[39mis_ComplexField\n\u001b[0;32m--> 390\u001b[0m pivots \u001b[38;5;241m=\u001b[39m \u001b[43mddm_irref\u001b[49m\u001b[43m(\u001b[49m\u001b[43mb\u001b[49m\u001b[43m,\u001b[49m\u001b[43m \u001b[49m\u001b[43m_partial_pivot\u001b[49m\u001b[38;5;241;43m=\u001b[39;49m\u001b[43mpartial_pivot\u001b[49m\u001b[43m)\u001b[49m\n\u001b[1;32m    391\u001b[0m \u001b[38;5;28;01mreturn\u001b[39;00m b, pivots\n",
      "File \u001b[0;32m~/miniconda3/envs/dev-py311/lib/python3.11/site-packages/sympy/polys/matrices/dense.py:150\u001b[0m, in \u001b[0;36mddm_irref\u001b[0;34m(a, _partial_pivot)\u001b[0m\n\u001b[1;32m    148\u001b[0m     ak[j] \u001b[38;5;241m-\u001b[39m\u001b[38;5;241m=\u001b[39m akj \u001b[38;5;66;03m# ak[j] = zero\u001b[39;00m\n\u001b[1;32m    149\u001b[0m     \u001b[38;5;28;01mfor\u001b[39;00m l \u001b[38;5;129;01min\u001b[39;00m \u001b[38;5;28mrange\u001b[39m(j\u001b[38;5;241m+\u001b[39m\u001b[38;5;241m1\u001b[39m, n):\n\u001b[0;32m--> 150\u001b[0m         ak[l] \u001b[38;5;241m-\u001b[39m\u001b[38;5;241m=\u001b[39m \u001b[43makj\u001b[49m\u001b[43m \u001b[49m\u001b[38;5;241;43m*\u001b[39;49m\u001b[43m \u001b[49m\u001b[43mai\u001b[49m\u001b[43m[\u001b[49m\u001b[43ml\u001b[49m\u001b[43m]\u001b[49m\n\u001b[1;32m    152\u001b[0m \u001b[38;5;66;03m# next row\u001b[39;00m\n\u001b[1;32m    153\u001b[0m pivots\u001b[38;5;241m.\u001b[39mappend(j)\n",
      "File \u001b[0;32m~/miniconda3/envs/dev-py311/lib/python3.11/site-packages/sympy/polys/fields.py:497\u001b[0m, in \u001b[0;36mFracElement.__mul__\u001b[0;34m(f, g)\u001b[0m\n\u001b[1;32m    495\u001b[0m     \u001b[38;5;28;01mreturn\u001b[39;00m field\u001b[38;5;241m.\u001b[39mzero\n\u001b[1;32m    496\u001b[0m \u001b[38;5;28;01melif\u001b[39;00m \u001b[38;5;28misinstance\u001b[39m(g, field\u001b[38;5;241m.\u001b[39mdtype):\n\u001b[0;32m--> 497\u001b[0m     \u001b[38;5;28;01mreturn\u001b[39;00m \u001b[43mf\u001b[49m\u001b[38;5;241;43m.\u001b[39;49m\u001b[43mnew\u001b[49m\u001b[43m(\u001b[49m\u001b[43mf\u001b[49m\u001b[38;5;241;43m.\u001b[39;49m\u001b[43mnumer\u001b[49m\u001b[38;5;241;43m*\u001b[39;49m\u001b[43mg\u001b[49m\u001b[38;5;241;43m.\u001b[39;49m\u001b[43mnumer\u001b[49m\u001b[43m,\u001b[49m\u001b[43m \u001b[49m\u001b[43mf\u001b[49m\u001b[38;5;241;43m.\u001b[39;49m\u001b[43mdenom\u001b[49m\u001b[38;5;241;43m*\u001b[39;49m\u001b[43mg\u001b[49m\u001b[38;5;241;43m.\u001b[39;49m\u001b[43mdenom\u001b[49m\u001b[43m)\u001b[49m\n\u001b[1;32m    498\u001b[0m \u001b[38;5;28;01melif\u001b[39;00m \u001b[38;5;28misinstance\u001b[39m(g, field\u001b[38;5;241m.\u001b[39mring\u001b[38;5;241m.\u001b[39mdtype):\n\u001b[1;32m    499\u001b[0m     \u001b[38;5;28;01mreturn\u001b[39;00m f\u001b[38;5;241m.\u001b[39mnew(f\u001b[38;5;241m.\u001b[39mnumer\u001b[38;5;241m*\u001b[39mg, f\u001b[38;5;241m.\u001b[39mdenom)\n",
      "File \u001b[0;32m~/miniconda3/envs/dev-py311/lib/python3.11/site-packages/sympy/polys/fields.py:301\u001b[0m, in \u001b[0;36mFracElement.new\u001b[0;34m(f, numer, denom)\u001b[0m\n\u001b[1;32m    300\u001b[0m \u001b[38;5;28;01mdef\u001b[39;00m \u001b[38;5;21mnew\u001b[39m(f, numer, denom):\n\u001b[0;32m--> 301\u001b[0m     \u001b[38;5;28;01mreturn\u001b[39;00m f\u001b[38;5;241m.\u001b[39mraw_new(\u001b[38;5;241m*\u001b[39m\u001b[43mnumer\u001b[49m\u001b[38;5;241;43m.\u001b[39;49m\u001b[43mcancel\u001b[49m\u001b[43m(\u001b[49m\u001b[43mdenom\u001b[49m\u001b[43m)\u001b[49m)\n",
      "File \u001b[0;32m~/miniconda3/envs/dev-py311/lib/python3.11/site-packages/sympy/polys/rings.py:2242\u001b[0m, in \u001b[0;36mPolyElement.cancel\u001b[0;34m(self, g)\u001b[0m\n\u001b[1;32m   2239\u001b[0m domain \u001b[38;5;241m=\u001b[39m ring\u001b[38;5;241m.\u001b[39mdomain\n\u001b[1;32m   2241\u001b[0m \u001b[38;5;28;01mif\u001b[39;00m \u001b[38;5;129;01mnot\u001b[39;00m (domain\u001b[38;5;241m.\u001b[39mis_Field \u001b[38;5;129;01mand\u001b[39;00m domain\u001b[38;5;241m.\u001b[39mhas_assoc_Ring):\n\u001b[0;32m-> 2242\u001b[0m     _, p, q \u001b[38;5;241m=\u001b[39m \u001b[43mf\u001b[49m\u001b[38;5;241;43m.\u001b[39;49m\u001b[43mcofactors\u001b[49m\u001b[43m(\u001b[49m\u001b[43mg\u001b[49m\u001b[43m)\u001b[49m\n\u001b[1;32m   2243\u001b[0m \u001b[38;5;28;01melse\u001b[39;00m:\n\u001b[1;32m   2244\u001b[0m     new_ring \u001b[38;5;241m=\u001b[39m ring\u001b[38;5;241m.\u001b[39mclone(domain\u001b[38;5;241m=\u001b[39mdomain\u001b[38;5;241m.\u001b[39mget_ring())\n",
      "File \u001b[0;32m~/miniconda3/envs/dev-py311/lib/python3.11/site-packages/sympy/polys/rings.py:2158\u001b[0m, in \u001b[0;36mPolyElement.cofactors\u001b[0;34m(f, g)\u001b[0m\n\u001b[1;32m   2155\u001b[0m     \u001b[38;5;28;01mreturn\u001b[39;00m h, cff, cfg\n\u001b[1;32m   2157\u001b[0m J, (f, g) \u001b[38;5;241m=\u001b[39m f\u001b[38;5;241m.\u001b[39mdeflate(g)\n\u001b[0;32m-> 2158\u001b[0m h, cff, cfg \u001b[38;5;241m=\u001b[39m \u001b[43mf\u001b[49m\u001b[38;5;241;43m.\u001b[39;49m\u001b[43m_gcd\u001b[49m\u001b[43m(\u001b[49m\u001b[43mg\u001b[49m\u001b[43m)\u001b[49m\n\u001b[1;32m   2160\u001b[0m \u001b[38;5;28;01mreturn\u001b[39;00m (h\u001b[38;5;241m.\u001b[39minflate(J), cff\u001b[38;5;241m.\u001b[39minflate(J), cfg\u001b[38;5;241m.\u001b[39minflate(J))\n",
      "File \u001b[0;32m~/miniconda3/envs/dev-py311/lib/python3.11/site-packages/sympy/polys/rings.py:2193\u001b[0m, in \u001b[0;36mPolyElement._gcd\u001b[0;34m(f, g)\u001b[0m\n\u001b[1;32m   2191\u001b[0m     \u001b[38;5;28;01mreturn\u001b[39;00m f\u001b[38;5;241m.\u001b[39m_gcd_ZZ(g)\n\u001b[1;32m   2192\u001b[0m \u001b[38;5;28;01melse\u001b[39;00m: \u001b[38;5;66;03m# TODO: don't use dense representation (port PRS algorithms)\u001b[39;00m\n\u001b[0;32m-> 2193\u001b[0m     \u001b[38;5;28;01mreturn\u001b[39;00m \u001b[43mring\u001b[49m\u001b[38;5;241;43m.\u001b[39;49m\u001b[43mdmp_inner_gcd\u001b[49m\u001b[43m(\u001b[49m\u001b[43mf\u001b[49m\u001b[43m,\u001b[49m\u001b[43m \u001b[49m\u001b[43mg\u001b[49m\u001b[43m)\u001b[49m\n",
      "File \u001b[0;32m~/miniconda3/envs/dev-py311/lib/python3.11/site-packages/sympy/polys/compatibility.py:663\u001b[0m, in \u001b[0;36mIPolys.dmp_inner_gcd\u001b[0;34m(self, f, g)\u001b[0m\n\u001b[1;32m    662\u001b[0m \u001b[38;5;28;01mdef\u001b[39;00m \u001b[38;5;21mdmp_inner_gcd\u001b[39m(\u001b[38;5;28mself\u001b[39m, f, g):\n\u001b[0;32m--> 663\u001b[0m     H, F, G \u001b[38;5;241m=\u001b[39m \u001b[43mdmp_inner_gcd\u001b[49m\u001b[43m(\u001b[49m\u001b[38;5;28;43mself\u001b[39;49m\u001b[38;5;241;43m.\u001b[39;49m\u001b[43mto_dense\u001b[49m\u001b[43m(\u001b[49m\u001b[43mf\u001b[49m\u001b[43m)\u001b[49m\u001b[43m,\u001b[49m\u001b[43m \u001b[49m\u001b[38;5;28;43mself\u001b[39;49m\u001b[38;5;241;43m.\u001b[39;49m\u001b[43mto_dense\u001b[49m\u001b[43m(\u001b[49m\u001b[43mg\u001b[49m\u001b[43m)\u001b[49m\u001b[43m,\u001b[49m\u001b[43m \u001b[49m\u001b[38;5;28;43mself\u001b[39;49m\u001b[38;5;241;43m.\u001b[39;49m\u001b[43mngens\u001b[49m\u001b[38;5;241;43m-\u001b[39;49m\u001b[38;5;241;43m1\u001b[39;49m\u001b[43m,\u001b[49m\u001b[43m \u001b[49m\u001b[38;5;28;43mself\u001b[39;49m\u001b[38;5;241;43m.\u001b[39;49m\u001b[43mdomain\u001b[49m\u001b[43m)\u001b[49m\n\u001b[1;32m    664\u001b[0m     \u001b[38;5;28;01mreturn\u001b[39;00m (\u001b[38;5;28mself\u001b[39m\u001b[38;5;241m.\u001b[39mfrom_dense(H), \u001b[38;5;28mself\u001b[39m\u001b[38;5;241m.\u001b[39mfrom_dense(F), \u001b[38;5;28mself\u001b[39m\u001b[38;5;241m.\u001b[39mfrom_dense(G))\n",
      "File \u001b[0;32m~/miniconda3/envs/dev-py311/lib/python3.11/site-packages/sympy/polys/euclidtools.py:1584\u001b[0m, in \u001b[0;36mdmp_inner_gcd\u001b[0;34m(f, g, u, K)\u001b[0m\n\u001b[1;32m   1581\u001b[0m     \u001b[38;5;28;01mreturn\u001b[39;00m dup_inner_gcd(f, g, K)\n\u001b[1;32m   1583\u001b[0m J, (f, g) \u001b[38;5;241m=\u001b[39m dmp_multi_deflate((f, g), u, K)\n\u001b[0;32m-> 1584\u001b[0m h, cff, cfg \u001b[38;5;241m=\u001b[39m \u001b[43m_dmp_inner_gcd\u001b[49m\u001b[43m(\u001b[49m\u001b[43mf\u001b[49m\u001b[43m,\u001b[49m\u001b[43m \u001b[49m\u001b[43mg\u001b[49m\u001b[43m,\u001b[49m\u001b[43m \u001b[49m\u001b[43mu\u001b[49m\u001b[43m,\u001b[49m\u001b[43m \u001b[49m\u001b[43mK\u001b[49m\u001b[43m)\u001b[49m\n\u001b[1;32m   1586\u001b[0m \u001b[38;5;28;01mreturn\u001b[39;00m (dmp_inflate(h, J, u, K),\n\u001b[1;32m   1587\u001b[0m         dmp_inflate(cff, J, u, K),\n\u001b[1;32m   1588\u001b[0m         dmp_inflate(cfg, J, u, K))\n",
      "File \u001b[0;32m~/miniconda3/envs/dev-py311/lib/python3.11/site-packages/sympy/polys/euclidtools.py:1535\u001b[0m, in \u001b[0;36m_dmp_inner_gcd\u001b[0;34m(f, g, u, K)\u001b[0m\n\u001b[1;32m   1532\u001b[0m f \u001b[38;5;241m=\u001b[39m dmp_convert(f, u, K, exact)\n\u001b[1;32m   1533\u001b[0m g \u001b[38;5;241m=\u001b[39m dmp_convert(g, u, K, exact)\n\u001b[0;32m-> 1535\u001b[0m h, cff, cfg \u001b[38;5;241m=\u001b[39m \u001b[43m_dmp_inner_gcd\u001b[49m\u001b[43m(\u001b[49m\u001b[43mf\u001b[49m\u001b[43m,\u001b[49m\u001b[43m \u001b[49m\u001b[43mg\u001b[49m\u001b[43m,\u001b[49m\u001b[43m \u001b[49m\u001b[43mu\u001b[49m\u001b[43m,\u001b[49m\u001b[43m \u001b[49m\u001b[43mexact\u001b[49m\u001b[43m)\u001b[49m\n\u001b[1;32m   1537\u001b[0m h \u001b[38;5;241m=\u001b[39m dmp_convert(h, u, exact, K)\n\u001b[1;32m   1538\u001b[0m cff \u001b[38;5;241m=\u001b[39m dmp_convert(cff, u, exact, K)\n",
      "File \u001b[0;32m~/miniconda3/envs/dev-py311/lib/python3.11/site-packages/sympy/polys/euclidtools.py:1545\u001b[0m, in \u001b[0;36m_dmp_inner_gcd\u001b[0;34m(f, g, u, K)\u001b[0m\n\u001b[1;32m   1543\u001b[0m \u001b[38;5;28;01mif\u001b[39;00m K\u001b[38;5;241m.\u001b[39mis_QQ \u001b[38;5;129;01mand\u001b[39;00m query(\u001b[38;5;124m'\u001b[39m\u001b[38;5;124mUSE_HEU_GCD\u001b[39m\u001b[38;5;124m'\u001b[39m):\n\u001b[1;32m   1544\u001b[0m     \u001b[38;5;28;01mtry\u001b[39;00m:\n\u001b[0;32m-> 1545\u001b[0m         \u001b[38;5;28;01mreturn\u001b[39;00m \u001b[43mdmp_qq_heu_gcd\u001b[49m\u001b[43m(\u001b[49m\u001b[43mf\u001b[49m\u001b[43m,\u001b[49m\u001b[43m \u001b[49m\u001b[43mg\u001b[49m\u001b[43m,\u001b[49m\u001b[43m \u001b[49m\u001b[43mu\u001b[49m\u001b[43m,\u001b[49m\u001b[43m \u001b[49m\u001b[43mK\u001b[49m\u001b[43m)\u001b[49m\n\u001b[1;32m   1546\u001b[0m     \u001b[38;5;28;01mexcept\u001b[39;00m HeuristicGCDFailed:\n\u001b[1;32m   1547\u001b[0m         \u001b[38;5;28;01mpass\u001b[39;00m\n",
      "File \u001b[0;32m~/miniconda3/envs/dev-py311/lib/python3.11/site-packages/sympy/polys/euclidtools.py:1457\u001b[0m, in \u001b[0;36mdmp_qq_heu_gcd\u001b[0;34m(f, g, u, K0)\u001b[0m\n\u001b[1;32m   1454\u001b[0m f \u001b[38;5;241m=\u001b[39m dmp_convert(f, u, K0, K1)\n\u001b[1;32m   1455\u001b[0m g \u001b[38;5;241m=\u001b[39m dmp_convert(g, u, K0, K1)\n\u001b[0;32m-> 1457\u001b[0m h, cff, cfg \u001b[38;5;241m=\u001b[39m \u001b[43mdmp_zz_heu_gcd\u001b[49m\u001b[43m(\u001b[49m\u001b[43mf\u001b[49m\u001b[43m,\u001b[49m\u001b[43m \u001b[49m\u001b[43mg\u001b[49m\u001b[43m,\u001b[49m\u001b[43m \u001b[49m\u001b[43mu\u001b[49m\u001b[43m,\u001b[49m\u001b[43m \u001b[49m\u001b[43mK1\u001b[49m\u001b[43m)\u001b[49m\n\u001b[1;32m   1459\u001b[0m h \u001b[38;5;241m=\u001b[39m dmp_convert(h, u, K1, K0)\n\u001b[1;32m   1461\u001b[0m c \u001b[38;5;241m=\u001b[39m dmp_ground_LC(h, u, K0)\n",
      "File \u001b[0;32m~/miniconda3/envs/dev-py311/lib/python3.11/site-packages/sympy/polys/euclidtools.py:1334\u001b[0m, in \u001b[0;36mdmp_zz_heu_gcd\u001b[0;34m(f, g, u, K)\u001b[0m\n\u001b[1;32m   1331\u001b[0m v \u001b[38;5;241m=\u001b[39m u \u001b[38;5;241m-\u001b[39m \u001b[38;5;241m1\u001b[39m\n\u001b[1;32m   1333\u001b[0m \u001b[38;5;28;01mif\u001b[39;00m \u001b[38;5;129;01mnot\u001b[39;00m (dmp_zero_p(ff, v) \u001b[38;5;129;01mor\u001b[39;00m dmp_zero_p(gg, v)):\n\u001b[0;32m-> 1334\u001b[0m     h, cff, cfg \u001b[38;5;241m=\u001b[39m \u001b[43mdmp_zz_heu_gcd\u001b[49m\u001b[43m(\u001b[49m\u001b[43mff\u001b[49m\u001b[43m,\u001b[49m\u001b[43m \u001b[49m\u001b[43mgg\u001b[49m\u001b[43m,\u001b[49m\u001b[43m \u001b[49m\u001b[43mv\u001b[49m\u001b[43m,\u001b[49m\u001b[43m \u001b[49m\u001b[43mK\u001b[49m\u001b[43m)\u001b[49m\n\u001b[1;32m   1336\u001b[0m     h \u001b[38;5;241m=\u001b[39m _dmp_zz_gcd_interpolate(h, x, v, K)\n\u001b[1;32m   1337\u001b[0m     h \u001b[38;5;241m=\u001b[39m dmp_ground_primitive(h, u, K)[\u001b[38;5;241m1\u001b[39m]\n",
      "File \u001b[0;32m~/miniconda3/envs/dev-py311/lib/python3.11/site-packages/sympy/polys/euclidtools.py:1328\u001b[0m, in \u001b[0;36mdmp_zz_heu_gcd\u001b[0;34m(f, g, u, K)\u001b[0m\n\u001b[1;32m   1323\u001b[0m x \u001b[38;5;241m=\u001b[39m \u001b[38;5;28mmax\u001b[39m(\u001b[38;5;28mmin\u001b[39m(B, \u001b[38;5;241m99\u001b[39m\u001b[38;5;241m*\u001b[39mK\u001b[38;5;241m.\u001b[39msqrt(B)),\n\u001b[1;32m   1324\u001b[0m         \u001b[38;5;241m2\u001b[39m\u001b[38;5;241m*\u001b[39m\u001b[38;5;28mmin\u001b[39m(f_norm \u001b[38;5;241m/\u001b[39m\u001b[38;5;241m/\u001b[39m \u001b[38;5;28mabs\u001b[39m(dmp_ground_LC(f, u, K)),\n\u001b[1;32m   1325\u001b[0m               g_norm \u001b[38;5;241m/\u001b[39m\u001b[38;5;241m/\u001b[39m \u001b[38;5;28mabs\u001b[39m(dmp_ground_LC(g, u, K))) \u001b[38;5;241m+\u001b[39m \u001b[38;5;241m2\u001b[39m)\n\u001b[1;32m   1327\u001b[0m \u001b[38;5;28;01mfor\u001b[39;00m i \u001b[38;5;129;01min\u001b[39;00m \u001b[38;5;28mrange\u001b[39m(\u001b[38;5;241m0\u001b[39m, HEU_GCD_MAX):\n\u001b[0;32m-> 1328\u001b[0m     ff \u001b[38;5;241m=\u001b[39m \u001b[43mdmp_eval\u001b[49m\u001b[43m(\u001b[49m\u001b[43mf\u001b[49m\u001b[43m,\u001b[49m\u001b[43m \u001b[49m\u001b[43mx\u001b[49m\u001b[43m,\u001b[49m\u001b[43m \u001b[49m\u001b[43mu\u001b[49m\u001b[43m,\u001b[49m\u001b[43m \u001b[49m\u001b[43mK\u001b[49m\u001b[43m)\u001b[49m\n\u001b[1;32m   1329\u001b[0m     gg \u001b[38;5;241m=\u001b[39m dmp_eval(g, x, u, K)\n\u001b[1;32m   1331\u001b[0m     v \u001b[38;5;241m=\u001b[39m u \u001b[38;5;241m-\u001b[39m \u001b[38;5;241m1\u001b[39m\n",
      "File \u001b[0;32m~/miniconda3/envs/dev-py311/lib/python3.11/site-packages/sympy/polys/densetools.py:311\u001b[0m, in \u001b[0;36mdmp_eval\u001b[0;34m(f, a, u, K)\u001b[0m\n\u001b[1;32m    308\u001b[0m result, v \u001b[38;5;241m=\u001b[39m dmp_LC(f, K), u \u001b[38;5;241m-\u001b[39m \u001b[38;5;241m1\u001b[39m\n\u001b[1;32m    310\u001b[0m \u001b[38;5;28;01mfor\u001b[39;00m coeff \u001b[38;5;129;01min\u001b[39;00m f[\u001b[38;5;241m1\u001b[39m:]:\n\u001b[0;32m--> 311\u001b[0m     result \u001b[38;5;241m=\u001b[39m \u001b[43mdmp_mul_ground\u001b[49m\u001b[43m(\u001b[49m\u001b[43mresult\u001b[49m\u001b[43m,\u001b[49m\u001b[43m \u001b[49m\u001b[43ma\u001b[49m\u001b[43m,\u001b[49m\u001b[43m \u001b[49m\u001b[43mv\u001b[49m\u001b[43m,\u001b[49m\u001b[43m \u001b[49m\u001b[43mK\u001b[49m\u001b[43m)\u001b[49m\n\u001b[1;32m    312\u001b[0m     result \u001b[38;5;241m=\u001b[39m dmp_add(result, coeff, v, K)\n\u001b[1;32m    314\u001b[0m \u001b[38;5;28;01mreturn\u001b[39;00m result\n",
      "File \u001b[0;32m~/miniconda3/envs/dev-py311/lib/python3.11/site-packages/sympy/polys/densearith.py:290\u001b[0m, in \u001b[0;36mdmp_mul_ground\u001b[0;34m(f, c, u, K)\u001b[0m\n\u001b[1;32m    276\u001b[0m \u001b[38;5;250m\u001b[39m\u001b[38;5;124;03m\"\"\"\u001b[39;00m\n\u001b[1;32m    277\u001b[0m \u001b[38;5;124;03mMultiply ``f`` by a constant value in ``K[X]``.\u001b[39;00m\n\u001b[1;32m    278\u001b[0m \n\u001b[0;32m   (...)\u001b[0m\n\u001b[1;32m    287\u001b[0m \n\u001b[1;32m    288\u001b[0m \u001b[38;5;124;03m\"\"\"\u001b[39;00m\n\u001b[1;32m    289\u001b[0m \u001b[38;5;28;01mif\u001b[39;00m \u001b[38;5;129;01mnot\u001b[39;00m u:\n\u001b[0;32m--> 290\u001b[0m     \u001b[38;5;28;01mreturn\u001b[39;00m \u001b[43mdup_mul_ground\u001b[49m\u001b[43m(\u001b[49m\u001b[43mf\u001b[49m\u001b[43m,\u001b[49m\u001b[43m \u001b[49m\u001b[43mc\u001b[49m\u001b[43m,\u001b[49m\u001b[43m \u001b[49m\u001b[43mK\u001b[49m\u001b[43m)\u001b[49m\n\u001b[1;32m    292\u001b[0m v \u001b[38;5;241m=\u001b[39m u \u001b[38;5;241m-\u001b[39m \u001b[38;5;241m1\u001b[39m\n\u001b[1;32m    294\u001b[0m \u001b[38;5;28;01mreturn\u001b[39;00m [ dmp_mul_ground(cf, c, v, K) \u001b[38;5;28;01mfor\u001b[39;00m cf \u001b[38;5;129;01min\u001b[39;00m f ]\n",
      "File \u001b[0;32m~/miniconda3/envs/dev-py311/lib/python3.11/site-packages/sympy/polys/densearith.py:272\u001b[0m, in \u001b[0;36mdup_mul_ground\u001b[0;34m(f, c, K)\u001b[0m\n\u001b[1;32m    270\u001b[0m     \u001b[38;5;28;01mreturn\u001b[39;00m []\n\u001b[1;32m    271\u001b[0m \u001b[38;5;28;01melse\u001b[39;00m:\n\u001b[0;32m--> 272\u001b[0m     \u001b[38;5;28;01mreturn\u001b[39;00m \u001b[43m[\u001b[49m\u001b[43m \u001b[49m\u001b[43mcf\u001b[49m\u001b[43m \u001b[49m\u001b[38;5;241;43m*\u001b[39;49m\u001b[43m \u001b[49m\u001b[43mc\u001b[49m\u001b[43m \u001b[49m\u001b[38;5;28;43;01mfor\u001b[39;49;00m\u001b[43m \u001b[49m\u001b[43mcf\u001b[49m\u001b[43m \u001b[49m\u001b[38;5;129;43;01min\u001b[39;49;00m\u001b[43m \u001b[49m\u001b[43mf\u001b[49m\u001b[43m \u001b[49m\u001b[43m]\u001b[49m\n",
      "File \u001b[0;32m~/miniconda3/envs/dev-py311/lib/python3.11/site-packages/sympy/polys/densearith.py:272\u001b[0m, in \u001b[0;36m<listcomp>\u001b[0;34m(.0)\u001b[0m\n\u001b[1;32m    270\u001b[0m     \u001b[38;5;28;01mreturn\u001b[39;00m []\n\u001b[1;32m    271\u001b[0m \u001b[38;5;28;01melse\u001b[39;00m:\n\u001b[0;32m--> 272\u001b[0m     \u001b[38;5;28;01mreturn\u001b[39;00m [ \u001b[43mcf\u001b[49m\u001b[43m \u001b[49m\u001b[38;5;241;43m*\u001b[39;49m\u001b[43m \u001b[49m\u001b[43mc\u001b[49m \u001b[38;5;28;01mfor\u001b[39;00m cf \u001b[38;5;129;01min\u001b[39;00m f ]\n",
      "\u001b[0;31mKeyboardInterrupt\u001b[0m: "
     ]
    }
   ],
   "source": [
    "Hmn = integrate(hmn, (x, -oo, oo))"
   ]
  },
  {
   "cell_type": "code",
   "execution_count": null,
   "id": "3b85d96e-9c83-4667-9baa-770465f20c95",
   "metadata": {
    "tags": []
   },
   "outputs": [],
   "source": [
    "Hmn"
   ]
  },
  {
   "cell_type": "code",
   "execution_count": 14,
   "id": "000e715f-ccb4-473a-acc7-b85ea51c510f",
   "metadata": {},
   "outputs": [
    {
     "data": {
      "text/latex": [
       "$\\displaystyle 1.0 \\int\\limits_{0}^{20.0} 1.0 \\operatorname{Wavefunction}{\\left(0.316227766016838 \\sin{\\left(0.05 \\pi x \\right)},x \\right)} \\left(0.25 x^{2} \\operatorname{Wavefunction}{\\left(0.316227766016838 \\sin{\\left(0.05 \\pi x \\right)},x \\right)} - 5.0 x \\operatorname{Wavefunction}{\\left(0.316227766016838 \\sin{\\left(0.05 \\pi x \\right)},x \\right)} - 1.0 \\operatorname{Wavefunction}{\\left(- 0.000790569415042095 \\pi^{2} \\sin{\\left(0.05 \\pi x \\right)},x \\right)} + 25.0 \\operatorname{Wavefunction}{\\left(0.316227766016838 \\sin{\\left(0.05 \\pi x \\right)},x \\right)}\\right)\\, dx$"
      ],
      "text/plain": [
       "1.0*Integral(1.0*Wavefunction(0.316227766016838*sin(0.05*pi*x), x)*(0.25*x**2*Wavefunction(0.316227766016838*sin(0.05*pi*x), x) - 5.0*x*Wavefunction(0.316227766016838*sin(0.05*pi*x), x) - 1.0*Wavefunction(-0.000790569415042095*pi**2*sin(0.05*pi*x), x) + 25.0*Wavefunction(0.316227766016838*sin(0.05*pi*x), x)), (x, 0, 20.0))"
      ]
     },
     "execution_count": 14,
     "metadata": {},
     "output_type": "execute_result"
    }
   ],
   "source": [
    "Hmn.subs({m: 1, n: 1}).as_expr()"
   ]
  },
  {
   "cell_type": "code",
   "execution_count": 109,
   "id": "4e531971-ce0e-4c8f-9584-4de44e55463a",
   "metadata": {},
   "outputs": [
    {
     "data": {
      "text/latex": [
       "$\\displaystyle \\left(0.00025 \\pi^{2} n^{2} + 2.5 \\left(0.1 x - 1\\right)^{2}\\right) \\sin{\\left(0.05 \\pi m x \\right)} \\sin{\\left(0.05 \\pi n x \\right)}$"
      ],
      "text/plain": [
       "(0.00025*pi**2*n**2 + 2.5*(0.1*x - 1)**2)*sin(0.05*pi*m*x)*sin(0.05*pi*n*x)"
      ]
     },
     "execution_count": 109,
     "metadata": {},
     "output_type": "execute_result"
    }
   ],
   "source": [
    "hmn"
   ]
  },
  {
   "cell_type": "code",
   "execution_count": 117,
   "id": "e1cd99ef-ff4d-4307-ac7b-1794d793c83d",
   "metadata": {},
   "outputs": [
    {
     "data": {
      "text/latex": [
       "$\\displaystyle 2823.04363713554$"
      ],
      "text/plain": [
       "2823.04363713554"
      ]
     },
     "execution_count": 117,
     "metadata": {},
     "output_type": "execute_result"
    }
   ],
   "source": [
    "from sympy import N\n",
    "N(integrate(hmn.evalf(subs={m: 1, n: 1}), (x, -3*L, 4*L)))"
   ]
  },
  {
   "cell_type": "code",
   "execution_count": 8,
   "id": "7ea77833-06e7-4032-99eb-18d167cdd807",
   "metadata": {
    "tags": []
   },
   "outputs": [
    {
     "ename": "KeyboardInterrupt",
     "evalue": "",
     "output_type": "error",
     "traceback": [
      "\u001b[0;31m---------------------------------------------------------------------------\u001b[0m",
      "\u001b[0;31mKeyboardInterrupt\u001b[0m                         Traceback (most recent call last)",
      "Cell \u001b[0;32mIn[8], line 7\u001b[0m\n\u001b[1;32m      4\u001b[0m row \u001b[38;5;241m=\u001b[39m []\n\u001b[1;32m      5\u001b[0m \u001b[38;5;28;01mfor\u001b[39;00m j \u001b[38;5;129;01min\u001b[39;00m \u001b[38;5;28mrange\u001b[39m(nbasis):\n\u001b[1;32m      6\u001b[0m     \u001b[38;5;66;03m# Substitute m and n values into Hmn and evaluate\u001b[39;00m\n\u001b[0;32m----> 7\u001b[0m     element \u001b[38;5;241m=\u001b[39m \u001b[43mHmn\u001b[49m\u001b[38;5;241;43m.\u001b[39;49m\u001b[43msubs\u001b[49m\u001b[43m(\u001b[49m\u001b[43m{\u001b[49m\u001b[43mm\u001b[49m\u001b[43m:\u001b[49m\u001b[43m \u001b[49m\u001b[43mi\u001b[49m\u001b[43m,\u001b[49m\u001b[43m \u001b[49m\u001b[43mn\u001b[49m\u001b[43m:\u001b[49m\u001b[43m \u001b[49m\u001b[43mj\u001b[49m\u001b[43m}\u001b[49m\u001b[43m)\u001b[49m\u001b[38;5;241;43m.\u001b[39;49m\u001b[43mdoit\u001b[49m\u001b[43m(\u001b[49m\u001b[43m)\u001b[49m\n\u001b[1;32m      8\u001b[0m     row\u001b[38;5;241m.\u001b[39mappend(element)\n\u001b[1;32m      9\u001b[0m matrix_elements\u001b[38;5;241m.\u001b[39mappend(row)\n",
      "File \u001b[0;32m~/miniconda3/envs/dev-py311/lib/python3.11/site-packages/sympy/core/operations.py:455\u001b[0m, in \u001b[0;36mAssocOp.doit\u001b[0;34m(self, **hints)\u001b[0m\n\u001b[1;32m    453\u001b[0m \u001b[38;5;28;01mdef\u001b[39;00m \u001b[38;5;21mdoit\u001b[39m(\u001b[38;5;28mself\u001b[39m, \u001b[38;5;241m*\u001b[39m\u001b[38;5;241m*\u001b[39mhints):\n\u001b[1;32m    454\u001b[0m     \u001b[38;5;28;01mif\u001b[39;00m hints\u001b[38;5;241m.\u001b[39mget(\u001b[38;5;124m'\u001b[39m\u001b[38;5;124mdeep\u001b[39m\u001b[38;5;124m'\u001b[39m, \u001b[38;5;28;01mTrue\u001b[39;00m):\n\u001b[0;32m--> 455\u001b[0m         terms \u001b[38;5;241m=\u001b[39m \u001b[43m[\u001b[49m\u001b[43mterm\u001b[49m\u001b[38;5;241;43m.\u001b[39;49m\u001b[43mdoit\u001b[49m\u001b[43m(\u001b[49m\u001b[38;5;241;43m*\u001b[39;49m\u001b[38;5;241;43m*\u001b[39;49m\u001b[43mhints\u001b[49m\u001b[43m)\u001b[49m\u001b[43m \u001b[49m\u001b[38;5;28;43;01mfor\u001b[39;49;00m\u001b[43m \u001b[49m\u001b[43mterm\u001b[49m\u001b[43m \u001b[49m\u001b[38;5;129;43;01min\u001b[39;49;00m\u001b[43m \u001b[49m\u001b[38;5;28;43mself\u001b[39;49m\u001b[38;5;241;43m.\u001b[39;49m\u001b[43margs\u001b[49m\u001b[43m]\u001b[49m\n\u001b[1;32m    456\u001b[0m     \u001b[38;5;28;01melse\u001b[39;00m:\n\u001b[1;32m    457\u001b[0m         terms \u001b[38;5;241m=\u001b[39m \u001b[38;5;28mself\u001b[39m\u001b[38;5;241m.\u001b[39margs\n",
      "File \u001b[0;32m~/miniconda3/envs/dev-py311/lib/python3.11/site-packages/sympy/core/operations.py:455\u001b[0m, in \u001b[0;36m<listcomp>\u001b[0;34m(.0)\u001b[0m\n\u001b[1;32m    453\u001b[0m \u001b[38;5;28;01mdef\u001b[39;00m \u001b[38;5;21mdoit\u001b[39m(\u001b[38;5;28mself\u001b[39m, \u001b[38;5;241m*\u001b[39m\u001b[38;5;241m*\u001b[39mhints):\n\u001b[1;32m    454\u001b[0m     \u001b[38;5;28;01mif\u001b[39;00m hints\u001b[38;5;241m.\u001b[39mget(\u001b[38;5;124m'\u001b[39m\u001b[38;5;124mdeep\u001b[39m\u001b[38;5;124m'\u001b[39m, \u001b[38;5;28;01mTrue\u001b[39;00m):\n\u001b[0;32m--> 455\u001b[0m         terms \u001b[38;5;241m=\u001b[39m [\u001b[43mterm\u001b[49m\u001b[38;5;241;43m.\u001b[39;49m\u001b[43mdoit\u001b[49m\u001b[43m(\u001b[49m\u001b[38;5;241;43m*\u001b[39;49m\u001b[38;5;241;43m*\u001b[39;49m\u001b[43mhints\u001b[49m\u001b[43m)\u001b[49m \u001b[38;5;28;01mfor\u001b[39;00m term \u001b[38;5;129;01min\u001b[39;00m \u001b[38;5;28mself\u001b[39m\u001b[38;5;241m.\u001b[39margs]\n\u001b[1;32m    456\u001b[0m     \u001b[38;5;28;01melse\u001b[39;00m:\n\u001b[1;32m    457\u001b[0m         terms \u001b[38;5;241m=\u001b[39m \u001b[38;5;28mself\u001b[39m\u001b[38;5;241m.\u001b[39margs\n",
      "File \u001b[0;32m~/miniconda3/envs/dev-py311/lib/python3.11/site-packages/sympy/integrals/integrals.py:499\u001b[0m, in \u001b[0;36mIntegral.doit\u001b[0;34m(self, **hints)\u001b[0m\n\u001b[1;32m    497\u001b[0m \u001b[38;5;28;01mif\u001b[39;00m reps:\n\u001b[1;32m    498\u001b[0m     undo \u001b[38;5;241m=\u001b[39m {v: k \u001b[38;5;28;01mfor\u001b[39;00m k, v \u001b[38;5;129;01min\u001b[39;00m reps\u001b[38;5;241m.\u001b[39mitems()}\n\u001b[0;32m--> 499\u001b[0m     did \u001b[38;5;241m=\u001b[39m \u001b[38;5;28;43mself\u001b[39;49m\u001b[38;5;241;43m.\u001b[39;49m\u001b[43mxreplace\u001b[49m\u001b[43m(\u001b[49m\u001b[43mreps\u001b[49m\u001b[43m)\u001b[49m\u001b[38;5;241;43m.\u001b[39;49m\u001b[43mdoit\u001b[49m\u001b[43m(\u001b[49m\u001b[38;5;241;43m*\u001b[39;49m\u001b[38;5;241;43m*\u001b[39;49m\u001b[43mhints\u001b[49m\u001b[43m)\u001b[49m\n\u001b[1;32m    500\u001b[0m     \u001b[38;5;28;01mif\u001b[39;00m \u001b[38;5;28misinstance\u001b[39m(did, \u001b[38;5;28mtuple\u001b[39m):  \u001b[38;5;66;03m# when separate=True\u001b[39;00m\n\u001b[1;32m    501\u001b[0m         did \u001b[38;5;241m=\u001b[39m \u001b[38;5;28mtuple\u001b[39m([i\u001b[38;5;241m.\u001b[39mxreplace(undo) \u001b[38;5;28;01mfor\u001b[39;00m i \u001b[38;5;129;01min\u001b[39;00m did])\n",
      "File \u001b[0;32m~/miniconda3/envs/dev-py311/lib/python3.11/site-packages/sympy/integrals/integrals.py:612\u001b[0m, in \u001b[0;36mIntegral.doit\u001b[0;34m(self, **hints)\u001b[0m\n\u001b[1;32m    610\u001b[0m     antideriv \u001b[38;5;241m=\u001b[39m \u001b[38;5;28;01mNone\u001b[39;00m\n\u001b[1;32m    611\u001b[0m \u001b[38;5;28;01melse\u001b[39;00m:\n\u001b[0;32m--> 612\u001b[0m     antideriv \u001b[38;5;241m=\u001b[39m \u001b[38;5;28;43mself\u001b[39;49m\u001b[38;5;241;43m.\u001b[39;49m\u001b[43m_eval_integral\u001b[49m\u001b[43m(\u001b[49m\n\u001b[1;32m    613\u001b[0m \u001b[43m        \u001b[49m\u001b[43mfunction\u001b[49m\u001b[43m,\u001b[49m\u001b[43m \u001b[49m\u001b[43mxab\u001b[49m\u001b[43m[\u001b[49m\u001b[38;5;241;43m0\u001b[39;49m\u001b[43m]\u001b[49m\u001b[43m,\u001b[49m\u001b[43m \u001b[49m\u001b[38;5;241;43m*\u001b[39;49m\u001b[38;5;241;43m*\u001b[39;49m\u001b[43meval_kwargs\u001b[49m\u001b[43m)\u001b[49m\n\u001b[1;32m    614\u001b[0m     \u001b[38;5;28;01mif\u001b[39;00m antideriv \u001b[38;5;129;01mis\u001b[39;00m \u001b[38;5;28;01mNone\u001b[39;00m \u001b[38;5;129;01mand\u001b[39;00m meijerg \u001b[38;5;129;01mis\u001b[39;00m \u001b[38;5;28;01mTrue\u001b[39;00m:\n\u001b[1;32m    615\u001b[0m         ret \u001b[38;5;241m=\u001b[39m try_meijerg(function, xab)\n",
      "File \u001b[0;32m~/miniconda3/envs/dev-py311/lib/python3.11/site-packages/sympy/integrals/integrals.py:1118\u001b[0m, in \u001b[0;36mIntegral._eval_integral\u001b[0;34m(self, f, x, meijerg, risch, manual, heurisch, conds, final)\u001b[0m\n\u001b[1;32m   1116\u001b[0m     new_eval_kwargs[\u001b[38;5;124m\"\u001b[39m\u001b[38;5;124mmanual\u001b[39m\u001b[38;5;124m\"\u001b[39m] \u001b[38;5;241m=\u001b[39m \u001b[38;5;28;01mFalse\u001b[39;00m\n\u001b[1;32m   1117\u001b[0m     new_eval_kwargs[\u001b[38;5;124m\"\u001b[39m\u001b[38;5;124mfinal\u001b[39m\u001b[38;5;124m\"\u001b[39m] \u001b[38;5;241m=\u001b[39m \u001b[38;5;28;01mFalse\u001b[39;00m\n\u001b[0;32m-> 1118\u001b[0m     result \u001b[38;5;241m=\u001b[39m result\u001b[38;5;241m.\u001b[39mfunc(\u001b[38;5;241m*\u001b[39m\u001b[43m[\u001b[49m\n\u001b[1;32m   1119\u001b[0m \u001b[43m        \u001b[49m\u001b[43marg\u001b[49m\u001b[38;5;241;43m.\u001b[39;49m\u001b[43mdoit\u001b[49m\u001b[43m(\u001b[49m\u001b[38;5;241;43m*\u001b[39;49m\u001b[38;5;241;43m*\u001b[39;49m\u001b[43mnew_eval_kwargs\u001b[49m\u001b[43m)\u001b[49m\u001b[43m \u001b[49m\u001b[38;5;28;43;01mif\u001b[39;49;00m\n\u001b[1;32m   1120\u001b[0m \u001b[43m        \u001b[49m\u001b[43marg\u001b[49m\u001b[38;5;241;43m.\u001b[39;49m\u001b[43mhas\u001b[49m\u001b[43m(\u001b[49m\u001b[43mIntegral\u001b[49m\u001b[43m)\u001b[49m\u001b[43m \u001b[49m\u001b[38;5;28;43;01melse\u001b[39;49;00m\u001b[43m \u001b[49m\u001b[43marg\u001b[49m\n\u001b[1;32m   1121\u001b[0m \u001b[43m        \u001b[49m\u001b[38;5;28;43;01mfor\u001b[39;49;00m\u001b[43m \u001b[49m\u001b[43marg\u001b[49m\u001b[43m \u001b[49m\u001b[38;5;129;43;01min\u001b[39;49;00m\u001b[43m \u001b[49m\u001b[43mresult\u001b[49m\u001b[38;5;241;43m.\u001b[39;49m\u001b[43margs\u001b[49m\n\u001b[1;32m   1122\u001b[0m \u001b[43m    \u001b[49m\u001b[43m]\u001b[49m)\u001b[38;5;241m.\u001b[39mexpand(multinomial\u001b[38;5;241m=\u001b[39m\u001b[38;5;28;01mFalse\u001b[39;00m,\n\u001b[1;32m   1123\u001b[0m               log\u001b[38;5;241m=\u001b[39m\u001b[38;5;28;01mFalse\u001b[39;00m,\n\u001b[1;32m   1124\u001b[0m               power_exp\u001b[38;5;241m=\u001b[39m\u001b[38;5;28;01mFalse\u001b[39;00m,\n\u001b[1;32m   1125\u001b[0m               power_base\u001b[38;5;241m=\u001b[39m\u001b[38;5;28;01mFalse\u001b[39;00m)\n\u001b[1;32m   1126\u001b[0m \u001b[38;5;28;01mif\u001b[39;00m \u001b[38;5;129;01mnot\u001b[39;00m result\u001b[38;5;241m.\u001b[39mhas(Integral):\n\u001b[1;32m   1127\u001b[0m     parts\u001b[38;5;241m.\u001b[39mappend(coeff \u001b[38;5;241m*\u001b[39m result)\n",
      "File \u001b[0;32m~/miniconda3/envs/dev-py311/lib/python3.11/site-packages/sympy/integrals/integrals.py:1119\u001b[0m, in \u001b[0;36m<listcomp>\u001b[0;34m(.0)\u001b[0m\n\u001b[1;32m   1116\u001b[0m     new_eval_kwargs[\u001b[38;5;124m\"\u001b[39m\u001b[38;5;124mmanual\u001b[39m\u001b[38;5;124m\"\u001b[39m] \u001b[38;5;241m=\u001b[39m \u001b[38;5;28;01mFalse\u001b[39;00m\n\u001b[1;32m   1117\u001b[0m     new_eval_kwargs[\u001b[38;5;124m\"\u001b[39m\u001b[38;5;124mfinal\u001b[39m\u001b[38;5;124m\"\u001b[39m] \u001b[38;5;241m=\u001b[39m \u001b[38;5;28;01mFalse\u001b[39;00m\n\u001b[1;32m   1118\u001b[0m     result \u001b[38;5;241m=\u001b[39m result\u001b[38;5;241m.\u001b[39mfunc(\u001b[38;5;241m*\u001b[39m[\n\u001b[0;32m-> 1119\u001b[0m         \u001b[43marg\u001b[49m\u001b[38;5;241;43m.\u001b[39;49m\u001b[43mdoit\u001b[49m\u001b[43m(\u001b[49m\u001b[38;5;241;43m*\u001b[39;49m\u001b[38;5;241;43m*\u001b[39;49m\u001b[43mnew_eval_kwargs\u001b[49m\u001b[43m)\u001b[49m \u001b[38;5;28;01mif\u001b[39;00m\n\u001b[1;32m   1120\u001b[0m         arg\u001b[38;5;241m.\u001b[39mhas(Integral) \u001b[38;5;28;01melse\u001b[39;00m arg\n\u001b[1;32m   1121\u001b[0m         \u001b[38;5;28;01mfor\u001b[39;00m arg \u001b[38;5;129;01min\u001b[39;00m result\u001b[38;5;241m.\u001b[39margs\n\u001b[1;32m   1122\u001b[0m     ])\u001b[38;5;241m.\u001b[39mexpand(multinomial\u001b[38;5;241m=\u001b[39m\u001b[38;5;28;01mFalse\u001b[39;00m,\n\u001b[1;32m   1123\u001b[0m               log\u001b[38;5;241m=\u001b[39m\u001b[38;5;28;01mFalse\u001b[39;00m,\n\u001b[1;32m   1124\u001b[0m               power_exp\u001b[38;5;241m=\u001b[39m\u001b[38;5;28;01mFalse\u001b[39;00m,\n\u001b[1;32m   1125\u001b[0m               power_base\u001b[38;5;241m=\u001b[39m\u001b[38;5;28;01mFalse\u001b[39;00m)\n\u001b[1;32m   1126\u001b[0m \u001b[38;5;28;01mif\u001b[39;00m \u001b[38;5;129;01mnot\u001b[39;00m result\u001b[38;5;241m.\u001b[39mhas(Integral):\n\u001b[1;32m   1127\u001b[0m     parts\u001b[38;5;241m.\u001b[39mappend(coeff \u001b[38;5;241m*\u001b[39m result)\n",
      "File \u001b[0;32m~/miniconda3/envs/dev-py311/lib/python3.11/site-packages/sympy/core/operations.py:455\u001b[0m, in \u001b[0;36mAssocOp.doit\u001b[0;34m(self, **hints)\u001b[0m\n\u001b[1;32m    453\u001b[0m \u001b[38;5;28;01mdef\u001b[39;00m \u001b[38;5;21mdoit\u001b[39m(\u001b[38;5;28mself\u001b[39m, \u001b[38;5;241m*\u001b[39m\u001b[38;5;241m*\u001b[39mhints):\n\u001b[1;32m    454\u001b[0m     \u001b[38;5;28;01mif\u001b[39;00m hints\u001b[38;5;241m.\u001b[39mget(\u001b[38;5;124m'\u001b[39m\u001b[38;5;124mdeep\u001b[39m\u001b[38;5;124m'\u001b[39m, \u001b[38;5;28;01mTrue\u001b[39;00m):\n\u001b[0;32m--> 455\u001b[0m         terms \u001b[38;5;241m=\u001b[39m \u001b[43m[\u001b[49m\u001b[43mterm\u001b[49m\u001b[38;5;241;43m.\u001b[39;49m\u001b[43mdoit\u001b[49m\u001b[43m(\u001b[49m\u001b[38;5;241;43m*\u001b[39;49m\u001b[38;5;241;43m*\u001b[39;49m\u001b[43mhints\u001b[49m\u001b[43m)\u001b[49m\u001b[43m \u001b[49m\u001b[38;5;28;43;01mfor\u001b[39;49;00m\u001b[43m \u001b[49m\u001b[43mterm\u001b[49m\u001b[43m \u001b[49m\u001b[38;5;129;43;01min\u001b[39;49;00m\u001b[43m \u001b[49m\u001b[38;5;28;43mself\u001b[39;49m\u001b[38;5;241;43m.\u001b[39;49m\u001b[43margs\u001b[49m\u001b[43m]\u001b[49m\n\u001b[1;32m    456\u001b[0m     \u001b[38;5;28;01melse\u001b[39;00m:\n\u001b[1;32m    457\u001b[0m         terms \u001b[38;5;241m=\u001b[39m \u001b[38;5;28mself\u001b[39m\u001b[38;5;241m.\u001b[39margs\n",
      "File \u001b[0;32m~/miniconda3/envs/dev-py311/lib/python3.11/site-packages/sympy/core/operations.py:455\u001b[0m, in \u001b[0;36m<listcomp>\u001b[0;34m(.0)\u001b[0m\n\u001b[1;32m    453\u001b[0m \u001b[38;5;28;01mdef\u001b[39;00m \u001b[38;5;21mdoit\u001b[39m(\u001b[38;5;28mself\u001b[39m, \u001b[38;5;241m*\u001b[39m\u001b[38;5;241m*\u001b[39mhints):\n\u001b[1;32m    454\u001b[0m     \u001b[38;5;28;01mif\u001b[39;00m hints\u001b[38;5;241m.\u001b[39mget(\u001b[38;5;124m'\u001b[39m\u001b[38;5;124mdeep\u001b[39m\u001b[38;5;124m'\u001b[39m, \u001b[38;5;28;01mTrue\u001b[39;00m):\n\u001b[0;32m--> 455\u001b[0m         terms \u001b[38;5;241m=\u001b[39m [\u001b[43mterm\u001b[49m\u001b[38;5;241;43m.\u001b[39;49m\u001b[43mdoit\u001b[49m\u001b[43m(\u001b[49m\u001b[38;5;241;43m*\u001b[39;49m\u001b[38;5;241;43m*\u001b[39;49m\u001b[43mhints\u001b[49m\u001b[43m)\u001b[49m \u001b[38;5;28;01mfor\u001b[39;00m term \u001b[38;5;129;01min\u001b[39;00m \u001b[38;5;28mself\u001b[39m\u001b[38;5;241m.\u001b[39margs]\n\u001b[1;32m    456\u001b[0m     \u001b[38;5;28;01melse\u001b[39;00m:\n\u001b[1;32m    457\u001b[0m         terms \u001b[38;5;241m=\u001b[39m \u001b[38;5;28mself\u001b[39m\u001b[38;5;241m.\u001b[39margs\n",
      "File \u001b[0;32m~/miniconda3/envs/dev-py311/lib/python3.11/site-packages/sympy/integrals/integrals.py:612\u001b[0m, in \u001b[0;36mIntegral.doit\u001b[0;34m(self, **hints)\u001b[0m\n\u001b[1;32m    610\u001b[0m     antideriv \u001b[38;5;241m=\u001b[39m \u001b[38;5;28;01mNone\u001b[39;00m\n\u001b[1;32m    611\u001b[0m \u001b[38;5;28;01melse\u001b[39;00m:\n\u001b[0;32m--> 612\u001b[0m     antideriv \u001b[38;5;241m=\u001b[39m \u001b[38;5;28;43mself\u001b[39;49m\u001b[38;5;241;43m.\u001b[39;49m\u001b[43m_eval_integral\u001b[49m\u001b[43m(\u001b[49m\n\u001b[1;32m    613\u001b[0m \u001b[43m        \u001b[49m\u001b[43mfunction\u001b[49m\u001b[43m,\u001b[49m\u001b[43m \u001b[49m\u001b[43mxab\u001b[49m\u001b[43m[\u001b[49m\u001b[38;5;241;43m0\u001b[39;49m\u001b[43m]\u001b[49m\u001b[43m,\u001b[49m\u001b[43m \u001b[49m\u001b[38;5;241;43m*\u001b[39;49m\u001b[38;5;241;43m*\u001b[39;49m\u001b[43meval_kwargs\u001b[49m\u001b[43m)\u001b[49m\n\u001b[1;32m    614\u001b[0m     \u001b[38;5;28;01mif\u001b[39;00m antideriv \u001b[38;5;129;01mis\u001b[39;00m \u001b[38;5;28;01mNone\u001b[39;00m \u001b[38;5;129;01mand\u001b[39;00m meijerg \u001b[38;5;129;01mis\u001b[39;00m \u001b[38;5;28;01mTrue\u001b[39;00m:\n\u001b[1;32m    615\u001b[0m         ret \u001b[38;5;241m=\u001b[39m try_meijerg(function, xab)\n",
      "File \u001b[0;32m~/miniconda3/envs/dev-py311/lib/python3.11/site-packages/sympy/integrals/integrals.py:1084\u001b[0m, in \u001b[0;36mIntegral._eval_integral\u001b[0;34m(self, f, x, meijerg, risch, manual, heurisch, conds, final)\u001b[0m\n\u001b[1;32m   1082\u001b[0m \u001b[38;5;28;01mtry\u001b[39;00m:\n\u001b[1;32m   1083\u001b[0m     \u001b[38;5;28;01mif\u001b[39;00m conds \u001b[38;5;241m==\u001b[39m \u001b[38;5;124m'\u001b[39m\u001b[38;5;124mpiecewise\u001b[39m\u001b[38;5;124m'\u001b[39m:\n\u001b[0;32m-> 1084\u001b[0m         h \u001b[38;5;241m=\u001b[39m \u001b[43mheurisch_wrapper\u001b[49m\u001b[43m(\u001b[49m\u001b[43mg\u001b[49m\u001b[43m,\u001b[49m\u001b[43m \u001b[49m\u001b[43mx\u001b[49m\u001b[43m,\u001b[49m\u001b[43m \u001b[49m\u001b[43mhints\u001b[49m\u001b[38;5;241;43m=\u001b[39;49m\u001b[43m[\u001b[49m\u001b[43m]\u001b[49m\u001b[43m)\u001b[49m\n\u001b[1;32m   1085\u001b[0m     \u001b[38;5;28;01melse\u001b[39;00m:\n\u001b[1;32m   1086\u001b[0m         h \u001b[38;5;241m=\u001b[39m heurisch_(g, x, hints\u001b[38;5;241m=\u001b[39m[])\n",
      "File \u001b[0;32m~/miniconda3/envs/dev-py311/lib/python3.11/site-packages/sympy/integrals/heurisch.py:143\u001b[0m, in \u001b[0;36mheurisch_wrapper\u001b[0;34m(f, x, rewrite, hints, mappings, retries, degree_offset, unnecessary_permutations, _try_heurisch)\u001b[0m\n\u001b[1;32m    140\u001b[0m \u001b[38;5;28;01mif\u001b[39;00m \u001b[38;5;129;01mnot\u001b[39;00m f\u001b[38;5;241m.\u001b[39mhas_free(x):\n\u001b[1;32m    141\u001b[0m     \u001b[38;5;28;01mreturn\u001b[39;00m f\u001b[38;5;241m*\u001b[39mx\n\u001b[0;32m--> 143\u001b[0m res \u001b[38;5;241m=\u001b[39m \u001b[43mheurisch\u001b[49m\u001b[43m(\u001b[49m\u001b[43mf\u001b[49m\u001b[43m,\u001b[49m\u001b[43m \u001b[49m\u001b[43mx\u001b[49m\u001b[43m,\u001b[49m\u001b[43m \u001b[49m\u001b[43mrewrite\u001b[49m\u001b[43m,\u001b[49m\u001b[43m \u001b[49m\u001b[43mhints\u001b[49m\u001b[43m,\u001b[49m\u001b[43m \u001b[49m\u001b[43mmappings\u001b[49m\u001b[43m,\u001b[49m\u001b[43m \u001b[49m\u001b[43mretries\u001b[49m\u001b[43m,\u001b[49m\u001b[43m \u001b[49m\u001b[43mdegree_offset\u001b[49m\u001b[43m,\u001b[49m\n\u001b[1;32m    144\u001b[0m \u001b[43m               \u001b[49m\u001b[43munnecessary_permutations\u001b[49m\u001b[43m,\u001b[49m\u001b[43m \u001b[49m\u001b[43m_try_heurisch\u001b[49m\u001b[43m)\u001b[49m\n\u001b[1;32m    145\u001b[0m \u001b[38;5;28;01mif\u001b[39;00m \u001b[38;5;129;01mnot\u001b[39;00m \u001b[38;5;28misinstance\u001b[39m(res, Basic):\n\u001b[1;32m    146\u001b[0m     \u001b[38;5;28;01mreturn\u001b[39;00m res\n",
      "File \u001b[0;32m~/miniconda3/envs/dev-py311/lib/python3.11/site-packages/sympy/integrals/heurisch.py:766\u001b[0m, in \u001b[0;36mheurisch\u001b[0;34m(f, x, rewrite, hints, mappings, retries, degree_offset, unnecessary_permutations, _try_heurisch)\u001b[0m\n\u001b[1;32m    764\u001b[0m \u001b[38;5;28;01melse\u001b[39;00m:\n\u001b[1;32m    765\u001b[0m     \u001b[38;5;28;01mif\u001b[39;00m retries \u001b[38;5;241m>\u001b[39m\u001b[38;5;241m=\u001b[39m \u001b[38;5;241m0\u001b[39m:\n\u001b[0;32m--> 766\u001b[0m         result \u001b[38;5;241m=\u001b[39m \u001b[43mheurisch\u001b[49m\u001b[43m(\u001b[49m\u001b[43mf\u001b[49m\u001b[43m,\u001b[49m\u001b[43m \u001b[49m\u001b[43mx\u001b[49m\u001b[43m,\u001b[49m\u001b[43m \u001b[49m\u001b[43mmappings\u001b[49m\u001b[38;5;241;43m=\u001b[39;49m\u001b[43mmappings\u001b[49m\u001b[43m,\u001b[49m\u001b[43m \u001b[49m\u001b[43mrewrite\u001b[49m\u001b[38;5;241;43m=\u001b[39;49m\u001b[43mrewrite\u001b[49m\u001b[43m,\u001b[49m\u001b[43m \u001b[49m\u001b[43mhints\u001b[49m\u001b[38;5;241;43m=\u001b[39;49m\u001b[43mhints\u001b[49m\u001b[43m,\u001b[49m\u001b[43m \u001b[49m\u001b[43mretries\u001b[49m\u001b[38;5;241;43m=\u001b[39;49m\u001b[43mretries\u001b[49m\u001b[43m \u001b[49m\u001b[38;5;241;43m-\u001b[39;49m\u001b[43m \u001b[49m\u001b[38;5;241;43m1\u001b[39;49m\u001b[43m,\u001b[49m\u001b[43m \u001b[49m\u001b[43munnecessary_permutations\u001b[49m\u001b[38;5;241;43m=\u001b[39;49m\u001b[43munnecessary_permutations\u001b[49m\u001b[43m)\u001b[49m\n\u001b[1;32m    768\u001b[0m         \u001b[38;5;28;01mif\u001b[39;00m result \u001b[38;5;129;01mis\u001b[39;00m \u001b[38;5;129;01mnot\u001b[39;00m \u001b[38;5;28;01mNone\u001b[39;00m:\n\u001b[1;32m    769\u001b[0m             \u001b[38;5;28;01mreturn\u001b[39;00m indep\u001b[38;5;241m*\u001b[39mresult\n",
      "File \u001b[0;32m~/miniconda3/envs/dev-py311/lib/python3.11/site-packages/sympy/integrals/heurisch.py:766\u001b[0m, in \u001b[0;36mheurisch\u001b[0;34m(f, x, rewrite, hints, mappings, retries, degree_offset, unnecessary_permutations, _try_heurisch)\u001b[0m\n\u001b[1;32m    764\u001b[0m \u001b[38;5;28;01melse\u001b[39;00m:\n\u001b[1;32m    765\u001b[0m     \u001b[38;5;28;01mif\u001b[39;00m retries \u001b[38;5;241m>\u001b[39m\u001b[38;5;241m=\u001b[39m \u001b[38;5;241m0\u001b[39m:\n\u001b[0;32m--> 766\u001b[0m         result \u001b[38;5;241m=\u001b[39m \u001b[43mheurisch\u001b[49m\u001b[43m(\u001b[49m\u001b[43mf\u001b[49m\u001b[43m,\u001b[49m\u001b[43m \u001b[49m\u001b[43mx\u001b[49m\u001b[43m,\u001b[49m\u001b[43m \u001b[49m\u001b[43mmappings\u001b[49m\u001b[38;5;241;43m=\u001b[39;49m\u001b[43mmappings\u001b[49m\u001b[43m,\u001b[49m\u001b[43m \u001b[49m\u001b[43mrewrite\u001b[49m\u001b[38;5;241;43m=\u001b[39;49m\u001b[43mrewrite\u001b[49m\u001b[43m,\u001b[49m\u001b[43m \u001b[49m\u001b[43mhints\u001b[49m\u001b[38;5;241;43m=\u001b[39;49m\u001b[43mhints\u001b[49m\u001b[43m,\u001b[49m\u001b[43m \u001b[49m\u001b[43mretries\u001b[49m\u001b[38;5;241;43m=\u001b[39;49m\u001b[43mretries\u001b[49m\u001b[43m \u001b[49m\u001b[38;5;241;43m-\u001b[39;49m\u001b[43m \u001b[49m\u001b[38;5;241;43m1\u001b[39;49m\u001b[43m,\u001b[49m\u001b[43m \u001b[49m\u001b[43munnecessary_permutations\u001b[49m\u001b[38;5;241;43m=\u001b[39;49m\u001b[43munnecessary_permutations\u001b[49m\u001b[43m)\u001b[49m\n\u001b[1;32m    768\u001b[0m         \u001b[38;5;28;01mif\u001b[39;00m result \u001b[38;5;129;01mis\u001b[39;00m \u001b[38;5;129;01mnot\u001b[39;00m \u001b[38;5;28;01mNone\u001b[39;00m:\n\u001b[1;32m    769\u001b[0m             \u001b[38;5;28;01mreturn\u001b[39;00m indep\u001b[38;5;241m*\u001b[39mresult\n",
      "File \u001b[0;32m~/miniconda3/envs/dev-py311/lib/python3.11/site-packages/sympy/integrals/heurisch.py:749\u001b[0m, in \u001b[0;36mheurisch\u001b[0;34m(f, x, rewrite, hints, mappings, retries, degree_offset, unnecessary_permutations, _try_heurisch)\u001b[0m\n\u001b[1;32m    745\u001b[0m     more_free \u001b[38;5;241m=\u001b[39m Fd\u001b[38;5;241m.\u001b[39mxreplace(\u001b[38;5;28mdict\u001b[39m(\u001b[38;5;28mzip\u001b[39m(V, (Dummy() \u001b[38;5;28;01mfor\u001b[39;00m _ \u001b[38;5;129;01min\u001b[39;00m V)))\n\u001b[1;32m    746\u001b[0m         )\u001b[38;5;241m.\u001b[39mfree_symbols \u001b[38;5;241m&\u001b[39m Fd\u001b[38;5;241m.\u001b[39mfree_symbols\n\u001b[1;32m    747\u001b[0m \u001b[38;5;28;01mif\u001b[39;00m \u001b[38;5;129;01mnot\u001b[39;00m more_free:\n\u001b[1;32m    748\u001b[0m     \u001b[38;5;66;03m# all free generators are identified in V\u001b[39;00m\n\u001b[0;32m--> 749\u001b[0m     solution \u001b[38;5;241m=\u001b[39m \u001b[43m_integrate\u001b[49m\u001b[43m(\u001b[49m\u001b[38;5;124;43m'\u001b[39;49m\u001b[38;5;124;43mQ\u001b[39;49m\u001b[38;5;124;43m'\u001b[39;49m\u001b[43m)\u001b[49m\n\u001b[1;32m    751\u001b[0m     \u001b[38;5;28;01mif\u001b[39;00m solution \u001b[38;5;129;01mis\u001b[39;00m \u001b[38;5;28;01mNone\u001b[39;00m:\n\u001b[1;32m    752\u001b[0m         solution \u001b[38;5;241m=\u001b[39m _integrate()\n",
      "File \u001b[0;32m~/miniconda3/envs/dev-py311/lib/python3.11/site-packages/sympy/integrals/heurisch.py:697\u001b[0m, in \u001b[0;36mheurisch.<locals>._integrate\u001b[0;34m(field)\u001b[0m\n\u001b[1;32m    695\u001b[0m candidate \u001b[38;5;241m=\u001b[39m poly_part\u001b[38;5;241m/\u001b[39mpoly_denom \u001b[38;5;241m+\u001b[39m Add(\u001b[38;5;241m*\u001b[39mlog_part) \u001b[38;5;241m+\u001b[39m Add(\u001b[38;5;241m*\u001b[39matan_part)\n\u001b[1;32m    696\u001b[0m h \u001b[38;5;241m=\u001b[39m F \u001b[38;5;241m-\u001b[39m _derivation(candidate) \u001b[38;5;241m/\u001b[39m denom\n\u001b[0;32m--> 697\u001b[0m raw_numer \u001b[38;5;241m=\u001b[39m \u001b[43mh\u001b[49m\u001b[38;5;241;43m.\u001b[39;49m\u001b[43mas_numer_denom\u001b[49m\u001b[43m(\u001b[49m\u001b[43m)\u001b[49m[\u001b[38;5;241m0\u001b[39m]\n\u001b[1;32m    699\u001b[0m \u001b[38;5;66;03m# Rewrite raw_numer as a polynomial in K[coeffs][V] where K is a field\u001b[39;00m\n\u001b[1;32m    700\u001b[0m \u001b[38;5;66;03m# that we have to determine. We can't use simply atoms() because log(3),\u001b[39;00m\n\u001b[1;32m    701\u001b[0m \u001b[38;5;66;03m# sqrt(y) and similar expressions can appear, leading to non-trivial\u001b[39;00m\n\u001b[1;32m    702\u001b[0m \u001b[38;5;66;03m# domains.\u001b[39;00m\n\u001b[1;32m    703\u001b[0m syms \u001b[38;5;241m=\u001b[39m \u001b[38;5;28mset\u001b[39m(poly_coeffs) \u001b[38;5;241m|\u001b[39m \u001b[38;5;28mset\u001b[39m(V)\n",
      "File \u001b[0;32m~/miniconda3/envs/dev-py311/lib/python3.11/site-packages/sympy/core/add.py:597\u001b[0m, in \u001b[0;36mAdd.as_numer_denom\u001b[0;34m(self)\u001b[0m\n\u001b[1;32m    595\u001b[0m nd \u001b[38;5;241m=\u001b[39m defaultdict(\u001b[38;5;28mlist\u001b[39m)\n\u001b[1;32m    596\u001b[0m \u001b[38;5;28;01mfor\u001b[39;00m f \u001b[38;5;129;01min\u001b[39;00m expr\u001b[38;5;241m.\u001b[39margs:\n\u001b[0;32m--> 597\u001b[0m     ni, di \u001b[38;5;241m=\u001b[39m \u001b[43mf\u001b[49m\u001b[38;5;241;43m.\u001b[39;49m\u001b[43mas_numer_denom\u001b[49m\u001b[43m(\u001b[49m\u001b[43m)\u001b[49m\n\u001b[1;32m    598\u001b[0m     nd[di]\u001b[38;5;241m.\u001b[39mappend(ni)\n\u001b[1;32m    600\u001b[0m \u001b[38;5;66;03m# check for quick exit\u001b[39;00m\n",
      "File \u001b[0;32m~/miniconda3/envs/dev-py311/lib/python3.11/site-packages/sympy/core/mul.py:1234\u001b[0m, in \u001b[0;36mMul.as_numer_denom\u001b[0;34m(self)\u001b[0m\n\u001b[1;32m   1230\u001b[0m \u001b[38;5;28;01mdef\u001b[39;00m \u001b[38;5;21mas_numer_denom\u001b[39m(\u001b[38;5;28mself\u001b[39m):\n\u001b[1;32m   1231\u001b[0m     \u001b[38;5;66;03m# don't use _from_args to rebuild the numerators and denominators\u001b[39;00m\n\u001b[1;32m   1232\u001b[0m     \u001b[38;5;66;03m# as the order is not guaranteed to be the same once they have\u001b[39;00m\n\u001b[1;32m   1233\u001b[0m     \u001b[38;5;66;03m# been separated from each other\u001b[39;00m\n\u001b[0;32m-> 1234\u001b[0m     numers, denoms \u001b[38;5;241m=\u001b[39m \u001b[38;5;28mlist\u001b[39m(\u001b[38;5;28mzip\u001b[39m(\u001b[38;5;241m*\u001b[39m\u001b[43m[\u001b[49m\u001b[43mf\u001b[49m\u001b[38;5;241;43m.\u001b[39;49m\u001b[43mas_numer_denom\u001b[49m\u001b[43m(\u001b[49m\u001b[43m)\u001b[49m\u001b[43m \u001b[49m\u001b[38;5;28;43;01mfor\u001b[39;49;00m\u001b[43m \u001b[49m\u001b[43mf\u001b[49m\u001b[43m \u001b[49m\u001b[38;5;129;43;01min\u001b[39;49;00m\u001b[43m \u001b[49m\u001b[38;5;28;43mself\u001b[39;49m\u001b[38;5;241;43m.\u001b[39;49m\u001b[43margs\u001b[49m\u001b[43m]\u001b[49m))\n\u001b[1;32m   1235\u001b[0m     \u001b[38;5;28;01mreturn\u001b[39;00m \u001b[38;5;28mself\u001b[39m\u001b[38;5;241m.\u001b[39mfunc(\u001b[38;5;241m*\u001b[39mnumers), \u001b[38;5;28mself\u001b[39m\u001b[38;5;241m.\u001b[39mfunc(\u001b[38;5;241m*\u001b[39mdenoms)\n",
      "File \u001b[0;32m~/miniconda3/envs/dev-py311/lib/python3.11/site-packages/sympy/core/mul.py:1234\u001b[0m, in \u001b[0;36m<listcomp>\u001b[0;34m(.0)\u001b[0m\n\u001b[1;32m   1230\u001b[0m \u001b[38;5;28;01mdef\u001b[39;00m \u001b[38;5;21mas_numer_denom\u001b[39m(\u001b[38;5;28mself\u001b[39m):\n\u001b[1;32m   1231\u001b[0m     \u001b[38;5;66;03m# don't use _from_args to rebuild the numerators and denominators\u001b[39;00m\n\u001b[1;32m   1232\u001b[0m     \u001b[38;5;66;03m# as the order is not guaranteed to be the same once they have\u001b[39;00m\n\u001b[1;32m   1233\u001b[0m     \u001b[38;5;66;03m# been separated from each other\u001b[39;00m\n\u001b[0;32m-> 1234\u001b[0m     numers, denoms \u001b[38;5;241m=\u001b[39m \u001b[38;5;28mlist\u001b[39m(\u001b[38;5;28mzip\u001b[39m(\u001b[38;5;241m*\u001b[39m[\u001b[43mf\u001b[49m\u001b[38;5;241;43m.\u001b[39;49m\u001b[43mas_numer_denom\u001b[49m\u001b[43m(\u001b[49m\u001b[43m)\u001b[49m \u001b[38;5;28;01mfor\u001b[39;00m f \u001b[38;5;129;01min\u001b[39;00m \u001b[38;5;28mself\u001b[39m\u001b[38;5;241m.\u001b[39margs]))\n\u001b[1;32m   1235\u001b[0m     \u001b[38;5;28;01mreturn\u001b[39;00m \u001b[38;5;28mself\u001b[39m\u001b[38;5;241m.\u001b[39mfunc(\u001b[38;5;241m*\u001b[39mnumers), \u001b[38;5;28mself\u001b[39m\u001b[38;5;241m.\u001b[39mfunc(\u001b[38;5;241m*\u001b[39mdenoms)\n",
      "File \u001b[0;32m~/miniconda3/envs/dev-py311/lib/python3.11/site-packages/sympy/core/add.py:597\u001b[0m, in \u001b[0;36mAdd.as_numer_denom\u001b[0;34m(self)\u001b[0m\n\u001b[1;32m    595\u001b[0m nd \u001b[38;5;241m=\u001b[39m defaultdict(\u001b[38;5;28mlist\u001b[39m)\n\u001b[1;32m    596\u001b[0m \u001b[38;5;28;01mfor\u001b[39;00m f \u001b[38;5;129;01min\u001b[39;00m expr\u001b[38;5;241m.\u001b[39margs:\n\u001b[0;32m--> 597\u001b[0m     ni, di \u001b[38;5;241m=\u001b[39m \u001b[43mf\u001b[49m\u001b[38;5;241;43m.\u001b[39;49m\u001b[43mas_numer_denom\u001b[49m\u001b[43m(\u001b[49m\u001b[43m)\u001b[49m\n\u001b[1;32m    598\u001b[0m     nd[di]\u001b[38;5;241m.\u001b[39mappend(ni)\n\u001b[1;32m    600\u001b[0m \u001b[38;5;66;03m# check for quick exit\u001b[39;00m\n",
      "File \u001b[0;32m~/miniconda3/envs/dev-py311/lib/python3.11/site-packages/sympy/core/mul.py:1234\u001b[0m, in \u001b[0;36mMul.as_numer_denom\u001b[0;34m(self)\u001b[0m\n\u001b[1;32m   1230\u001b[0m \u001b[38;5;28;01mdef\u001b[39;00m \u001b[38;5;21mas_numer_denom\u001b[39m(\u001b[38;5;28mself\u001b[39m):\n\u001b[1;32m   1231\u001b[0m     \u001b[38;5;66;03m# don't use _from_args to rebuild the numerators and denominators\u001b[39;00m\n\u001b[1;32m   1232\u001b[0m     \u001b[38;5;66;03m# as the order is not guaranteed to be the same once they have\u001b[39;00m\n\u001b[1;32m   1233\u001b[0m     \u001b[38;5;66;03m# been separated from each other\u001b[39;00m\n\u001b[0;32m-> 1234\u001b[0m     numers, denoms \u001b[38;5;241m=\u001b[39m \u001b[38;5;28mlist\u001b[39m(\u001b[38;5;28mzip\u001b[39m(\u001b[38;5;241m*\u001b[39m\u001b[43m[\u001b[49m\u001b[43mf\u001b[49m\u001b[38;5;241;43m.\u001b[39;49m\u001b[43mas_numer_denom\u001b[49m\u001b[43m(\u001b[49m\u001b[43m)\u001b[49m\u001b[43m \u001b[49m\u001b[38;5;28;43;01mfor\u001b[39;49;00m\u001b[43m \u001b[49m\u001b[43mf\u001b[49m\u001b[43m \u001b[49m\u001b[38;5;129;43;01min\u001b[39;49;00m\u001b[43m \u001b[49m\u001b[38;5;28;43mself\u001b[39;49m\u001b[38;5;241;43m.\u001b[39;49m\u001b[43margs\u001b[49m\u001b[43m]\u001b[49m))\n\u001b[1;32m   1235\u001b[0m     \u001b[38;5;28;01mreturn\u001b[39;00m \u001b[38;5;28mself\u001b[39m\u001b[38;5;241m.\u001b[39mfunc(\u001b[38;5;241m*\u001b[39mnumers), \u001b[38;5;28mself\u001b[39m\u001b[38;5;241m.\u001b[39mfunc(\u001b[38;5;241m*\u001b[39mdenoms)\n",
      "File \u001b[0;32m~/miniconda3/envs/dev-py311/lib/python3.11/site-packages/sympy/core/mul.py:1234\u001b[0m, in \u001b[0;36m<listcomp>\u001b[0;34m(.0)\u001b[0m\n\u001b[1;32m   1230\u001b[0m \u001b[38;5;28;01mdef\u001b[39;00m \u001b[38;5;21mas_numer_denom\u001b[39m(\u001b[38;5;28mself\u001b[39m):\n\u001b[1;32m   1231\u001b[0m     \u001b[38;5;66;03m# don't use _from_args to rebuild the numerators and denominators\u001b[39;00m\n\u001b[1;32m   1232\u001b[0m     \u001b[38;5;66;03m# as the order is not guaranteed to be the same once they have\u001b[39;00m\n\u001b[1;32m   1233\u001b[0m     \u001b[38;5;66;03m# been separated from each other\u001b[39;00m\n\u001b[0;32m-> 1234\u001b[0m     numers, denoms \u001b[38;5;241m=\u001b[39m \u001b[38;5;28mlist\u001b[39m(\u001b[38;5;28mzip\u001b[39m(\u001b[38;5;241m*\u001b[39m[\u001b[43mf\u001b[49m\u001b[38;5;241;43m.\u001b[39;49m\u001b[43mas_numer_denom\u001b[49m\u001b[43m(\u001b[49m\u001b[43m)\u001b[49m \u001b[38;5;28;01mfor\u001b[39;00m f \u001b[38;5;129;01min\u001b[39;00m \u001b[38;5;28mself\u001b[39m\u001b[38;5;241m.\u001b[39margs]))\n\u001b[1;32m   1235\u001b[0m     \u001b[38;5;28;01mreturn\u001b[39;00m \u001b[38;5;28mself\u001b[39m\u001b[38;5;241m.\u001b[39mfunc(\u001b[38;5;241m*\u001b[39mnumers), \u001b[38;5;28mself\u001b[39m\u001b[38;5;241m.\u001b[39mfunc(\u001b[38;5;241m*\u001b[39mdenoms)\n",
      "File \u001b[0;32m~/miniconda3/envs/dev-py311/lib/python3.11/site-packages/sympy/core/add.py:597\u001b[0m, in \u001b[0;36mAdd.as_numer_denom\u001b[0;34m(self)\u001b[0m\n\u001b[1;32m    595\u001b[0m nd \u001b[38;5;241m=\u001b[39m defaultdict(\u001b[38;5;28mlist\u001b[39m)\n\u001b[1;32m    596\u001b[0m \u001b[38;5;28;01mfor\u001b[39;00m f \u001b[38;5;129;01min\u001b[39;00m expr\u001b[38;5;241m.\u001b[39margs:\n\u001b[0;32m--> 597\u001b[0m     ni, di \u001b[38;5;241m=\u001b[39m \u001b[43mf\u001b[49m\u001b[38;5;241;43m.\u001b[39;49m\u001b[43mas_numer_denom\u001b[49m\u001b[43m(\u001b[49m\u001b[43m)\u001b[49m\n\u001b[1;32m    598\u001b[0m     nd[di]\u001b[38;5;241m.\u001b[39mappend(ni)\n\u001b[1;32m    600\u001b[0m \u001b[38;5;66;03m# check for quick exit\u001b[39;00m\n",
      "File \u001b[0;32m~/miniconda3/envs/dev-py311/lib/python3.11/site-packages/sympy/core/mul.py:1235\u001b[0m, in \u001b[0;36mMul.as_numer_denom\u001b[0;34m(self)\u001b[0m\n\u001b[1;32m   1230\u001b[0m \u001b[38;5;28;01mdef\u001b[39;00m \u001b[38;5;21mas_numer_denom\u001b[39m(\u001b[38;5;28mself\u001b[39m):\n\u001b[1;32m   1231\u001b[0m     \u001b[38;5;66;03m# don't use _from_args to rebuild the numerators and denominators\u001b[39;00m\n\u001b[1;32m   1232\u001b[0m     \u001b[38;5;66;03m# as the order is not guaranteed to be the same once they have\u001b[39;00m\n\u001b[1;32m   1233\u001b[0m     \u001b[38;5;66;03m# been separated from each other\u001b[39;00m\n\u001b[1;32m   1234\u001b[0m     numers, denoms \u001b[38;5;241m=\u001b[39m \u001b[38;5;28mlist\u001b[39m(\u001b[38;5;28mzip\u001b[39m(\u001b[38;5;241m*\u001b[39m[f\u001b[38;5;241m.\u001b[39mas_numer_denom() \u001b[38;5;28;01mfor\u001b[39;00m f \u001b[38;5;129;01min\u001b[39;00m \u001b[38;5;28mself\u001b[39m\u001b[38;5;241m.\u001b[39margs]))\n\u001b[0;32m-> 1235\u001b[0m     \u001b[38;5;28;01mreturn\u001b[39;00m \u001b[38;5;28;43mself\u001b[39;49m\u001b[38;5;241;43m.\u001b[39;49m\u001b[43mfunc\u001b[49m\u001b[43m(\u001b[49m\u001b[38;5;241;43m*\u001b[39;49m\u001b[43mnumers\u001b[49m\u001b[43m)\u001b[49m, \u001b[38;5;28mself\u001b[39m\u001b[38;5;241m.\u001b[39mfunc(\u001b[38;5;241m*\u001b[39mdenoms)\n",
      "File \u001b[0;32m~/miniconda3/envs/dev-py311/lib/python3.11/site-packages/sympy/core/cache.py:72\u001b[0m, in \u001b[0;36m__cacheit.<locals>.func_wrapper.<locals>.wrapper\u001b[0;34m(*args, **kwargs)\u001b[0m\n\u001b[1;32m     69\u001b[0m \u001b[38;5;129m@wraps\u001b[39m(func)\n\u001b[1;32m     70\u001b[0m \u001b[38;5;28;01mdef\u001b[39;00m \u001b[38;5;21mwrapper\u001b[39m(\u001b[38;5;241m*\u001b[39margs, \u001b[38;5;241m*\u001b[39m\u001b[38;5;241m*\u001b[39mkwargs):\n\u001b[1;32m     71\u001b[0m     \u001b[38;5;28;01mtry\u001b[39;00m:\n\u001b[0;32m---> 72\u001b[0m         retval \u001b[38;5;241m=\u001b[39m \u001b[43mcfunc\u001b[49m\u001b[43m(\u001b[49m\u001b[38;5;241;43m*\u001b[39;49m\u001b[43margs\u001b[49m\u001b[43m,\u001b[49m\u001b[43m \u001b[49m\u001b[38;5;241;43m*\u001b[39;49m\u001b[38;5;241;43m*\u001b[39;49m\u001b[43mkwargs\u001b[49m\u001b[43m)\u001b[49m\n\u001b[1;32m     73\u001b[0m     \u001b[38;5;28;01mexcept\u001b[39;00m \u001b[38;5;167;01mTypeError\u001b[39;00m \u001b[38;5;28;01mas\u001b[39;00m e:\n\u001b[1;32m     74\u001b[0m         \u001b[38;5;28;01mif\u001b[39;00m \u001b[38;5;129;01mnot\u001b[39;00m e\u001b[38;5;241m.\u001b[39margs \u001b[38;5;129;01mor\u001b[39;00m \u001b[38;5;129;01mnot\u001b[39;00m e\u001b[38;5;241m.\u001b[39margs[\u001b[38;5;241m0\u001b[39m]\u001b[38;5;241m.\u001b[39mstartswith(\u001b[38;5;124m'\u001b[39m\u001b[38;5;124munhashable type:\u001b[39m\u001b[38;5;124m'\u001b[39m):\n",
      "File \u001b[0;32m~/miniconda3/envs/dev-py311/lib/python3.11/site-packages/sympy/core/operations.py:57\u001b[0m, in \u001b[0;36mAssocOp.__new__\u001b[0;34m(cls, evaluate, _sympify, *args)\u001b[0m\n\u001b[1;32m     52\u001b[0m \u001b[38;5;129m@cacheit\u001b[39m\n\u001b[1;32m     53\u001b[0m \u001b[38;5;28;01mdef\u001b[39;00m \u001b[38;5;21m__new__\u001b[39m(\u001b[38;5;28mcls\u001b[39m, \u001b[38;5;241m*\u001b[39margs, evaluate\u001b[38;5;241m=\u001b[39m\u001b[38;5;28;01mNone\u001b[39;00m, _sympify\u001b[38;5;241m=\u001b[39m\u001b[38;5;28;01mTrue\u001b[39;00m):\n\u001b[1;32m     54\u001b[0m     \u001b[38;5;66;03m# Allow faster processing by passing ``_sympify=False``, if all arguments\u001b[39;00m\n\u001b[1;32m     55\u001b[0m     \u001b[38;5;66;03m# are already sympified.\u001b[39;00m\n\u001b[1;32m     56\u001b[0m     \u001b[38;5;28;01mif\u001b[39;00m _sympify:\n\u001b[0;32m---> 57\u001b[0m         args \u001b[38;5;241m=\u001b[39m \u001b[38;5;28mlist\u001b[39m(\u001b[38;5;28mmap\u001b[39m(_sympify_, args))\n\u001b[1;32m     59\u001b[0m     \u001b[38;5;66;03m# Disallow non-Expr args in Add/Mul\u001b[39;00m\n\u001b[1;32m     60\u001b[0m     typ \u001b[38;5;241m=\u001b[39m \u001b[38;5;28mcls\u001b[39m\u001b[38;5;241m.\u001b[39m_args_type\n",
      "File \u001b[0;32m~/miniconda3/envs/dev-py311/lib/python3.11/site-packages/sympy/core/sympify.py:528\u001b[0m, in \u001b[0;36m_sympify\u001b[0;34m(a)\u001b[0m\n\u001b[1;32m    502\u001b[0m \u001b[38;5;28;01mdef\u001b[39;00m \u001b[38;5;21m_sympify\u001b[39m(a):\n\u001b[1;32m    503\u001b[0m \u001b[38;5;250m    \u001b[39m\u001b[38;5;124;03m\"\"\"\u001b[39;00m\n\u001b[1;32m    504\u001b[0m \u001b[38;5;124;03m    Short version of :func:`~.sympify` for internal usage for ``__add__`` and\u001b[39;00m\n\u001b[1;32m    505\u001b[0m \u001b[38;5;124;03m    ``__eq__`` methods where it is ok to allow some things (like Python\u001b[39;00m\n\u001b[0;32m   (...)\u001b[0m\n\u001b[1;32m    526\u001b[0m \n\u001b[1;32m    527\u001b[0m \u001b[38;5;124;03m    \"\"\"\u001b[39;00m\n\u001b[0;32m--> 528\u001b[0m     \u001b[38;5;28;01mreturn\u001b[39;00m \u001b[43msympify\u001b[49m\u001b[43m(\u001b[49m\u001b[43ma\u001b[49m\u001b[43m,\u001b[49m\u001b[43m \u001b[49m\u001b[43mstrict\u001b[49m\u001b[38;5;241;43m=\u001b[39;49m\u001b[38;5;28;43;01mTrue\u001b[39;49;00m\u001b[43m)\u001b[49m\n",
      "File \u001b[0;32m~/miniconda3/envs/dev-py311/lib/python3.11/site-packages/sympy/core/sympify.py:361\u001b[0m, in \u001b[0;36msympify\u001b[0;34m(a, locals, convert_xor, strict, rational, evaluate)\u001b[0m\n\u001b[1;32m    103\u001b[0m \u001b[38;5;250m\u001b[39m\u001b[38;5;124;03m\"\"\"\u001b[39;00m\n\u001b[1;32m    104\u001b[0m \u001b[38;5;124;03mConverts an arbitrary expression to a type that can be used inside SymPy.\u001b[39;00m\n\u001b[1;32m    105\u001b[0m \n\u001b[0;32m   (...)\u001b[0m\n\u001b[1;32m    351\u001b[0m \n\u001b[1;32m    352\u001b[0m \u001b[38;5;124;03m\"\"\"\u001b[39;00m\n\u001b[1;32m    353\u001b[0m \u001b[38;5;66;03m# XXX: If a is a Basic subclass rather than instance (e.g. sin rather than\u001b[39;00m\n\u001b[1;32m    354\u001b[0m \u001b[38;5;66;03m# sin(x)) then a.__sympy__ will be the property. Only on the instance will\u001b[39;00m\n\u001b[1;32m    355\u001b[0m \u001b[38;5;66;03m# a.__sympy__ give the *value* of the property (True). Since sympify(sin)\u001b[39;00m\n\u001b[0;32m   (...)\u001b[0m\n\u001b[1;32m    359\u001b[0m \u001b[38;5;66;03m#\u001b[39;00m\n\u001b[1;32m    360\u001b[0m \u001b[38;5;66;03m# https://github.com/sympy/sympy/issues/20124\u001b[39;00m\n\u001b[0;32m--> 361\u001b[0m is_sympy \u001b[38;5;241m=\u001b[39m \u001b[38;5;28mgetattr\u001b[39m(a, \u001b[38;5;124m'\u001b[39m\u001b[38;5;124m__sympy__\u001b[39m\u001b[38;5;124m'\u001b[39m, \u001b[38;5;28;01mNone\u001b[39;00m)\n\u001b[1;32m    362\u001b[0m \u001b[38;5;28;01mif\u001b[39;00m is_sympy \u001b[38;5;129;01mis\u001b[39;00m \u001b[38;5;28;01mTrue\u001b[39;00m:\n\u001b[1;32m    363\u001b[0m     \u001b[38;5;28;01mreturn\u001b[39;00m a\n",
      "File \u001b[0;32m~/miniconda3/envs/dev-py311/lib/python3.11/site-packages/sympy/core/basic.py:112\u001b[0m, in \u001b[0;36mBasic.__sympy__\u001b[0;34m(self)\u001b[0m\n\u001b[1;32m    109\u001b[0m _args: \u001b[38;5;28mtuple\u001b[39m[Basic, \u001b[38;5;241m.\u001b[39m\u001b[38;5;241m.\u001b[39m\u001b[38;5;241m.\u001b[39m]\n\u001b[1;32m    110\u001b[0m _mhash: \u001b[38;5;28mint\u001b[39m \u001b[38;5;241m|\u001b[39m \u001b[38;5;28;01mNone\u001b[39;00m\n\u001b[0;32m--> 112\u001b[0m \u001b[38;5;129m@property\u001b[39m\n\u001b[1;32m    113\u001b[0m \u001b[38;5;28;01mdef\u001b[39;00m \u001b[38;5;21m__sympy__\u001b[39m(\u001b[38;5;28mself\u001b[39m):\n\u001b[1;32m    114\u001b[0m     \u001b[38;5;28;01mreturn\u001b[39;00m \u001b[38;5;28;01mTrue\u001b[39;00m\n\u001b[1;32m    116\u001b[0m \u001b[38;5;28;01mdef\u001b[39;00m \u001b[38;5;21m__init_subclass__\u001b[39m(\u001b[38;5;28mcls\u001b[39m):\n\u001b[1;32m    117\u001b[0m     \u001b[38;5;66;03m# Initialize the default_assumptions FactKB and also any assumptions\u001b[39;00m\n\u001b[1;32m    118\u001b[0m     \u001b[38;5;66;03m# property methods. This method will only be called for subclasses of\u001b[39;00m\n\u001b[1;32m    119\u001b[0m     \u001b[38;5;66;03m# Basic but not for Basic itself so we call\u001b[39;00m\n\u001b[1;32m    120\u001b[0m     \u001b[38;5;66;03m# _prepare_class_assumptions(Basic) below the class definition.\u001b[39;00m\n",
      "\u001b[0;31mKeyboardInterrupt\u001b[0m: "
     ]
    }
   ],
   "source": [
    "# Construct the matrix\n",
    "matrix_elements = []\n",
    "for i in range(nbasis):\n",
    "    row = []\n",
    "    for j in range(nbasis):\n",
    "        # Substitute m and n values into Hmn and evaluate\n",
    "        hmn.evalf(subs={m: i, n: j})\n",
    "        element = Hmn.subs({m: i, n: j}).doit()\n",
    "        row.append(element)\n",
    "    matrix_elements.append(row)\n",
    "\n",
    "# Print the matrix\n",
    "for row in matrix_elements:\n",
    "    print(row)"
   ]
  },
  {
   "cell_type": "code",
   "execution_count": 9,
   "id": "d39776df-af48-4ec7-a0f2-ae5a70a77960",
   "metadata": {},
   "outputs": [
    {
     "data": {
      "text/plain": [
       "[[146.666666666667*Wavefunction(0, 20.0)**2,\n",
       "  1.0*Integral(1.0*Wavefunction(0, x)*(0.25*x**2*Wavefunction(0.316227766016838*sin(0.05*pi*x), x) - 5.0*x*Wavefunction(0.316227766016838*sin(0.05*pi*x), x) - 1.0*Wavefunction(-0.000790569415042095*pi**2*sin(0.05*pi*x), x) + 25.0*Wavefunction(0.316227766016838*sin(0.05*pi*x), x)), (x, 0, 20.0)),\n",
       "  1.0*Integral(1.0*Wavefunction(0, x)*(0.25*x**2*Wavefunction(0.316227766016838*sin(0.1*pi*x), x) - 5.0*x*Wavefunction(0.316227766016838*sin(0.1*pi*x), x) - 1.0*Wavefunction(-0.00316227766016838*pi**2*sin(0.1*pi*x), x) + 25.0*Wavefunction(0.316227766016838*sin(0.1*pi*x), x)), (x, 0, 20.0)),\n",
       "  1.0*Integral(1.0*Wavefunction(0, x)*(0.25*x**2*Wavefunction(0.316227766016838*sin(0.15*pi*x), x) - 5.0*x*Wavefunction(0.316227766016838*sin(0.15*pi*x), x) - 1.0*Wavefunction(-0.00711512473537885*pi**2*sin(0.15*pi*x), x) + 25.0*Wavefunction(0.316227766016838*sin(0.15*pi*x), x)), (x, 0, 20.0)),\n",
       "  1.0*Integral(1.0*Wavefunction(0, x)*(0.25*x**2*Wavefunction(0.316227766016838*sin(0.2*pi*x), x) - 5.0*x*Wavefunction(0.316227766016838*sin(0.2*pi*x), x) - 1.0*Wavefunction(-0.0126491106406735*pi**2*sin(0.2*pi*x), x) + 25.0*Wavefunction(0.316227766016838*sin(0.2*pi*x), x)), (x, 0, 20.0)),\n",
       "  1.0*Integral(1.0*Wavefunction(0, x)*(0.25*x**2*Wavefunction(0.316227766016838*sin(pi*x/4), x) - 5.0*x*Wavefunction(0.316227766016838*sin(pi*x/4), x) - 1.0*Wavefunction(-0.0197642353760524*pi**2*sin(pi*x/4), x) + 25.0*Wavefunction(0.316227766016838*sin(pi*x/4), x)), (x, 0, 20.0)),\n",
       "  1.0*Integral(1.0*Wavefunction(0, x)*(0.25*x**2*Wavefunction(0.316227766016838*sin(0.3*pi*x), x) - 5.0*x*Wavefunction(0.316227766016838*sin(0.3*pi*x), x) - 1.0*Wavefunction(-0.0284604989415154*pi**2*sin(0.3*pi*x), x) + 25.0*Wavefunction(0.316227766016838*sin(0.3*pi*x), x)), (x, 0, 20.0)),\n",
       "  1.0*Integral(1.0*Wavefunction(0, x)*(0.25*x**2*Wavefunction(0.316227766016838*sin(0.35*pi*x), x) - 5.0*x*Wavefunction(0.316227766016838*sin(0.35*pi*x), x) - 1.0*Wavefunction(-0.0387379013370627*pi**2*sin(0.35*pi*x), x) + 25.0*Wavefunction(0.316227766016838*sin(0.35*pi*x), x)), (x, 0, 20.0)),\n",
       "  1.0*Integral(1.0*Wavefunction(0, x)*(0.25*x**2*Wavefunction(0.316227766016838*sin(0.4*pi*x), x) - 5.0*x*Wavefunction(0.316227766016838*sin(0.4*pi*x), x) - 1.0*Wavefunction(-0.0505964425626941*pi**2*sin(0.4*pi*x), x) + 25.0*Wavefunction(0.316227766016838*sin(0.4*pi*x), x)), (x, 0, 20.0)),\n",
       "  1.0*Integral(1.0*Wavefunction(0, x)*(0.25*x**2*Wavefunction(0.316227766016838*sin(0.45*pi*x), x) - 5.0*x*Wavefunction(0.316227766016838*sin(0.45*pi*x), x) - 1.0*Wavefunction(-0.0640361226184097*pi**2*sin(0.45*pi*x), x) + 25.0*Wavefunction(0.316227766016838*sin(0.45*pi*x), x)), (x, 0, 20.0))],\n",
       " [24.0*Integral(1.0*(0.0833333333333333*x - 1.0)*(0.125*x - 1.0)*Wavefunction(0.316227766016838*sin(0.05*pi*x), x)*Wavefunction(0, x), (x, 0, 20.0)),\n",
       "  1.0*Integral(1.0*Wavefunction(0.316227766016838*sin(0.05*pi*x), x)*(0.25*x**2*Wavefunction(0.316227766016838*sin(0.05*pi*x), x) - 5.0*x*Wavefunction(0.316227766016838*sin(0.05*pi*x), x) - 1.0*Wavefunction(-0.000790569415042095*pi**2*sin(0.05*pi*x), x) + 25.0*Wavefunction(0.316227766016838*sin(0.05*pi*x), x)), (x, 0, 20.0)),\n",
       "  1.0*Integral(1.0*Wavefunction(0.316227766016838*sin(0.05*pi*x), x)*(0.25*x**2*Wavefunction(0.316227766016838*sin(0.1*pi*x), x) - 5.0*x*Wavefunction(0.316227766016838*sin(0.1*pi*x), x) - 1.0*Wavefunction(-0.00316227766016838*pi**2*sin(0.1*pi*x), x) + 25.0*Wavefunction(0.316227766016838*sin(0.1*pi*x), x)), (x, 0, 20.0)),\n",
       "  1.0*Integral(1.0*Wavefunction(0.316227766016838*sin(0.05*pi*x), x)*(0.25*x**2*Wavefunction(0.316227766016838*sin(0.15*pi*x), x) - 5.0*x*Wavefunction(0.316227766016838*sin(0.15*pi*x), x) - 1.0*Wavefunction(-0.00711512473537885*pi**2*sin(0.15*pi*x), x) + 25.0*Wavefunction(0.316227766016838*sin(0.15*pi*x), x)), (x, 0, 20.0)),\n",
       "  1.0*Integral(1.0*Wavefunction(0.316227766016838*sin(0.05*pi*x), x)*(0.25*x**2*Wavefunction(0.316227766016838*sin(0.2*pi*x), x) - 5.0*x*Wavefunction(0.316227766016838*sin(0.2*pi*x), x) - 1.0*Wavefunction(-0.0126491106406735*pi**2*sin(0.2*pi*x), x) + 25.0*Wavefunction(0.316227766016838*sin(0.2*pi*x), x)), (x, 0, 20.0)),\n",
       "  1.0*Integral(1.0*Wavefunction(0.316227766016838*sin(0.05*pi*x), x)*(0.25*x**2*Wavefunction(0.316227766016838*sin(pi*x/4), x) - 5.0*x*Wavefunction(0.316227766016838*sin(pi*x/4), x) - 1.0*Wavefunction(-0.0197642353760524*pi**2*sin(pi*x/4), x) + 25.0*Wavefunction(0.316227766016838*sin(pi*x/4), x)), (x, 0, 20.0)),\n",
       "  1.0*Integral(1.0*Wavefunction(0.316227766016838*sin(0.05*pi*x), x)*(0.25*x**2*Wavefunction(0.316227766016838*sin(0.3*pi*x), x) - 5.0*x*Wavefunction(0.316227766016838*sin(0.3*pi*x), x) - 1.0*Wavefunction(-0.0284604989415154*pi**2*sin(0.3*pi*x), x) + 25.0*Wavefunction(0.316227766016838*sin(0.3*pi*x), x)), (x, 0, 20.0)),\n",
       "  1.0*Integral(1.0*Wavefunction(0.316227766016838*sin(0.05*pi*x), x)*(0.25*x**2*Wavefunction(0.316227766016838*sin(0.35*pi*x), x) - 5.0*x*Wavefunction(0.316227766016838*sin(0.35*pi*x), x) - 1.0*Wavefunction(-0.0387379013370627*pi**2*sin(0.35*pi*x), x) + 25.0*Wavefunction(0.316227766016838*sin(0.35*pi*x), x)), (x, 0, 20.0)),\n",
       "  1.0*Integral(1.0*Wavefunction(0.316227766016838*sin(0.05*pi*x), x)*(0.25*x**2*Wavefunction(0.316227766016838*sin(0.4*pi*x), x) - 5.0*x*Wavefunction(0.316227766016838*sin(0.4*pi*x), x) - 1.0*Wavefunction(-0.0505964425626941*pi**2*sin(0.4*pi*x), x) + 25.0*Wavefunction(0.316227766016838*sin(0.4*pi*x), x)), (x, 0, 20.0)),\n",
       "  1.0*Integral(1.0*Wavefunction(0.316227766016838*sin(0.05*pi*x), x)*(0.25*x**2*Wavefunction(0.316227766016838*sin(0.45*pi*x), x) - 5.0*x*Wavefunction(0.316227766016838*sin(0.45*pi*x), x) - 1.0*Wavefunction(-0.0640361226184097*pi**2*sin(0.45*pi*x), x) + 25.0*Wavefunction(0.316227766016838*sin(0.45*pi*x), x)), (x, 0, 20.0))],\n",
       " [24.0*Integral(1.0*(0.0833333333333333*x - 1.0)*(0.125*x - 1.0)*Wavefunction(0.316227766016838*sin(0.1*pi*x), x)*Wavefunction(0, x), (x, 0, 20.0)),\n",
       "  1.0*Integral(1.0*Wavefunction(0.316227766016838*sin(0.1*pi*x), x)*(0.25*x**2*Wavefunction(0.316227766016838*sin(0.05*pi*x), x) - 5.0*x*Wavefunction(0.316227766016838*sin(0.05*pi*x), x) - 1.0*Wavefunction(-0.000790569415042095*pi**2*sin(0.05*pi*x), x) + 25.0*Wavefunction(0.316227766016838*sin(0.05*pi*x), x)), (x, 0, 20.0)),\n",
       "  1.0*Integral(1.0*Wavefunction(0.316227766016838*sin(0.1*pi*x), x)*(0.25*x**2*Wavefunction(0.316227766016838*sin(0.1*pi*x), x) - 5.0*x*Wavefunction(0.316227766016838*sin(0.1*pi*x), x) - 1.0*Wavefunction(-0.00316227766016838*pi**2*sin(0.1*pi*x), x) + 25.0*Wavefunction(0.316227766016838*sin(0.1*pi*x), x)), (x, 0, 20.0)),\n",
       "  1.0*Integral(1.0*Wavefunction(0.316227766016838*sin(0.1*pi*x), x)*(0.25*x**2*Wavefunction(0.316227766016838*sin(0.15*pi*x), x) - 5.0*x*Wavefunction(0.316227766016838*sin(0.15*pi*x), x) - 1.0*Wavefunction(-0.00711512473537885*pi**2*sin(0.15*pi*x), x) + 25.0*Wavefunction(0.316227766016838*sin(0.15*pi*x), x)), (x, 0, 20.0)),\n",
       "  1.0*Integral(1.0*Wavefunction(0.316227766016838*sin(0.1*pi*x), x)*(0.25*x**2*Wavefunction(0.316227766016838*sin(0.2*pi*x), x) - 5.0*x*Wavefunction(0.316227766016838*sin(0.2*pi*x), x) - 1.0*Wavefunction(-0.0126491106406735*pi**2*sin(0.2*pi*x), x) + 25.0*Wavefunction(0.316227766016838*sin(0.2*pi*x), x)), (x, 0, 20.0)),\n",
       "  1.0*Integral(1.0*Wavefunction(0.316227766016838*sin(0.1*pi*x), x)*(0.25*x**2*Wavefunction(0.316227766016838*sin(pi*x/4), x) - 5.0*x*Wavefunction(0.316227766016838*sin(pi*x/4), x) - 1.0*Wavefunction(-0.0197642353760524*pi**2*sin(pi*x/4), x) + 25.0*Wavefunction(0.316227766016838*sin(pi*x/4), x)), (x, 0, 20.0)),\n",
       "  1.0*Integral(1.0*Wavefunction(0.316227766016838*sin(0.1*pi*x), x)*(0.25*x**2*Wavefunction(0.316227766016838*sin(0.3*pi*x), x) - 5.0*x*Wavefunction(0.316227766016838*sin(0.3*pi*x), x) - 1.0*Wavefunction(-0.0284604989415154*pi**2*sin(0.3*pi*x), x) + 25.0*Wavefunction(0.316227766016838*sin(0.3*pi*x), x)), (x, 0, 20.0)),\n",
       "  1.0*Integral(1.0*Wavefunction(0.316227766016838*sin(0.1*pi*x), x)*(0.25*x**2*Wavefunction(0.316227766016838*sin(0.35*pi*x), x) - 5.0*x*Wavefunction(0.316227766016838*sin(0.35*pi*x), x) - 1.0*Wavefunction(-0.0387379013370627*pi**2*sin(0.35*pi*x), x) + 25.0*Wavefunction(0.316227766016838*sin(0.35*pi*x), x)), (x, 0, 20.0)),\n",
       "  1.0*Integral(1.0*Wavefunction(0.316227766016838*sin(0.1*pi*x), x)*(0.25*x**2*Wavefunction(0.316227766016838*sin(0.4*pi*x), x) - 5.0*x*Wavefunction(0.316227766016838*sin(0.4*pi*x), x) - 1.0*Wavefunction(-0.0505964425626941*pi**2*sin(0.4*pi*x), x) + 25.0*Wavefunction(0.316227766016838*sin(0.4*pi*x), x)), (x, 0, 20.0)),\n",
       "  1.0*Integral(1.0*Wavefunction(0.316227766016838*sin(0.1*pi*x), x)*(0.25*x**2*Wavefunction(0.316227766016838*sin(0.45*pi*x), x) - 5.0*x*Wavefunction(0.316227766016838*sin(0.45*pi*x), x) - 1.0*Wavefunction(-0.0640361226184097*pi**2*sin(0.45*pi*x), x) + 25.0*Wavefunction(0.316227766016838*sin(0.45*pi*x), x)), (x, 0, 20.0))]]"
      ]
     },
     "execution_count": 9,
     "metadata": {},
     "output_type": "execute_result"
    }
   ],
   "source": [
    "matrix_elements"
   ]
  },
  {
   "cell_type": "code",
   "execution_count": 32,
   "id": "affc85c5-65eb-4fac-b3b1-c7dad0b0a84b",
   "metadata": {
    "tags": []
   },
   "outputs": [
    {
     "data": {
      "text/plain": [
       "True"
      ]
     },
     "execution_count": 32,
     "metadata": {},
     "output_type": "execute_result"
    }
   ],
   "source": [
    "Derivative(f(x), x) == diff(f(x), x)"
   ]
  },
  {
   "cell_type": "code",
   "execution_count": null,
   "id": "36d150d1-e692-4dd8-8225-8b0a68a684ba",
   "metadata": {},
   "outputs": [],
   "source": [
    "Derivative"
   ]
  },
  {
   "cell_type": "code",
   "execution_count": 33,
   "id": "be163fdf-039c-41b8-b8a7-f8d25658b4e7",
   "metadata": {
    "tags": []
   },
   "outputs": [
    {
     "data": {
      "text/latex": [
       "$\\displaystyle \\frac{d^{2}}{d x^{2}} f{\\left(x \\right)}$"
      ],
      "text/plain": [
       "Derivative(f(x), (x, 2))"
      ]
     },
     "execution_count": 33,
     "metadata": {},
     "output_type": "execute_result"
    }
   ],
   "source": [
    "diff(f(x), x, x)"
   ]
  },
  {
   "cell_type": "code",
   "execution_count": 12,
   "id": "5e90307b-dc10-45aa-8699-948bb5a1a195",
   "metadata": {
    "tags": []
   },
   "outputs": [],
   "source": [
    "f = phi.integrate(x)"
   ]
  },
  {
   "cell_type": "code",
   "execution_count": 18,
   "id": "7f1b6816-508d-4617-91fe-2deee17a0cdb",
   "metadata": {
    "tags": []
   },
   "outputs": [
    {
     "data": {
      "text/latex": [
       "$\\displaystyle - 0.671056161393161 \\cos{\\left(\\frac{3 \\pi x}{20} \\right)}$"
      ],
      "text/plain": [
       "-0.671056161393161*cos(3*pi*x/20)"
      ]
     },
     "execution_count": 18,
     "metadata": {},
     "output_type": "execute_result"
    }
   ],
   "source": [
    "f.evalf(subs={n:3})"
   ]
  },
  {
   "cell_type": "code",
   "execution_count": null,
   "id": "a051f4c2-ec04-47b2-8549-b15239020d7d",
   "metadata": {},
   "outputs": [],
   "source": []
  }
 ],
 "metadata": {
  "kernelspec": {
   "display_name": "dev-py311",
   "language": "python",
   "name": "dev-py311"
  },
  "language_info": {
   "codemirror_mode": {
    "name": "ipython",
    "version": 3
   },
   "file_extension": ".py",
   "mimetype": "text/x-python",
   "name": "python",
   "nbconvert_exporter": "python",
   "pygments_lexer": "ipython3",
   "version": "3.11.5"
  },
  "widgets": {
   "application/vnd.jupyter.widget-state+json": {
    "state": {},
    "version_major": 2,
    "version_minor": 0
   }
  }
 },
 "nbformat": 4,
 "nbformat_minor": 5
}
